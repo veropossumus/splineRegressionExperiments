{
 "cells": [
  {
   "cell_type": "code",
   "execution_count": 2,
   "outputs": [],
   "source": [
    "degrees = [x for x in range(5)]"
   ],
   "metadata": {
    "collapsed": false,
    "ExecuteTime": {
     "end_time": "2024-02-06T11:21:45.675911600Z",
     "start_time": "2024-02-06T11:21:45.651967400Z"
    }
   },
   "id": "3f5a1ecf94a1c012"
  },
  {
   "cell_type": "code",
   "execution_count": 4,
   "outputs": [
    {
     "data": {
      "text/plain": "\"from data_utils import load_ucr_archive, load_ucr_dataset\\nimport seaborn as sns\\ndata = load_ucr_archive(min_ts_length=80,max_ts_length=1000)\\nts_lengths = [len(x[1]['data']) for x in data.iterrows()]\\nprint(ts_lengths)\\nsns.displot(ts_lengths)\\n\\ndata = load_ucr_dataset(2)\\n\\ndata.head()\""
     },
     "execution_count": 4,
     "metadata": {},
     "output_type": "execute_result"
    }
   ],
   "source": [
    "\"\"\"from data_utils import load_ucr_archive, load_ucr_dataset\n",
    "import seaborn as sns\n",
    "data = load_ucr_archive(min_ts_length=80,max_ts_length=1000)\n",
    "ts_lengths = [len(x[1]['data']) for x in data.iterrows()]\n",
    "print(ts_lengths)\n",
    "sns.displot(ts_lengths)\n",
    "\"\"\"\n"
   ],
   "metadata": {
    "collapsed": false,
    "ExecuteTime": {
     "end_time": "2024-02-06T11:21:45.676913Z",
     "start_time": "2024-02-06T11:21:45.661789400Z"
    }
   },
   "id": "18bb51eac5d6048b"
  },
  {
   "cell_type": "code",
   "execution_count": 5,
   "outputs": [
    {
     "ename": "KeyboardInterrupt",
     "evalue": "",
     "output_type": "error",
     "traceback": [
      "\u001B[1;31m---------------------------------------------------------------------------\u001B[0m",
      "\u001B[1;31mKeyboardInterrupt\u001B[0m                         Traceback (most recent call last)",
      "Cell \u001B[1;32mIn[5], line 3\u001B[0m\n\u001B[0;32m      1\u001B[0m \u001B[38;5;28;01mfrom\u001B[39;00m \u001B[38;5;21;01mdata_utils\u001B[39;00m \u001B[38;5;28;01mimport\u001B[39;00m load_ucr_data_short\n\u001B[1;32m----> 3\u001B[0m data \u001B[38;5;241m=\u001B[39m \u001B[43mload_ucr_data_short\u001B[49m\u001B[43m(\u001B[49m\u001B[43m)\u001B[49m\n\u001B[0;32m      4\u001B[0m \u001B[38;5;28mprint\u001B[39m(\u001B[38;5;124m\"\u001B[39m\u001B[38;5;124mnumber of time series:\u001B[39m\u001B[38;5;124m\"\u001B[39m, \u001B[38;5;28mlen\u001B[39m(data\u001B[38;5;241m.\u001B[39mindex))\n\u001B[0;32m      5\u001B[0m data\u001B[38;5;241m.\u001B[39mhead()\n",
      "File \u001B[1;32m~\\Desktop\\Bachelorarbeit_Info\\Code\\splineRegressionExperiments\\data_utils.py:89\u001B[0m, in \u001B[0;36mload_ucr_data_short\u001B[1;34m()\u001B[0m\n\u001B[0;32m     88\u001B[0m \u001B[38;5;28;01mdef\u001B[39;00m \u001B[38;5;21mload_ucr_data_short\u001B[39m():\n\u001B[1;32m---> 89\u001B[0m     \u001B[38;5;28;01mreturn\u001B[39;00m \u001B[43mload_ucr_archive\u001B[49m\u001B[43m(\u001B[49m\u001B[38;5;241;43m50\u001B[39;49m\u001B[43m,\u001B[49m\u001B[43m \u001B[49m\u001B[38;5;241;43m199\u001B[39;49m\u001B[43m)\u001B[49m\n",
      "File \u001B[1;32m~\\Desktop\\Bachelorarbeit_Info\\Code\\splineRegressionExperiments\\data_utils.py:76\u001B[0m, in \u001B[0;36mload_ucr_archive\u001B[1;34m(min_ts_length, max_ts_length)\u001B[0m\n\u001B[0;32m     74\u001B[0m datasets \u001B[38;5;241m=\u001B[39m []\n\u001B[0;32m     75\u001B[0m \u001B[38;5;28;01mfor\u001B[39;00m i \u001B[38;5;129;01min\u001B[39;00m \u001B[38;5;28mrange\u001B[39m(\u001B[38;5;28mlen\u001B[39m(os\u001B[38;5;241m.\u001B[39mlistdir(path))):\n\u001B[1;32m---> 76\u001B[0m     datasets\u001B[38;5;241m.\u001B[39mextend(\u001B[43mload_ucr_dataset_as_dict\u001B[49m\u001B[43m(\u001B[49m\u001B[43mi\u001B[49m\u001B[43m)\u001B[49m)\n\u001B[0;32m     78\u001B[0m df \u001B[38;5;241m=\u001B[39m pd\u001B[38;5;241m.\u001B[39mDataFrame(datasets)\n\u001B[0;32m     80\u001B[0m \u001B[38;5;28;01mif\u001B[39;00m min_ts_length \u001B[38;5;129;01mis\u001B[39;00m \u001B[38;5;129;01mnot\u001B[39;00m \u001B[38;5;28;01mNone\u001B[39;00m:\n",
      "File \u001B[1;32m~\\Desktop\\Bachelorarbeit_Info\\Code\\splineRegressionExperiments\\data_utils.py:57\u001B[0m, in \u001B[0;36mload_ucr_dataset_as_dict\u001B[1;34m(number)\u001B[0m\n\u001B[0;32m     55\u001B[0m time_series \u001B[38;5;241m=\u001B[39m dataset[i]\u001B[38;5;241m.\u001B[39msqueeze()\n\u001B[0;32m     56\u001B[0m \u001B[38;5;28;01mif\u001B[39;00m \u001B[38;5;129;01mnot\u001B[39;00m np\u001B[38;5;241m.\u001B[39misnan(time_series)\u001B[38;5;241m.\u001B[39many():\n\u001B[1;32m---> 57\u001B[0m     data \u001B[38;5;241m=\u001B[39m \u001B[43mnormalize\u001B[49m\u001B[43m(\u001B[49m\u001B[43mtime_series\u001B[49m\u001B[43m)\u001B[49m\n\u001B[0;32m     58\u001B[0m     file_contents\u001B[38;5;241m.\u001B[39mappend({\u001B[38;5;124m'\u001B[39m\u001B[38;5;124mdataset\u001B[39m\u001B[38;5;124m'\u001B[39m: file_name, \u001B[38;5;124m'\u001B[39m\u001B[38;5;124mnum\u001B[39m\u001B[38;5;124m'\u001B[39m: counter, \u001B[38;5;124m'\u001B[39m\u001B[38;5;124mdata\u001B[39m\u001B[38;5;124m'\u001B[39m: data})\n\u001B[0;32m     59\u001B[0m     counter \u001B[38;5;241m+\u001B[39m\u001B[38;5;241m=\u001B[39m \u001B[38;5;241m1\u001B[39m\n",
      "File \u001B[1;32m~\\Desktop\\Bachelorarbeit_Info\\Code\\splineRegressionExperiments\\data_utils.py:102\u001B[0m, in \u001B[0;36mnormalize\u001B[1;34m(time_series)\u001B[0m\n\u001B[0;32m     96\u001B[0m \u001B[38;5;28;01mdef\u001B[39;00m \u001B[38;5;21mnormalize\u001B[39m(time_series):\n\u001B[0;32m     97\u001B[0m \u001B[38;5;250m    \u001B[39m\u001B[38;5;124;03m\"\"\"\u001B[39;00m\n\u001B[0;32m     98\u001B[0m \u001B[38;5;124;03m    Normalizes a time series.\u001B[39;00m\n\u001B[0;32m     99\u001B[0m \u001B[38;5;124;03m    :param [float] time_series: a list of y-values\u001B[39;00m\n\u001B[0;32m    100\u001B[0m \u001B[38;5;124;03m    :return [(float,float)] data_tuples: normalized y-values and the corresponding x-values\u001B[39;00m\n\u001B[0;32m    101\u001B[0m \u001B[38;5;124;03m    \"\"\"\u001B[39;00m\n\u001B[1;32m--> 102\u001B[0m     normalized_ts \u001B[38;5;241m=\u001B[39m \u001B[43mscipy\u001B[49m\u001B[38;5;241;43m.\u001B[39;49m\u001B[43mstats\u001B[49m\u001B[38;5;241;43m.\u001B[39;49m\u001B[43mzscore\u001B[49m\u001B[43m(\u001B[49m\u001B[43mtime_series\u001B[49m\u001B[43m)\u001B[49m\n\u001B[0;32m    103\u001B[0m     data_tuples \u001B[38;5;241m=\u001B[39m [(i \u001B[38;5;241m/\u001B[39m (\u001B[38;5;28mlen\u001B[39m(normalized_ts) \u001B[38;5;241m-\u001B[39m \u001B[38;5;241m1\u001B[39m), normalized_ts[i]) \u001B[38;5;28;01mfor\u001B[39;00m i \u001B[38;5;129;01min\u001B[39;00m \u001B[38;5;28mrange\u001B[39m(\u001B[38;5;28mlen\u001B[39m(normalized_ts))]\n\u001B[0;32m    104\u001B[0m     \u001B[38;5;28;01mreturn\u001B[39;00m data_tuples\n",
      "File \u001B[1;32m~\\Desktop\\Bachelorarbeit_Info\\Code\\splineRegressionExperiments\\venv\\Lib\\site-packages\\scipy\\stats\\_stats_py.py:2941\u001B[0m, in \u001B[0;36mzscore\u001B[1;34m(a, axis, ddof, nan_policy)\u001B[0m\n\u001B[0;32m   2859\u001B[0m \u001B[38;5;28;01mdef\u001B[39;00m \u001B[38;5;21mzscore\u001B[39m(a, axis\u001B[38;5;241m=\u001B[39m\u001B[38;5;241m0\u001B[39m, ddof\u001B[38;5;241m=\u001B[39m\u001B[38;5;241m0\u001B[39m, nan_policy\u001B[38;5;241m=\u001B[39m\u001B[38;5;124m'\u001B[39m\u001B[38;5;124mpropagate\u001B[39m\u001B[38;5;124m'\u001B[39m):\n\u001B[0;32m   2860\u001B[0m \u001B[38;5;250m    \u001B[39m\u001B[38;5;124;03m\"\"\"\u001B[39;00m\n\u001B[0;32m   2861\u001B[0m \u001B[38;5;124;03m    Compute the z score.\u001B[39;00m\n\u001B[0;32m   2862\u001B[0m \n\u001B[1;32m   (...)\u001B[0m\n\u001B[0;32m   2939\u001B[0m \u001B[38;5;124;03m           [-0.91611681, -0.89090508,  1.4983032 ,  0.88731639, -0.5785977 ]])\u001B[39;00m\n\u001B[0;32m   2940\u001B[0m \u001B[38;5;124;03m    \"\"\"\u001B[39;00m\n\u001B[1;32m-> 2941\u001B[0m     \u001B[38;5;28;01mreturn\u001B[39;00m \u001B[43mzmap\u001B[49m\u001B[43m(\u001B[49m\u001B[43ma\u001B[49m\u001B[43m,\u001B[49m\u001B[43m \u001B[49m\u001B[43ma\u001B[49m\u001B[43m,\u001B[49m\u001B[43m \u001B[49m\u001B[43maxis\u001B[49m\u001B[38;5;241;43m=\u001B[39;49m\u001B[43maxis\u001B[49m\u001B[43m,\u001B[49m\u001B[43m \u001B[49m\u001B[43mddof\u001B[49m\u001B[38;5;241;43m=\u001B[39;49m\u001B[43mddof\u001B[49m\u001B[43m,\u001B[49m\u001B[43m \u001B[49m\u001B[43mnan_policy\u001B[49m\u001B[38;5;241;43m=\u001B[39;49m\u001B[43mnan_policy\u001B[49m\u001B[43m)\u001B[49m\n",
      "File \u001B[1;32m~\\Desktop\\Bachelorarbeit_Info\\Code\\splineRegressionExperiments\\venv\\Lib\\site-packages\\scipy\\stats\\_stats_py.py:3106\u001B[0m, in \u001B[0;36mzmap\u001B[1;34m(scores, compare, axis, ddof, nan_policy)\u001B[0m\n\u001B[0;32m   3104\u001B[0m \u001B[38;5;28;01melse\u001B[39;00m:\n\u001B[0;32m   3105\u001B[0m     mn \u001B[38;5;241m=\u001B[39m a\u001B[38;5;241m.\u001B[39mmean(axis\u001B[38;5;241m=\u001B[39maxis, keepdims\u001B[38;5;241m=\u001B[39m\u001B[38;5;28;01mTrue\u001B[39;00m)\n\u001B[1;32m-> 3106\u001B[0m     std \u001B[38;5;241m=\u001B[39m \u001B[43ma\u001B[49m\u001B[38;5;241;43m.\u001B[39;49m\u001B[43mstd\u001B[49m\u001B[43m(\u001B[49m\u001B[43maxis\u001B[49m\u001B[38;5;241;43m=\u001B[39;49m\u001B[43maxis\u001B[49m\u001B[43m,\u001B[49m\u001B[43m \u001B[49m\u001B[43mddof\u001B[49m\u001B[38;5;241;43m=\u001B[39;49m\u001B[43mddof\u001B[49m\u001B[43m,\u001B[49m\u001B[43m \u001B[49m\u001B[43mkeepdims\u001B[49m\u001B[38;5;241;43m=\u001B[39;49m\u001B[38;5;28;43;01mTrue\u001B[39;49;00m\u001B[43m)\u001B[49m\n\u001B[0;32m   3107\u001B[0m     \u001B[38;5;66;03m# The intent is to check whether all elements of `a` along `axis` are\u001B[39;00m\n\u001B[0;32m   3108\u001B[0m     \u001B[38;5;66;03m# identical. Due to finite precision arithmetic, comparing elements\u001B[39;00m\n\u001B[0;32m   3109\u001B[0m     \u001B[38;5;66;03m# against `mn` doesn't work. Previously, this compared elements to\u001B[39;00m\n\u001B[0;32m   3110\u001B[0m     \u001B[38;5;66;03m# `_first`, but that extracts the element at index 0 regardless of\u001B[39;00m\n\u001B[0;32m   3111\u001B[0m     \u001B[38;5;66;03m# whether it is masked. As a simple fix, compare against `min`.\u001B[39;00m\n\u001B[0;32m   3112\u001B[0m     a0 \u001B[38;5;241m=\u001B[39m a\u001B[38;5;241m.\u001B[39mmin(axis\u001B[38;5;241m=\u001B[39maxis, keepdims\u001B[38;5;241m=\u001B[39m\u001B[38;5;28;01mTrue\u001B[39;00m)\n",
      "File \u001B[1;32m~\\Desktop\\Bachelorarbeit_Info\\Code\\splineRegressionExperiments\\venv\\Lib\\site-packages\\numpy\\core\\_methods.py:206\u001B[0m, in \u001B[0;36m_std\u001B[1;34m(a, axis, dtype, out, ddof, keepdims, where)\u001B[0m\n\u001B[0;32m    204\u001B[0m \u001B[38;5;28;01mdef\u001B[39;00m \u001B[38;5;21m_std\u001B[39m(a, axis\u001B[38;5;241m=\u001B[39m\u001B[38;5;28;01mNone\u001B[39;00m, dtype\u001B[38;5;241m=\u001B[39m\u001B[38;5;28;01mNone\u001B[39;00m, out\u001B[38;5;241m=\u001B[39m\u001B[38;5;28;01mNone\u001B[39;00m, ddof\u001B[38;5;241m=\u001B[39m\u001B[38;5;241m0\u001B[39m, keepdims\u001B[38;5;241m=\u001B[39m\u001B[38;5;28;01mFalse\u001B[39;00m, \u001B[38;5;241m*\u001B[39m,\n\u001B[0;32m    205\u001B[0m          where\u001B[38;5;241m=\u001B[39m\u001B[38;5;28;01mTrue\u001B[39;00m):\n\u001B[1;32m--> 206\u001B[0m     ret \u001B[38;5;241m=\u001B[39m \u001B[43m_var\u001B[49m\u001B[43m(\u001B[49m\u001B[43ma\u001B[49m\u001B[43m,\u001B[49m\u001B[43m \u001B[49m\u001B[43maxis\u001B[49m\u001B[38;5;241;43m=\u001B[39;49m\u001B[43maxis\u001B[49m\u001B[43m,\u001B[49m\u001B[43m \u001B[49m\u001B[43mdtype\u001B[49m\u001B[38;5;241;43m=\u001B[39;49m\u001B[43mdtype\u001B[49m\u001B[43m,\u001B[49m\u001B[43m \u001B[49m\u001B[43mout\u001B[49m\u001B[38;5;241;43m=\u001B[39;49m\u001B[43mout\u001B[49m\u001B[43m,\u001B[49m\u001B[43m \u001B[49m\u001B[43mddof\u001B[49m\u001B[38;5;241;43m=\u001B[39;49m\u001B[43mddof\u001B[49m\u001B[43m,\u001B[49m\n\u001B[0;32m    207\u001B[0m \u001B[43m               \u001B[49m\u001B[43mkeepdims\u001B[49m\u001B[38;5;241;43m=\u001B[39;49m\u001B[43mkeepdims\u001B[49m\u001B[43m,\u001B[49m\u001B[43m \u001B[49m\u001B[43mwhere\u001B[49m\u001B[38;5;241;43m=\u001B[39;49m\u001B[43mwhere\u001B[49m\u001B[43m)\u001B[49m\n\u001B[0;32m    209\u001B[0m     \u001B[38;5;28;01mif\u001B[39;00m \u001B[38;5;28misinstance\u001B[39m(ret, mu\u001B[38;5;241m.\u001B[39mndarray):\n\u001B[0;32m    210\u001B[0m         ret \u001B[38;5;241m=\u001B[39m um\u001B[38;5;241m.\u001B[39msqrt(ret, out\u001B[38;5;241m=\u001B[39mret)\n",
      "File \u001B[1;32m~\\Desktop\\Bachelorarbeit_Info\\Code\\splineRegressionExperiments\\venv\\Lib\\site-packages\\numpy\\core\\_methods.py:187\u001B[0m, in \u001B[0;36m_var\u001B[1;34m(a, axis, dtype, out, ddof, keepdims, where)\u001B[0m\n\u001B[0;32m    182\u001B[0m \u001B[38;5;66;03m# Most general case; includes handling object arrays containing imaginary\u001B[39;00m\n\u001B[0;32m    183\u001B[0m \u001B[38;5;66;03m# numbers and complex types with non-native byteorder\u001B[39;00m\n\u001B[0;32m    184\u001B[0m \u001B[38;5;28;01melse\u001B[39;00m:\n\u001B[0;32m    185\u001B[0m     x \u001B[38;5;241m=\u001B[39m um\u001B[38;5;241m.\u001B[39mmultiply(x, um\u001B[38;5;241m.\u001B[39mconjugate(x), out\u001B[38;5;241m=\u001B[39mx)\u001B[38;5;241m.\u001B[39mreal\n\u001B[1;32m--> 187\u001B[0m ret \u001B[38;5;241m=\u001B[39m umr_sum(x, axis, dtype, out, keepdims\u001B[38;5;241m=\u001B[39mkeepdims, where\u001B[38;5;241m=\u001B[39mwhere)\n\u001B[0;32m    189\u001B[0m \u001B[38;5;66;03m# Compute degrees of freedom and make sure it is not negative.\u001B[39;00m\n\u001B[0;32m    190\u001B[0m rcount \u001B[38;5;241m=\u001B[39m um\u001B[38;5;241m.\u001B[39mmaximum(rcount \u001B[38;5;241m-\u001B[39m ddof, \u001B[38;5;241m0\u001B[39m)\n",
      "\u001B[1;31mKeyboardInterrupt\u001B[0m: "
     ]
    }
   ],
   "source": [
    "from utils.compression import generate_compression_ratios\n",
    "from utils.data import load_ucr_data_short\n",
    "\n",
    "data = load_ucr_data_short()\n",
    "print(\"number of time series:\", len(data.index))\n",
    "data.head()\n",
    "compression_ratios = generate_compression_ratios(data, max(degrees))\n",
    "print(\"compression ratios:\", compression_ratios)"
   ],
   "metadata": {
    "collapsed": false,
    "ExecuteTime": {
     "end_time": "2024-02-06T11:21:50.478346900Z",
     "start_time": "2024-02-06T11:21:45.666911500Z"
    }
   },
   "id": "26260de533abc822"
  },
  {
   "cell_type": "code",
   "execution_count": null,
   "outputs": [],
   "source": [
    "%%time\n",
    "from utils.compression import round_to_nearest_ratio\n",
    "from utils.spline import generate_coeff_counts, generate_knot_vector_from_coeff_count\n",
    "from utils.fit import fit_max_spline\n",
    "from sklearn.metrics import mean_squared_error, mean_absolute_error\n",
    "from utils.spline import evaluate_spline\n",
    "import pandas as pd\n",
    "\n",
    "results = []\n",
    "error_ts = []\n",
    "counter = 0\n",
    "for index, row in data.iterrows():\n",
    "    time_series = row['data']\n",
    "    print(row['dataset'], \"no.\", row['num'], \"len(ts):\", len(time_series), \"ts processed:\",\n",
    "          round(counter / len(data.index) * 100, 1), \"%\")\n",
    "    counter += 1\n",
    "    for degree in degrees:\n",
    "        counts = generate_coeff_counts(num_data_pts=len(time_series), degree=degree,\n",
    "                                       compression_ratios=compression_ratios)\n",
    "        for count in counts:\n",
    "            knots = generate_knot_vector_from_coeff_count(degree=degree, num_coeffs=count)\n",
    "\n",
    "            #max_dist, result = fit_max_l1_spline(time_series, knots, degree, eps=0.0000001)\n",
    "            max_dist, result = fit_max_spline(time_series, knots, degree)\n",
    "\n",
    "            if max_dist is None and result is None:\n",
    "                error_ts.append({\n",
    "                    'dataset': row['dataset'],\n",
    "                    'num': row['num'],\n",
    "                    'degree': degree,\n",
    "                    'num_data_pts': len(time_series),\n",
    "                    'num_coeffs': count,\n",
    "                })\n",
    "                continue\n",
    "\n",
    "            # calculate error measures\n",
    "            fitted_spline = [evaluate_spline(knots, result, degree, x[0]) for x in time_series]\n",
    "            mse = mean_squared_error(fitted_spline, [x[1] for x in time_series])\n",
    "            mae = mean_absolute_error(fitted_spline, [x[1] for x in time_series])\n",
    "\n",
    "            results.append({\n",
    "                'dataset': row['dataset'],\n",
    "                'num': row['num'],\n",
    "                'degree': degree,\n",
    "                'num_data_pts': len(time_series),\n",
    "                'num_coeffs': count,\n",
    "                'compression_rate': round_to_nearest_ratio(count / len(time_series), ratios=compression_ratios),\n",
    "                'max_dist': max_dist,\n",
    "                'MSE': mse,\n",
    "                'MAE': mae\n",
    "            })\n",
    "\n",
    "            #plot_splines(plt, knots, degree, time_series)\n",
    "            #plt.show()\n"
   ],
   "metadata": {
    "collapsed": false,
    "ExecuteTime": {
     "end_time": "2024-02-06T11:21:50.480345800Z",
     "start_time": "2024-02-06T11:21:50.479344600Z"
    }
   },
   "id": "3148d5aeadd47121"
  },
  {
   "cell_type": "code",
   "execution_count": null,
   "outputs": [],
   "source": [
    "e1_results = pd.DataFrame(results)\n",
    "error_df = pd.DataFrame(error_ts)\n",
    "e1_results"
   ],
   "metadata": {
    "collapsed": false,
    "ExecuteTime": {
     "start_time": "2024-02-06T11:21:50.480345800Z"
    }
   },
   "id": "51018b1fb68be2d2"
  },
  {
   "cell_type": "markdown",
   "source": [
    "# PLOTS"
   ],
   "metadata": {
    "collapsed": false
   },
   "id": "c9d1e1d8789c8529"
  },
  {
   "cell_type": "code",
   "execution_count": null,
   "outputs": [],
   "source": [
    "from utils.plot import plot_errors_against_degrees, plot_errors_against_compression_rates_for_each_degree, plot_errors_against_compression_rates_avg_degree\n",
    "plot_errors_against_degrees(e1_results)"
   ],
   "metadata": {
    "collapsed": false,
    "ExecuteTime": {
     "start_time": "2024-02-06T11:21:50.482344400Z"
    }
   },
   "id": "f96ebb7ad36efddf"
  },
  {
   "cell_type": "code",
   "execution_count": null,
   "outputs": [],
   "source": [
    "plot_errors_against_compression_rates_for_each_degree(e1_results)"
   ],
   "metadata": {
    "collapsed": false,
    "ExecuteTime": {
     "start_time": "2024-02-06T11:21:50.484343700Z"
    }
   },
   "id": "64c488869ca7d00b"
  },
  {
   "cell_type": "code",
   "execution_count": null,
   "outputs": [],
   "source": [
    "plot_errors_against_compression_rates_avg_degree(e1_results)"
   ],
   "metadata": {
    "collapsed": false,
    "ExecuteTime": {
     "start_time": "2024-02-06T11:21:50.486344600Z"
    }
   },
   "id": "2f998b160eedab99"
  }
 ],
 "metadata": {
  "kernelspec": {
   "display_name": "Python 3",
   "language": "python",
   "name": "python3"
  },
  "language_info": {
   "codemirror_mode": {
    "name": "ipython",
    "version": 2
   },
   "file_extension": ".py",
   "mimetype": "text/x-python",
   "name": "python",
   "nbconvert_exporter": "python",
   "pygments_lexer": "ipython2",
   "version": "2.7.6"
  }
 },
 "nbformat": 4,
 "nbformat_minor": 5
}
