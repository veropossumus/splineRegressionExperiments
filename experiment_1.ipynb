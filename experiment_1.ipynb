{
 "cells": [
  {
   "cell_type": "code",
   "execution_count": null,
   "outputs": [],
   "source": [
    "degrees = [x for x in range(5)]"
   ],
   "metadata": {
    "collapsed": false
   },
   "id": "3f5a1ecf94a1c012"
  },
  {
   "cell_type": "code",
   "execution_count": null,
   "outputs": [],
   "source": [
    "\"\"\"from data_utils import load_ucr_archive, load_ucr_dataset\n",
    "import seaborn as sns\n",
    "data = load_ucr_archive(min_ts_length=80,max_ts_length=1000)\n",
    "ts_lengths = [len(x[1]['data']) for x in data.iterrows()]\n",
    "print(ts_lengths)\n",
    "sns.displot(ts_lengths)\n",
    "\"\"\"\n"
   ],
   "metadata": {
    "collapsed": false
   },
   "id": "18bb51eac5d6048b"
  },
  {
   "cell_type": "code",
   "execution_count": null,
   "outputs": [],
   "source": [
    "from utils.compression import generate_compression_ratios\n",
    "from utils.data import load_ucr_data_short\n",
    "\n",
    "data = load_ucr_data_short()\n",
    "print(\"number of time series:\", len(data.index))\n",
    "data.head()\n",
    "compression_ratios = generate_compression_ratios(data, max(degrees))\n",
    "print(\"compression ratios:\", compression_ratios)"
   ],
   "metadata": {
    "collapsed": false
   },
   "id": "26260de533abc822"
  },
  {
   "cell_type": "code",
   "execution_count": null,
   "outputs": [],
   "source": [
    "%%time\n",
    "from utils.compression import round_to_nearest_ratio\n",
    "from utils.spline import generate_coeff_counts, generate_knot_vector_from_coeff_count\n",
    "from utils.fit import fit_max_spline\n",
    "from sklearn.metrics import mean_squared_error, mean_absolute_error\n",
    "from utils.spline import evaluate_spline\n",
    "import pandas as pd\n",
    "\n",
    "results = []\n",
    "error_ts = []\n",
    "counter = 0\n",
    "for index, row in data.iterrows():\n",
    "    time_series = row['data']\n",
    "    print(row['dataset'], \"no.\", row['num'], \"len(ts):\", len(time_series), \"ts processed:\",\n",
    "          round(counter / len(data.index) * 100, 1), \"%\")\n",
    "    counter += 1\n",
    "    for degree in degrees:\n",
    "        counts = generate_coeff_counts(num_data_pts=len(time_series), degree=degree,\n",
    "                                       compression_ratios=compression_ratios)\n",
    "        for count in counts:\n",
    "            knots = generate_knot_vector_from_coeff_count(degree=degree, num_coeffs=count)\n",
    "\n",
    "            #max_dist, result = fit_max_l1_spline(time_series, knots, degree, eps=0.0000001)\n",
    "            max_dist, result = fit_max_spline(time_series, knots, degree)\n",
    "\n",
    "            if max_dist is None and result is None:\n",
    "                error_ts.append({\n",
    "                    'dataset': row['dataset'],\n",
    "                    'num': row['num'],\n",
    "                    'degree': degree,\n",
    "                    'num_data_pts': len(time_series),\n",
    "                    'num_coeffs': count,\n",
    "                })\n",
    "                continue\n",
    "\n",
    "            # calculate error measures\n",
    "            fitted_spline = [evaluate_spline(knots, result, degree, x[0]) for x in time_series]\n",
    "            mse = mean_squared_error(fitted_spline, [x[1] for x in time_series])\n",
    "            mae = mean_absolute_error(fitted_spline, [x[1] for x in time_series])\n",
    "\n",
    "            results.append({\n",
    "                'dataset': row['dataset'],\n",
    "                'num': row['num'],\n",
    "                'degree': degree,\n",
    "                'num_data_pts': len(time_series),\n",
    "                'num_coeffs': count,\n",
    "                'compression_rate': round_to_nearest_ratio(count / len(time_series), ratios=compression_ratios),\n",
    "                'max_dist': max_dist,\n",
    "                'MSE': mse,\n",
    "                'MAE': mae\n",
    "            })\n",
    "\n",
    "            #plot_splines(plt, knots, degree, time_series)\n",
    "            #plt.show()\n"
   ],
   "metadata": {
    "collapsed": false
   },
   "id": "3148d5aeadd47121"
  },
  {
   "cell_type": "code",
   "execution_count": null,
   "outputs": [],
   "source": [
    "e1_results = pd.DataFrame(results)\n",
    "error_df = pd.DataFrame(error_ts)\n",
    "e1_results"
   ],
   "metadata": {
    "collapsed": false
   },
   "id": "51018b1fb68be2d2"
  },
  {
   "cell_type": "markdown",
   "source": [
    "# PLOTS"
   ],
   "metadata": {
    "collapsed": false
   },
   "id": "c9d1e1d8789c8529"
  },
  {
   "cell_type": "code",
   "execution_count": null,
   "outputs": [],
   "source": [
    "from utils.plot import plot_errors_against_degrees, plot_errors_against_compression_rates_for_each_degree, plot_errors_against_compression_rates_avg_degree\n",
    "plot_errors_against_degrees(e1_results)"
   ],
   "metadata": {
    "collapsed": false
   },
   "id": "f96ebb7ad36efddf"
  },
  {
   "cell_type": "code",
   "execution_count": null,
   "outputs": [],
   "source": [
    "plot_errors_against_compression_rates_for_each_degree(e1_results)"
   ],
   "metadata": {
    "collapsed": false
   },
   "id": "64c488869ca7d00b"
  },
  {
   "cell_type": "code",
   "execution_count": null,
   "outputs": [],
   "source": [
    "plot_errors_against_compression_rates_avg_degree(e1_results)"
   ],
   "metadata": {
    "collapsed": false
   },
   "id": "2f998b160eedab99"
  }
 ],
 "metadata": {
  "kernelspec": {
   "display_name": "Python 3",
   "language": "python",
   "name": "python3"
  },
  "language_info": {
   "codemirror_mode": {
    "name": "ipython",
    "version": 2
   },
   "file_extension": ".py",
   "mimetype": "text/x-python",
   "name": "python",
   "nbconvert_exporter": "python",
   "pygments_lexer": "ipython2",
   "version": "2.7.6"
  }
 },
 "nbformat": 4,
 "nbformat_minor": 5
}
