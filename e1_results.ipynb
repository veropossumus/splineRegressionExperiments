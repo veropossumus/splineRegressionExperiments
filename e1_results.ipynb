{
 "cells": [
  {
   "cell_type": "code",
   "execution_count": null,
   "outputs": [],
   "source": [
    "import os\n",
    "import pandas as pd\n",
    "\n",
    "dir_path = \"e1_results\"\n",
    "colnames = ['dataset', 'num', 'degree', 'num_data_pts', 'num_coeffs', 'compression_rate', 'max_dist', 'MSE', 'MAE']\n",
    "e1_short = pd.read_csv(os.path.join(dir_path, \"e1_data-short.csv\"),names=colnames,header=None)\n",
    "e1_medium = pd.read_csv(os.path.join(dir_path, \"e1_data-medium.csv\"),names=colnames,header=None)"
   ],
   "metadata": {
    "collapsed": false
   },
   "id": "37148635ba37ec60"
  },
  {
   "cell_type": "code",
   "execution_count": null,
   "outputs": [],
   "source": [
    "# remove compression rate of 0.025 from data_medium so that data_medium and data_short can be concatenated and plotted together\n",
    "e1 = pd.concat([e1_short,e1_medium.loc[e1_medium['compression_rate'] != 0.025]])\n"
   ],
   "metadata": {
    "collapsed": false
   },
   "id": "7064eb320b7c5ff1"
  },
  {
   "cell_type": "code",
   "execution_count": null,
   "outputs": [],
   "source": [
    "from utils.plot import (plot_errors_against_degrees, \n",
    "                  plot_errors_against_compression_rates_for_each_degree,\n",
    "                  plot_errors_against_compression_rates_avg_degree)\n",
    "\n",
    "plot_errors_against_degrees(e1,True)\n"
   ],
   "metadata": {
    "collapsed": false
   },
   "id": "8635641cd10db3d5"
  },
  {
   "cell_type": "code",
   "execution_count": null,
   "outputs": [],
   "source": [
    "plot_errors_against_compression_rates_for_each_degree(e1,True)"
   ],
   "metadata": {
    "collapsed": false
   },
   "id": "e55e903b947bacc6"
  },
  {
   "cell_type": "code",
   "execution_count": null,
   "outputs": [],
   "source": [
    "plot_errors_against_compression_rates_avg_degree(e1,True)"
   ],
   "metadata": {
    "collapsed": false
   },
   "id": "99a0f1713433e8b8"
  }
 ],
 "metadata": {
  "kernelspec": {
   "display_name": "Python 3",
   "language": "python",
   "name": "python3"
  },
  "language_info": {
   "codemirror_mode": {
    "name": "ipython",
    "version": 2
   },
   "file_extension": ".py",
   "mimetype": "text/x-python",
   "name": "python",
   "nbconvert_exporter": "python",
   "pygments_lexer": "ipython2",
   "version": "2.7.6"
  }
 },
 "nbformat": 4,
 "nbformat_minor": 5
}
