{
 "cells": [
  {
   "cell_type": "code",
   "execution_count": null,
   "id": "initial_id",
   "metadata": {
    "collapsed": true
   },
   "outputs": [],
   "source": [
    "import pandas as pd\n",
    "import os\n",
    "\n",
    "dir_path = \"../..\"\n",
    "#dir_path = \"e2_results\"\n",
    "file_data = \"Out_E2_bis-FaceAll.csv\"\n",
    "#file_data = \"Out_240214_bis-GesturePebble.csv\"\n",
    "\n",
    "colnames = ['dataset', 'num', 'num_data_pts', 'num_outliers_removed','num_coeffs','method','max_dist', 'MSE', 'MAE','mean_diff', 'max_fst_derivative', 'max_snd_derivative','min_fst_derivative','min_snd_derivative','avg_fst_derivative','avg_snd_derivative']\n",
    "e2 = pd.read_csv(os.path.join(dir_path, file_data), names=colnames, header=None).drop_duplicates()\n",
    "e2"
   ]
  },
  {
   "cell_type": "markdown",
   "source": [
    "# for each method: accuracy measures (max_dist, MSE, MAE)\n",
    "Question: How does our method compare to other methods for time series approximation and/or compression? Can it be improved by including an L1 fitting?"
   ],
   "metadata": {
    "collapsed": false
   },
   "id": "e1471b5c6d50bdfa"
  },
  {
   "cell_type": "code",
   "execution_count": null,
   "outputs": [],
   "source": [
    "import pandas as pd\n",
    "#pd.set_option('display.float_format', '{:.8f}'.format)\n",
    "mean_values = e2.groupby('method').agg({'max_dist': 'mean', 'MSE': 'mean', 'MAE': 'mean'}).reset_index()\n",
    "mean_values"
   ],
   "metadata": {
    "collapsed": false
   },
   "id": "8990f36a2fbc2666"
  },
  {
   "cell_type": "code",
   "execution_count": null,
   "outputs": [],
   "source": [
    "import matplotlib.pyplot as plt\n",
    "\n",
    "# Plot mean values\n",
    "plt.figure(figsize=(10, 6))\n",
    "\n",
    "plt.bar(mean_values['method'], mean_values['max_dist'], color='b', label='Mean Max Dist')\n",
    "plt.bar(mean_values['method'], mean_values['MAE'],color='g', label='Mean MAE')\n",
    "#plt.bar(mean_values['method'], mean_values['MSE'],color='r', label='Mean MSE')\n",
    "plt.xlabel('Method')\n",
    "plt.ylabel('Mean Value')\n",
    "plt.title('Mean max. distance, MSE, and MAE per method')\n",
    "plt.legend()\n",
    "plt.xticks(rotation=45)\n",
    "plt.tight_layout()\n",
    "plt.show()"
   ],
   "metadata": {
    "collapsed": false
   },
   "id": "3053c1477e64181d"
  },
  {
   "cell_type": "code",
   "execution_count": null,
   "outputs": [],
   "source": [
    "import matplotlib.pyplot as plt\n",
    "import numpy as np\n",
    "\n",
    "methods = mean_values['method']\n",
    "metrics = ['max_dist','MSE', 'MAE', ]\n",
    "\n",
    "bar_width = 0.2\n",
    "num_methods = len(methods)\n",
    "r = np.arange(num_methods)\n",
    "\n",
    "fig, axs = plt.subplots(len(metrics), figsize=(10, 15))\n",
    "\n",
    "for i, metric in enumerate(metrics):\n",
    "    mean_val = mean_values[metric]\n",
    "    metric_without_outliers = mean_values[f'{metric}']\n",
    "\n",
    "    r1 = r + bar_width/2\n",
    "\n",
    "    axs[i].bar(r1, mean_val, color='b', width=bar_width)#, label='?')\n",
    "\n",
    "    axs[i].set_xlabel('Method', fontweight='bold')\n",
    "    axs[i].set_ylabel(f'Mean {metric}', fontweight='bold')\n",
    "    axs[i].set_xticks([r + bar_width/2 for r in range(num_methods)])\n",
    "    axs[i].set_xticklabels(methods, rotation=45, ha='right')\n",
    "    axs[i].set_title(f'Comparison of mean {metric}')\n",
    "    #axs[i].legend()\n",
    "\n",
    "plt.tight_layout()\n",
    "plt.show()"
   ],
   "metadata": {
    "collapsed": false
   },
   "id": "80543a555ca402cd"
  },
  {
   "cell_type": "markdown",
   "source": [
    "# for each method: outliers vs. no outliers\n",
    "Question: Does the removal of outliers increase the accuracy of the approximated time series? \n",
    "(If so: outliers need to be saved separately!)"
   ],
   "metadata": {
    "collapsed": false
   },
   "id": "36c0eda55fa0e9a1"
  },
  {
   "cell_type": "code",
   "execution_count": null,
   "outputs": [],
   "source": [
    "df_no_outliers = e2[e2['num_outliers_removed'] > 0]\n",
    "print(len(df_no_outliers.index))\n",
    "df_with_outliers = e2[e2['num_outliers_removed'] == 0]\n",
    "print(len(df_with_outliers.index))\n",
    "\n",
    "mean_values_no_outliers = df_no_outliers.groupby('method').agg({\n",
    "    'max_dist': 'mean',\n",
    "    'MSE': 'mean', \n",
    "    'MAE': 'mean'}).reset_index()\n",
    "mean_values_no_outliers.rename(columns={\n",
    "    'max_dist': 'max_dist w/o outliers', \n",
    "    'MSE': 'MSE w/o outliers', \n",
    "    'MAE': 'MAE w/o outliers'}, inplace=True)\n",
    "\n",
    "mean_values_with_outliers = df_with_outliers.groupby('method').agg({\n",
    "    'max_dist': 'mean', \n",
    "    'MSE': 'mean', \n",
    "    'MAE': 'mean'}).reset_index()\n",
    "\n",
    "mean_values_with_outliers.rename(columns={\n",
    "    'max_dist': 'max_dist', \n",
    "    'MSE': 'MSE', \n",
    "    'MAE': 'MAE'}, inplace=True)\n",
    "\n",
    "mean_values_combined = pd.merge(mean_values_with_outliers, mean_values_no_outliers, on='method', how='outer')\n",
    "mean_values_combined"
   ],
   "metadata": {
    "collapsed": false
   },
   "id": "445c5e4ed2abfe81"
  },
  {
   "cell_type": "code",
   "execution_count": null,
   "outputs": [],
   "source": [
    "import matplotlib.pyplot as plt\n",
    "import numpy as np\n",
    "\n",
    "methods = mean_values_combined['method']\n",
    "metrics = ['max_dist','MSE', 'MAE']\n",
    "\n",
    "bar_width = 0.2\n",
    "num_methods = len(methods)\n",
    "r = np.arange(num_methods)\n",
    "\n",
    "fig, axs = plt.subplots(len(metrics), figsize=(10, 15))\n",
    "\n",
    "for i, metric in enumerate(metrics):\n",
    "    metric_with_outliers = mean_values_combined[metric]\n",
    "    metric_without_outliers = mean_values_combined[f'{metric} w/o outliers']\n",
    "\n",
    "    r1 = r + bar_width/2\n",
    "    r2 = [x + bar_width for x in r1]\n",
    "\n",
    "    axs[i].bar(r1, metric_with_outliers, color='b', width=bar_width, label='With Outliers')\n",
    "    axs[i].bar(r2, metric_without_outliers, color='r', width=bar_width, label='Without Outliers')\n",
    "\n",
    "    axs[i].set_xlabel('Method', fontweight='bold')\n",
    "    axs[i].set_ylabel(f'Mean {metric}', fontweight='bold')\n",
    "    axs[i].set_xticks([r + bar_width/2 for r in range(num_methods)])\n",
    "    axs[i].set_xticklabels(methods, rotation=45, ha='right')\n",
    "    axs[i].set_title(f'Comparison of Mean {metric} with and without Outlier Removal')\n",
    "    axs[i].legend()\n",
    "\n",
    "plt.tight_layout()\n",
    "plt.show()"
   ],
   "metadata": {
    "collapsed": false
   },
   "id": "896dca98c212f53e"
  },
  {
   "cell_type": "markdown",
   "source": [
    "# for L8-L1: correlation between accuracy measures and time series properties\n",
    "Question: Does our method approximate time series with certain properties more/less accurately?"
   ],
   "metadata": {
    "collapsed": false
   },
   "id": "3807506aa7728081"
  },
  {
   "cell_type": "code",
   "execution_count": null,
   "outputs": [],
   "source": [
    "df_max_l1 = e2[e2['method'] == 'L8 and L1']"
   ],
   "metadata": {
    "collapsed": false
   },
   "id": "fee37698d6ea4c40"
  },
  {
   "cell_type": "code",
   "execution_count": null,
   "outputs": [],
   "source": [
    "correlation_matrix = df_max_l1[\n",
    "    ['max_dist', 'MSE', 'MAE', 'num_data_pts', 'mean_diff', 'max_fst_derivative', 'max_snd_derivative']].corr()\n",
    "print(\"Correlation Matrix:\")\n",
    "correlation_matrix"
   ],
   "metadata": {
    "collapsed": false
   },
   "id": "bef80ea8e02aaa45"
  },
  {
   "cell_type": "code",
   "execution_count": null,
   "outputs": [],
   "source": [
    "df_max_l1.iloc[:,2:]"
   ],
   "metadata": {
    "collapsed": false
   },
   "id": "ecaed1e2f22facb7"
  },
  {
   "cell_type": "code",
   "execution_count": null,
   "outputs": [],
   "source": [
    "import seaborn as sns\n",
    "sns.set_theme(style=\"ticks\")\n",
    "sns.pairplot(df_max_l1[['num_data_pts','method','max_dist','mean_diff','max_fst_derivative']],hue=\"method\")\n",
    "#sns.pairplot(df_max_l1[2:],hue=\"method\")"
   ],
   "metadata": {
    "collapsed": false
   },
   "id": "f52bb461047285b4"
  },
  {
   "cell_type": "markdown",
   "source": [],
   "metadata": {
    "collapsed": false
   },
   "id": "9cfa3d87a061612e"
  },
  {
   "cell_type": "code",
   "execution_count": null,
   "outputs": [],
   "source": [
    "for measurement in ['mean_diff','max_fst_derivative','max_snd_derivative','min_fst_derivative','min_snd_derivative','avg_fst_derivative','avg_snd_derivative']:\n",
    "    sns.relplot(data=df_max_l1, x=measurement, y=\"max_dist\")"
   ],
   "metadata": {
    "collapsed": false
   },
   "id": "42806eed11bf5cd8"
  },
  {
   "cell_type": "code",
   "execution_count": null,
   "outputs": [],
   "source": [
    "g = sns.PairGrid(df_max_l1[['num_outliers_removed','num_data_pts','max_dist','max_fst_derivative','max_snd_derivative','min_fst_derivative','min_snd_derivative','avg_fst_derivative','avg_snd_derivative']]).map(sns.scatterplot)"
   ],
   "metadata": {
    "collapsed": false
   },
   "id": "864110f98a7ab4e6"
  },
  {
   "cell_type": "code",
   "execution_count": null,
   "outputs": [],
   "source": [
    "\"\"\"import seaborn as sns\n",
    "sns.set_theme(style=\"ticks\")\n",
    "# for method in ['L8', 'L8 and L1', 'LSQ', 'PAA', 'PLA', 'DFT']:\n",
    "df = e2[e2['method']=='L8 and L1']\n",
    "#sns.pairplot(df[['num_data_pts','method','max_dist','mean_diff','max_fst_derivative']],hue=\"method\")\n",
    "sns.pairplot(df[2:],hue=\"method\")\"\"\""
   ],
   "metadata": {
    "collapsed": false
   },
   "id": "e54fafe8e4690b6a"
  }
 ],
 "metadata": {
  "kernelspec": {
   "display_name": "Python 3",
   "language": "python",
   "name": "python3"
  },
  "language_info": {
   "codemirror_mode": {
    "name": "ipython",
    "version": 2
   },
   "file_extension": ".py",
   "mimetype": "text/x-python",
   "name": "python",
   "nbconvert_exporter": "python",
   "pygments_lexer": "ipython2",
   "version": "2.7.6"
  }
 },
 "nbformat": 4,
 "nbformat_minor": 5
}
