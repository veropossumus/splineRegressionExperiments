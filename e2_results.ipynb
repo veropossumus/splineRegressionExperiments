{
 "cells": [
  {
   "cell_type": "code",
   "execution_count": null,
   "outputs": [],
   "source": [
    "import pandas as pd\n",
    "e2 = pd.read_csv(\"../../Out_E2_V2.csv\",index_col=[0])#.drop_duplicates()\n",
    "e2"
   ],
   "metadata": {
    "collapsed": false
   },
   "id": "3ca079263a9fa904"
  },
  {
   "cell_type": "code",
   "execution_count": null,
   "outputs": [],
   "source": [
    "import matplotlib.pyplot as plt\n",
    "\n",
    "d = e2.copy()\n",
    "\n",
    "metrics = ['max_dist', 'MSE', 'MAE']\n",
    "metric_names = ['max. distance', 'MSE', 'MAE']\n",
    "fig, axs = plt.subplots(1, 3, figsize=(15, 5))\n",
    "\n",
    "df_list = []\n",
    "\n",
    "for i, metric in enumerate(metrics):\n",
    "    avg_metric_by_degree = d.groupby('method')[metric].mean()\n",
    "    df_list.append(avg_metric_by_degree)\n",
    "    axs[i].plot(avg_metric_by_degree.index, avg_metric_by_degree.values, marker='o', linestyle='-')\n",
    "    axs[i].set_xlabel('Method')\n",
    "    axs[i].set_ylabel('Mean ' + metric_names[i])\n",
    "    axs[i].set_title('Mean ' + metric_names[i])  # + ' for degrees 0 to ' + str(max(dataframe['degree'].unique())))\n",
    "    axs[i].set_xticks(list(avg_metric_by_degree.index))\n",
    "    axs[i].grid(True)\n",
    "\n",
    "plt.tight_layout(pad=3)\n",
    "\n",
    "plt.show()\n",
    "\n",
    "df = pd.concat(df_list,axis=1)\n",
    "print(df)"
   ],
   "metadata": {
    "collapsed": false
   },
   "id": "e1c57f94d5687ac6"
  },
  {
   "cell_type": "markdown",
   "source": [
    "# for each method: accuracy measures (max_dist, MSE, MAE)\n",
    "Question: How does our method compare to other methods for time series approximation and/or compression? Can it be improved by including an L1 fitting?"
   ],
   "metadata": {
    "collapsed": false
   },
   "id": "e1471b5c6d50bdfa"
  },
  {
   "cell_type": "code",
   "execution_count": null,
   "outputs": [],
   "source": [
    "import pandas as pd\n",
    "pd.set_option('display.float_format', '{:.8f}'.format)\n",
    "mean_values = e2.groupby('method').agg({'max_dist': 'mean', 'MSE': 'mean', 'MAE': 'mean'}).reset_index()\n",
    "mean_values"
   ],
   "metadata": {
    "collapsed": false
   },
   "id": "8990f36a2fbc2666"
  },
  {
   "cell_type": "code",
   "execution_count": null,
   "outputs": [],
   "source": [
    "\"\"\"import seaborn as sns\n",
    "import matplotlib.pyplot as plt\n",
    "\n",
    "# Get unique values of \"method\"\n",
    "methods = e2['method'].unique()\n",
    "\n",
    "# Create box plots\n",
    "plt.figure(figsize=(15, 5))\n",
    "\n",
    "# Loop through each metric\n",
    "metrics = ['max_dist', 'MSE', 'MAE']\n",
    "for i, metric in enumerate(metrics, start=1):\n",
    "    plt.subplot(1, 3, i)\n",
    "    sns.boxplot(data=e2, x='method', y=metric, order=methods)\n",
    "    plt.xlabel('Method')\n",
    "    plt.ylabel(metric)\n",
    "    plt.title(f'Box plot for {metric}')\n",
    "    plt.xticks(rotation=45)\n",
    "\n",
    "plt.tight_layout()\n",
    "plt.show()\"\"\"\n"
   ],
   "metadata": {
    "collapsed": false
   },
   "id": "58fd0c0f44551117"
  },
  {
   "cell_type": "code",
   "execution_count": null,
   "outputs": [],
   "source": [
    "import matplotlib.pyplot as plt\n",
    "plt.rcParams.update({'font.size': 12})\n",
    "plt.rcParams.update({'axes.titlesize':12, 'axes.labelsize':12})\n",
    "\n",
    "metrics = ['max_dist', 'MAE', 'MSE']\n",
    "metric_names = ['Maximum Distance','MAE', 'MSE']\n",
    "\n",
    "for i,metric in enumerate(metrics):\n",
    "    plt.figure(figsize=(4,4))\n",
    "    plt.bar(mean_values['method'], mean_values[metric], color='bgr'[metrics.index(metric)])\n",
    "    #plt.xlabel('Methods')\n",
    "    plt.ylabel(f'Mean {metric_names[i]}')\n",
    "    plt.title(f'Mean {metric_names[i]} per method')\n",
    "    plt.xticks(rotation=45)\n",
    "    plt.xticks(range(6),[\"DFT\",r'$L_\\infty$',r'$L_\\infty^*$',\"LSQ\",\"PAA\",\"PLA\"])\n",
    "    plt.tight_layout()\n",
    "    plt.savefig(f\"../plots/e2/plot_mean_{metric}.pdf\")\n",
    "    plt.show()\n"
   ],
   "metadata": {
    "collapsed": false
   },
   "id": "e02eb56a1f202280"
  },
  {
   "cell_type": "code",
   "execution_count": null,
   "outputs": [],
   "source": [
    "\"\"\"import matplotlib.pyplot as plt\n",
    "\n",
    "# Plot mean values\n",
    "plt.figure(figsize=(10, 6))\n",
    "\n",
    "plt.bar(mean_values['method'], mean_values['max_dist'], color='b', label='Mean max. distance')\n",
    "plt.bar(mean_values['method'], mean_values['MAE'],color='g', label='Mean MAE')\n",
    "plt.bar(mean_values['method'], mean_values['MSE'],color='r', label='Mean MSE')\n",
    "plt.xlabel('Methods')\n",
    "plt.ylabel('Mean Value')\n",
    "plt.title('Mean max. distance, MSE, and MAE per method')\n",
    "plt.legend()\n",
    "plt.xticks(rotation=45)\n",
    "plt.tight_layout()\n",
    "plt.show()\"\"\"\n"
   ],
   "metadata": {
    "collapsed": false
   },
   "id": "3053c1477e64181d"
  },
  {
   "cell_type": "code",
   "execution_count": null,
   "outputs": [],
   "source": [
    "\"\"\"import matplotlib.pyplot as plt\n",
    "import numpy as np\n",
    "\n",
    "methods = mean_values['method']\n",
    "metrics = ['max_dist','MSE', 'MAE', ]\n",
    "\n",
    "bar_width = 0.2\n",
    "num_methods = len(methods)\n",
    "r = np.arange(num_methods)\n",
    "\n",
    "fig, axs = plt.subplots(len(metrics), figsize=(10, 15))\n",
    "\n",
    "for i, metric in enumerate(metrics):\n",
    "    mean_val = mean_values[metric]\n",
    "    metric_without_outliers = mean_values[f'{metric}']\n",
    "\n",
    "    r1 = r + bar_width/2\n",
    "\n",
    "    axs[i].bar(r1, mean_val, color='b', width=bar_width)#, label='?')\n",
    "\n",
    "    axs[i].set_xlabel('Method', fontweight='bold')\n",
    "    axs[i].set_ylabel(f'Mean {metric}', fontweight='bold')\n",
    "    axs[i].set_xticks([r + bar_width/2 for r in range(num_methods)])\n",
    "    axs[i].set_xticklabels(methods, rotation=45, ha='right')\n",
    "    axs[i].set_title(f'Comparison of mean {metric}')\n",
    "    #axs[i].legend()\n",
    "\n",
    "plt.tight_layout()\n",
    "plt.show()\"\"\""
   ],
   "metadata": {
    "collapsed": false
   },
   "id": "80543a555ca402cd"
  },
  {
   "cell_type": "markdown",
   "source": [
    "# for each method: outliers vs. no outliers\n",
    "Question: Does the removal of outliers increase the accuracy of the approximated time series? \n",
    "(If so: outliers need to be saved separately!)"
   ],
   "metadata": {
    "collapsed": false
   },
   "id": "36c0eda55fa0e9a1"
  },
  {
   "cell_type": "code",
   "execution_count": null,
   "outputs": [],
   "source": [
    "df_no_outliers = e2[e2['num_outliers_removed'] > 0]\n",
    "print(len(df_no_outliers.index))\n",
    "df_with_outliers = e2[e2['num_outliers_removed'] == 0]\n",
    "print(len(df_with_outliers.index))\n",
    "\n",
    "mean_values_no_outliers = df_no_outliers.groupby('method').agg({\n",
    "    'max_dist': 'mean',\n",
    "    'MSE': 'mean', \n",
    "    'MAE': 'mean'}).reset_index()\n",
    "mean_values_no_outliers.rename(columns={\n",
    "    'max_dist': 'max_dist w/o outliers', \n",
    "    'MSE': 'MSE w/o outliers', \n",
    "    'MAE': 'MAE w/o outliers'}, inplace=True)\n",
    "\n",
    "mean_values_with_outliers = df_with_outliers.groupby('method').agg({\n",
    "    'max_dist': 'mean', \n",
    "    'MSE': 'mean', \n",
    "    'MAE': 'mean'}).reset_index()\n",
    "\n",
    "mean_values_with_outliers.rename(columns={\n",
    "    'max_dist': 'max_dist', \n",
    "    'MSE': 'MSE', \n",
    "    'MAE': 'MAE'}, inplace=True)\n",
    "\n",
    "mean_values_combined = pd.merge(mean_values_with_outliers, mean_values_no_outliers, on='method', how='outer')\n",
    "mean_values_combined"
   ],
   "metadata": {
    "collapsed": false
   },
   "id": "445c5e4ed2abfe81"
  },
  {
   "cell_type": "code",
   "execution_count": null,
   "outputs": [],
   "source": [
    "print(mean_values_combined.to_latex())"
   ],
   "metadata": {
    "collapsed": false
   },
   "id": "b1ecd575181e7f13"
  },
  {
   "cell_type": "code",
   "execution_count": null,
   "outputs": [],
   "source": [
    "\"\"\"import matplotlib.pyplot as plt\n",
    "import numpy as np\n",
    "\n",
    "\n",
    "# Define light and dark shades of blue, green, and red\n",
    "light_colors = ['#ADD8E6', '#90EE90', '#FFB6C1']  # Light blue, light green, light pink\n",
    "dark_colors = ['#0000FF', '#008000', '#FF0000']  # Dark blue, dark green, dark red\n",
    "\n",
    "\n",
    "methods = mean_values_combined['method']\n",
    "metrics = ['max_dist', 'MAE', 'MSE']\n",
    "metric_names = ['max. distance','MAE', 'MSE']\n",
    "\n",
    "bar_width = 0.2\n",
    "num_methods = len(methods)\n",
    "r = np.arange(num_methods)\n",
    "\n",
    "#fig, axs = plt.subplots(len(metrics), figsize=(10, 15))\n",
    "fig, axs = plt.subplots(len(metrics), figsize=(8,12))\n",
    "\n",
    "for i, metric in enumerate(metrics):\n",
    "    metric_with_outliers = mean_values_combined[metric]\n",
    "    metric_without_outliers = mean_values_combined[f'{metric} w/o outliers']\n",
    "\n",
    "    r1 = r + bar_width/2\n",
    "    r2 = [x + bar_width for x in r1]\n",
    "\n",
    "    # Bar plot with outliers (light shade)\n",
    "    axs[i].bar(r1, metric_with_outliers, color=light_colors[i], width=bar_width, label='With Outliers')\n",
    "\n",
    "    # Bar plot without outliers (dark shade)\n",
    "    axs[i].bar(r2, metric_without_outliers, color=dark_colors[i], width=bar_width, label='Without Outliers')\n",
    "\n",
    "\n",
    "\n",
    "    #axs[i].bar(r1, metric_with_outliers, color='b', width=bar_width, label='With Outliers')\n",
    "    #axs[i].bar(r2, metric_without_outliers, color='r', width=bar_width, label='Without Outliers')\n",
    "\n",
    "    axs[i].set_xlabel('Method', fontweight='bold')\n",
    "    axs[i].set_ylabel(f'Mean {metric_names[i]}', fontweight='bold')\n",
    "    axs[i].set_xticks([r + bar_width/2 for r in range(num_methods)])\n",
    "    axs[i].set_xticklabels([\"DFT\",r'$L_\\infty$',r'$L_\\infty \\text{ and } L_1$',\"LSQ\",\"PAA\",\"PLA\"], rotation=45, ha='right')\n",
    "    axs[i].set_title(f'Mean {metric_names[i]} with and without Outlier Removal')\n",
    "    axs[i].legend()\n",
    "    plt.savefig(f\"../plots/e2/compare_w_wo_outliers_{metric}.pdf\")\n",
    "\n",
    "plt.tight_layout()\n",
    "\n",
    "\n",
    "\n",
    "plt.show()\"\"\""
   ],
   "metadata": {
    "collapsed": false
   },
   "id": "896dca98c212f53e"
  },
  {
   "cell_type": "code",
   "execution_count": null,
   "outputs": [],
   "source": [
    "import matplotlib.pyplot as plt\n",
    "import numpy as np\n",
    "\n",
    "\n",
    "# Define light and dark shades of blue, green, and red\n",
    "light_colors = ['#ADD8E6', '#90EE90', '#FFB6C1']  # Light blue, light green, light pink\n",
    "dark_colors = ['#0000FF', '#008000', '#FF0000']  # Dark blue, dark green, dark red\n",
    "\n",
    "\n",
    "methods = mean_values_combined['method']\n",
    "metrics = ['max_dist', 'MAE', 'MSE']\n",
    "metric_names = ['Maximum Distance','MAE', 'MSE']\n",
    "\n",
    "bar_width = 0.2\n",
    "num_methods = len(methods)\n",
    "r = np.arange(num_methods)\n",
    "\n",
    "for i, metric in enumerate(metrics):\n",
    "\n",
    "    metric_with_outliers = mean_values_combined[metric]\n",
    "    metric_without_outliers = mean_values_combined[f'{metric} w/o outliers']\n",
    "\n",
    "    r1 = r + bar_width/2\n",
    "    r2 = [x + bar_width for x in r1]\n",
    "    \n",
    "    plt.figure(figsize=(6,4))  # Create a new figure for each metric\n",
    "\n",
    "    # Bar plot with outliers (light shade)\n",
    "    plt.bar(r1, metric_with_outliers, color=light_colors[i], width=bar_width, label='Original Time Series')\n",
    "\n",
    "    # Bar plot without outliers (dark shade)\n",
    "    plt.bar(r2, metric_without_outliers, color=dark_colors[i], width=bar_width, label='With Imputed Outliers')\n",
    "\n",
    "    #plt.xlabel('Method', fontweight='bold')\n",
    "    plt.ylabel(f'Mean {metric_names[i]}')#, fontweight='bold')\n",
    "    plt.xticks([r + bar_width/2 for r in range(num_methods)], [\"DFT\",r'$L_\\infty$',r'$L_\\infty^*$',\"LSQ\",\"PAA\",\"PLA\"], rotation=45, ha='right')\n",
    "    plt.title(f'Mean {metric_names[i]}: \\n Original Time Series vs. Time Series with Imputed Outliers')\n",
    "    plt.legend()\n",
    "    plt.tight_layout()\n",
    "    plt.savefig(f\"../plots/e2/compare_w_wo_outliers_{metric}.pdf\")\n",
    "    plt.show()  # Show each figure individually\n"
   ],
   "metadata": {
    "collapsed": false
   },
   "id": "27ed8d001352287f"
  },
  {
   "cell_type": "markdown",
   "source": [
    "# for L8-L1: correlation between accuracy measures and time series properties\n",
    "Question: Does our method approximate time series with certain properties more/less accurately?"
   ],
   "metadata": {
    "collapsed": false
   },
   "id": "3807506aa7728081"
  },
  {
   "cell_type": "code",
   "execution_count": null,
   "outputs": [],
   "source": [
    "import seaborn as sns"
   ],
   "metadata": {
    "collapsed": false
   },
   "id": "3a9b96af4e27cdd4"
  },
  {
   "cell_type": "code",
   "execution_count": null,
   "outputs": [],
   "source": [
    "df_max_l1 = e2[e2['method'] == 'L8 and L1']"
   ],
   "metadata": {
    "collapsed": false
   },
   "id": "fee37698d6ea4c40"
  },
  {
   "cell_type": "code",
   "execution_count": null,
   "outputs": [],
   "source": [
    "\"\"\"correlation_matrix = df_max_l1[\n",
    "    ['max_dist', 'MSE', 'MAE', 'num_data_pts', 'mean_diff', 'max_fst_derivative', 'max_snd_derivative']].corr()\n",
    "print(\"Correlation Matrix:\")\n",
    "correlation_matrix\"\"\""
   ],
   "metadata": {
    "collapsed": false
   },
   "id": "bef80ea8e02aaa45"
  },
  {
   "cell_type": "code",
   "execution_count": null,
   "outputs": [],
   "source": [
    "#df_max_l1.iloc[:,2:]"
   ],
   "metadata": {
    "collapsed": false
   },
   "id": "ecaed1e2f22facb7"
  },
  {
   "cell_type": "code",
   "execution_count": null,
   "outputs": [],
   "source": [
    "\"\"\"import seaborn as sns\n",
    "sns.set_theme(style=\"ticks\")\n",
    "sns.pairplot(df_max_l1[['num_data_pts','method','max_dist','mean_diff','max_fst_derivative']],hue=\"method\")\n",
    "#sns.pairplot(df_max_l1[2:],hue=\"method\")\"\"\""
   ],
   "metadata": {
    "collapsed": false
   },
   "id": "f52bb461047285b4"
  },
  {
   "cell_type": "markdown",
   "source": [],
   "metadata": {
    "collapsed": false
   },
   "id": "9cfa3d87a061612e"
  },
  {
   "cell_type": "code",
   "execution_count": null,
   "outputs": [],
   "source": [
    "for measurement in ['max_fst_derivative','max_snd_derivative','avg_fst_derivative','avg_snd_derivative','num_outliers_removed','num_data_pts']:\n",
    "    rel = sns.relplot(data=df_max_l1, x=measurement, y=\"max_dist\")\n",
    "    rel.savefig(f\"../plots/e2/sns_relplot_md_vs_{measurement}.png\")"
   ],
   "metadata": {
    "collapsed": false
   },
   "id": "42806eed11bf5cd8"
  },
  {
   "cell_type": "code",
   "execution_count": null,
   "outputs": [],
   "source": [
    "g = sns.PairGrid(df_max_l1[['num_outliers_removed','num_data_pts','max_dist','MAE','MSE','max_fst_derivative','max_snd_derivative','avg_fst_derivative','avg_snd_derivative']]).map_offdiag(sns.scatterplot).map_diag(sns.histplot)\n",
    "g.savefig(\"../plots/e2/sns_pairgrid.png\")\n",
    "#g = sns.PairGrid(df_max_l1[['num_data_pts','max_dist','max_fst_derivative','max_snd_derivative','avg_fst_derivative','avg_snd_derivative']]).map(sns.scatterplot)"
   ],
   "metadata": {
    "collapsed": false
   },
   "id": "864110f98a7ab4e6"
  },
  {
   "cell_type": "code",
   "execution_count": null,
   "outputs": [],
   "source": [
    "\"\"\"import seaborn as sns\n",
    "sns.set_theme(style=\"ticks\")\n",
    "# for method in ['L8', 'L8 and L1', 'LSQ', 'PAA', 'PLA', 'DFT']:\n",
    "df = e2[e2['method']=='L8 and L1']\n",
    "#sns.pairplot(df[['num_data_pts','method','max_dist','mean_diff','max_fst_derivative']],hue=\"method\")\n",
    "sns.pairplot(df[2:],hue=\"method\")\"\"\""
   ],
   "metadata": {
    "collapsed": false
   },
   "id": "e54fafe8e4690b6a"
  },
  {
   "cell_type": "code",
   "execution_count": null,
   "outputs": [],
   "source": [
    "\"\"\"for measurement in ['max_fst_derivative','max_snd_derivative','avg_fst_derivative','avg_snd_derivative','num_outliers_removed','num_data_pts']:\n",
    "    reg = sns.regplot(data=df_max_l1, x=measurement, y=\"max_dist\")\n",
    "    reg.savefig(f\"../plots/e2/sns_regplot_md_vs_{measurement}.png\")\"\"\""
   ],
   "metadata": {
    "collapsed": false
   },
   "id": "5a01f6bd7d38dd2f"
  },
  {
   "cell_type": "markdown",
   "source": [
    "# Pearson Corr. Coeff. "
   ],
   "metadata": {
    "collapsed": false
   },
   "id": "a9e46fdf1edb8675"
  },
  {
   "cell_type": "code",
   "execution_count": null,
   "outputs": [],
   "source": [
    "#np.finfo(np.float64).tiny"
   ],
   "metadata": {
    "collapsed": false
   },
   "id": "30d04c90ef5b91e7"
  },
  {
   "cell_type": "code",
   "execution_count": null,
   "outputs": [],
   "source": [
    "from scipy.stats import pearsonr\n",
    "corr_coeff, pvalue = pearsonr(df_max_l1['max_dist'], df_max_l1['avg_fst_derivative'])\n",
    "print(\"correlation coefficient:\", corr_coeff)\n",
    "print(\"p-value:\", pvalue)"
   ],
   "metadata": {
    "collapsed": false
   },
   "id": "1c08d7e1ec65d226"
  },
  {
   "cell_type": "code",
   "execution_count": null,
   "outputs": [],
   "source": [
    "corr_coeff, pvalue = pearsonr(df_max_l1['max_dist'], df_max_l1['avg_snd_derivative'])\n",
    "print(\"correlation coefficient:\", corr_coeff)\n",
    "print(\"p-value:\", pvalue)"
   ],
   "metadata": {
    "collapsed": false
   },
   "id": "4369b3ea39ca288b"
  },
  {
   "cell_type": "code",
   "execution_count": null,
   "outputs": [],
   "source": [
    "corr_coeff, pvalue = pearsonr(df_max_l1['max_dist'], df_max_l1['max_fst_derivative'])\n",
    "print(\"correlation coefficient:\", corr_coeff)\n",
    "print(\"p-value:\", pvalue)"
   ],
   "metadata": {
    "collapsed": false
   },
   "id": "50c41ba9b46a9fca"
  },
  {
   "cell_type": "code",
   "execution_count": null,
   "outputs": [],
   "source": [
    "corr_coeff, pvalue = pearsonr(df_max_l1['max_dist'], df_max_l1['max_snd_derivative'])\n",
    "print(\"correlation coefficient:\", corr_coeff)\n",
    "print(\"p-value:\", pvalue)"
   ],
   "metadata": {
    "collapsed": false
   },
   "id": "45f4b9faba02b44"
  },
  {
   "cell_type": "code",
   "execution_count": null,
   "outputs": [],
   "source": [
    "sns.residplot(x=df_max_l1['max_dist'], y=df_max_l1['avg_fst_derivative'],order=3)#,lowess=True,order=3)"
   ],
   "metadata": {
    "collapsed": false
   },
   "id": "c84280be6e329cfa"
  },
  {
   "cell_type": "markdown",
   "source": [
    "# Other Methods\n",
    "## PLA"
   ],
   "metadata": {
    "collapsed": false
   },
   "id": "1ab62c8dfa5c70d1"
  },
  {
   "cell_type": "code",
   "execution_count": null,
   "outputs": [],
   "source": [
    "df_paa = e2[e2['method'] == 'PAA']\n",
    "print(len(df_paa.index))\n",
    "\n",
    "df_pla = e2[e2['method'] == 'PLA']\n",
    "print(len(df_pla.index))\n",
    "      \n",
    "df_l8 = e2[e2['method'] == 'L8']\n",
    "print(len(df_l8.index))\n",
    "\n",
    "df_dft = e2[e2['method'] == 'DFT']\n",
    "print(len(df_dft.index))\n",
    "\n",
    "df_lsq = e2[e2['method'] == 'LSQ']\n",
    "print(len(df_lsq.index))"
   ],
   "metadata": {
    "collapsed": false
   },
   "id": "487c918e78e0228b"
  },
  {
   "cell_type": "code",
   "execution_count": null,
   "outputs": [],
   "source": [
    "print(\"PAA\")\n",
    "corr_coeff, pvalue = pearsonr(df_paa['max_dist'], df_paa['avg_fst_derivative'])\n",
    "print(\"correlation coefficient:\", corr_coeff)\n",
    "print(\"p-value:\", pvalue)\n",
    "\n",
    "corr_coeff, pvalue = pearsonr(df_paa['max_dist'], df_paa['avg_snd_derivative'])\n",
    "print(\"correlation coefficient:\", corr_coeff)\n",
    "print(\"p-value:\", pvalue)\n",
    "\n",
    "corr_coeff, pvalue = pearsonr(df_paa['max_dist'], df_paa['max_fst_derivative'])\n",
    "print(\"correlation coefficient:\", corr_coeff)\n",
    "print(\"p-value:\", pvalue)\n",
    "\n",
    "corr_coeff, pvalue = pearsonr(df_paa['max_dist'], df_paa['max_snd_derivative'])\n",
    "print(\"correlation coefficient:\", corr_coeff)\n",
    "print(\"p-value:\", pvalue)"
   ],
   "metadata": {
    "collapsed": false
   },
   "id": "1d8fcea477d1a7e0"
  },
  {
   "cell_type": "code",
   "execution_count": null,
   "outputs": [],
   "source": [
    "print(\"PLA\")\n",
    "corr_coeff, pvalue = pearsonr(df_pla['max_dist'], df_pla['avg_fst_derivative'])\n",
    "print(\"correlation coefficient:\", corr_coeff)\n",
    "print(\"p-value:\", pvalue)\n",
    "\n",
    "corr_coeff, pvalue = pearsonr(df_pla['max_dist'], df_pla['avg_snd_derivative'])\n",
    "print(\"correlation coefficient:\", corr_coeff)\n",
    "print(\"p-value:\", pvalue)\n",
    "\n",
    "corr_coeff, pvalue = pearsonr(df_pla['max_dist'], df_pla['max_fst_derivative'])\n",
    "print(\"correlation coefficient:\", corr_coeff)\n",
    "print(\"p-value:\", pvalue)\n",
    "\n",
    "corr_coeff, pvalue = pearsonr(df_pla['max_dist'], df_pla['max_snd_derivative'])\n",
    "print(\"correlation coefficient:\", corr_coeff)\n",
    "print(\"p-value:\", pvalue)"
   ],
   "metadata": {
    "collapsed": false
   },
   "id": "5f199428c4ba8100"
  },
  {
   "cell_type": "code",
   "execution_count": null,
   "outputs": [],
   "source": [
    "print(\"L8\")\n",
    "corr_coeff, pvalue = pearsonr(df_l8['max_dist'], df_l8['avg_fst_derivative'])\n",
    "print(\"correlation coefficient:\", corr_coeff)\n",
    "print(\"p-value:\", pvalue)\n",
    "\n",
    "corr_coeff, pvalue = pearsonr(df_l8['max_dist'], df_l8['avg_snd_derivative'])\n",
    "print(\"correlation coefficient:\", corr_coeff)\n",
    "print(\"p-value:\", pvalue)\n",
    "\n",
    "corr_coeff, pvalue = pearsonr(df_l8['max_dist'], df_l8['max_fst_derivative'])\n",
    "print(\"correlation coefficient:\", corr_coeff)\n",
    "print(\"p-value:\", pvalue)\n",
    "\n",
    "corr_coeff, pvalue = pearsonr(df_l8['max_dist'], df_l8['max_snd_derivative'])\n",
    "print(\"correlation coefficient:\", corr_coeff)\n",
    "print(\"p-value:\", pvalue)"
   ],
   "metadata": {
    "collapsed": false
   },
   "id": "b5f41fb0ab0a9275"
  },
  {
   "cell_type": "code",
   "execution_count": null,
   "outputs": [],
   "source": [
    "print(\"LSQ\")\n",
    "corr_coeff, pvalue = pearsonr(df_lsq['max_dist'], df_lsq['avg_fst_derivative'])\n",
    "print(\"correlation coefficient:\", corr_coeff)\n",
    "print(\"p-value:\", pvalue)\n",
    "\n",
    "corr_coeff, pvalue = pearsonr(df_lsq['max_dist'], df_lsq['avg_snd_derivative'])\n",
    "print(\"correlation coefficient:\", corr_coeff)\n",
    "print(\"p-value:\", pvalue)\n",
    "\n",
    "corr_coeff, pvalue = pearsonr(df_lsq['max_dist'], df_lsq['max_fst_derivative'])\n",
    "print(\"correlation coefficient:\", corr_coeff)\n",
    "print(\"p-value:\", pvalue)\n",
    "\n",
    "corr_coeff, pvalue = pearsonr(df_lsq['max_dist'], df_lsq['max_snd_derivative'])\n",
    "print(\"correlation coefficient:\", corr_coeff)\n",
    "print(\"p-value:\", pvalue)"
   ],
   "metadata": {
    "collapsed": false
   },
   "id": "6d67bef58e17bee5"
  },
  {
   "cell_type": "code",
   "execution_count": null,
   "outputs": [],
   "source": [
    "print(\"DFT\")\n",
    "corr_coeff, pvalue = pearsonr(df_dft['max_dist'], df_dft['avg_fst_derivative'])\n",
    "print(\"correlation coefficient:\", corr_coeff)\n",
    "print(\"p-value:\", pvalue)\n",
    "\n",
    "corr_coeff, pvalue = pearsonr(df_dft['max_dist'], df_dft['avg_snd_derivative'])\n",
    "print(\"correlation coefficient:\", corr_coeff)\n",
    "print(\"p-value:\", pvalue)\n",
    "\n",
    "corr_coeff, pvalue = pearsonr(df_dft['max_dist'], df_dft['max_fst_derivative'])\n",
    "print(\"correlation coefficient:\", corr_coeff)\n",
    "print(\"p-value:\", pvalue)\n",
    "\n",
    "corr_coeff, pvalue = pearsonr(df_dft['max_dist'], df_dft['max_snd_derivative'])\n",
    "print(\"correlation coefficient:\", corr_coeff)\n",
    "print(\"p-value:\", pvalue)"
   ],
   "metadata": {
    "collapsed": false
   },
   "id": "9d81548b7c80c81"
  },
  {
   "cell_type": "code",
   "execution_count": null,
   "outputs": [],
   "source": [
    "\"\"\"sns.PairGrid(df_pla[['num_outliers_removed','num_data_pts','max_dist','MAE','MSE','max_fst_derivative','max_snd_derivative','avg_fst_derivative','avg_snd_derivative']]).map_offdiag(sns.scatterplot).map_diag(sns.histplot)\"\"\""
   ],
   "metadata": {
    "collapsed": false
   },
   "id": "198ea55df154e2a6"
  }
 ],
 "metadata": {
  "kernelspec": {
   "display_name": "Python 3",
   "language": "python",
   "name": "python3"
  },
  "language_info": {
   "codemirror_mode": {
    "name": "ipython",
    "version": 2
   },
   "file_extension": ".py",
   "mimetype": "text/x-python",
   "name": "python",
   "nbconvert_exporter": "python",
   "pygments_lexer": "ipython2",
   "version": "2.7.6"
  }
 },
 "nbformat": 4,
 "nbformat_minor": 5
}
