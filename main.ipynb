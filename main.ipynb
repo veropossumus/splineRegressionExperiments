{
 "cells": [
  {
   "cell_type": "code",
   "execution_count": null,
   "id": "f4c31588beb012bb",
   "metadata": {
    "collapsed": false
   },
   "outputs": [],
   "source": [
    "# old data format\n",
    "\"\"\"from utils.data import remove_outliers, load_ucr_dataset\n",
    "\n",
    "# load data to work with here\n",
    "#data = normalize_datasets(load_ucr_archive())\n",
    "data = load_ucr_dataset(47).normalize()\n",
    "#data = normalize_datasets(load_gbnc_ngrams_as_datasets())\n",
    "\n",
    "data_lof = remove_outliers(data)\n",
    "\"\"\""
   ]
  },
  {
   "cell_type": "code",
   "execution_count": null,
   "outputs": [],
   "source": [
    "from utils.data import remove_outliers, load_ucr_dataset\n",
    "\n",
    "data = load_ucr_dataset(47)\n",
    "data_lof = data\n",
    "for index, row in data_lof.iterrows():\n",
    "    row['data'] = remove_outliers(row['data'])"
   ],
   "metadata": {
    "collapsed": false
   },
   "id": "3a4b3542332b300c"
  },
  {
   "cell_type": "code",
   "execution_count": null,
   "id": "3ed428f39b05b58b",
   "metadata": {
    "collapsed": false
   },
   "outputs": [],
   "source": [
    "# set other important global information here\n",
    "eps = 0.0000001\n",
    "#eps = 0.000001\n"
   ]
  },
  {
   "cell_type": "code",
   "execution_count": null,
   "id": "6f17db3d968ae2c2",
   "metadata": {
    "collapsed": false
   },
   "outputs": [],
   "source": [
    "def flatten(l):\n",
    "    return [item for sublist in l for item in sublist]\n",
    "\n",
    "\n",
    "n = 3  # degree of the spline\n",
    "p = 8  # number of internal knots\n",
    "\n",
    "knots = flatten((n + 1) * [[0]] + [[x / (p + 1)] for x in range(1, p + 1)] + (n + 1) * [[1]])\n",
    "\n",
    "m = len(knots) - 1 - n  # number of control points (coefficients)"
   ]
  },
  {
   "cell_type": "code",
   "execution_count": null,
   "id": "61cb0be7c5c0271c",
   "metadata": {
    "collapsed": false
   },
   "outputs": [],
   "source": [
    "import matplotlib.colors as mcolors\n",
    "\n",
    "print(mcolors)"
   ]
  },
  {
   "cell_type": "markdown",
   "id": "5db51d3ead7f938d",
   "metadata": {},
   "source": [
    "The following function calculates different accuracy metrics for the different fitting method and returns them as a 2D array (one column for each fitting method)."
   ]
  },
  {
   "cell_type": "code",
   "execution_count": null,
   "id": "acab050f70980192",
   "metadata": {
    "collapsed": false
   },
   "outputs": [],
   "source": [
    "import scipy\n",
    "from sklearn.metrics import mean_squared_error, mean_absolute_error\n",
    "from utils.spline import evaluate_spline, calculate_max_dist\n",
    "from utils.fit import fit_max_spline, fit_max_l1_spline\n",
    "\n",
    "\n",
    "def calculate_errors(data_tuples, knots, n):\n",
    "    result1 = scipy.interpolate.make_lsq_spline([x[0] for x in data_tuples], [x[1] for x in data_tuples], knots, k=n).c\n",
    "    result2 = fit_max_spline(data_tuples, knots, n)[1]\n",
    "    result3 = fit_max_l1_spline(data_tuples, knots, n, eps=eps)[1]\n",
    "\n",
    "    results = [result1, result2, result3]\n",
    "\n",
    "    errors = []\n",
    "    data_points = [x[1] for x in data_tuples]\n",
    "    counter = 0\n",
    "    for result in results:\n",
    "        counter += 1\n",
    "        fitted_spline = [evaluate_spline(knots, result, n, x[0]) for x in data_tuples]  #data_points]\n",
    "        max_dist = calculate_max_dist(knots, result, n, data_tuples)[0]\n",
    "        errors.append([max_dist,  # maximum absolute distance,\n",
    "                       mean_squared_error(data_points, fitted_spline),  # MSE\n",
    "                       sqrt(mean_squared_error(data_points, fitted_spline)),  # RMSE\n",
    "                       mean_absolute_error(data_points, fitted_spline)  # MAE\n",
    "                       ])\n",
    "\n",
    "    return errors"
   ]
  },
  {
   "cell_type": "markdown",
   "id": "6f99293b3f7cb011",
   "metadata": {},
   "source": [
    "Here, the accuracy metrics are averaged for a whole dataset."
   ]
  },
  {
   "cell_type": "code",
   "execution_count": null,
   "id": "489b17460360faa6",
   "metadata": {
    "collapsed": false
   },
   "outputs": [],
   "source": [
    "%%time\n",
    "from math import sqrt\n",
    "import pandas as pd\n",
    "import numpy as np\n",
    "\n",
    "assert (len(data) == len(data_lof))\n",
    "\n",
    "# fit spline and measure errors\n",
    "all_errors = []\n",
    "for i in range(len(data)):\n",
    "    errors = calculate_errors(data[i], knots, n)  #+ calculate_errors(data_lof[i], knots, n)\n",
    "    all_errors.append(errors)\n",
    "\n",
    "#row_names = ['LSQ', 'LSQ w/o outliers', 'Max', 'Max w/o outliers', 'Max and L1', 'Max and L1 w/o outliers']\n",
    "row_names = ['LSQ', 'Max', 'Max and L1']\n",
    "\n",
    "avg_errors = np.array([\n",
    "    [sum(all_errors[x][i][j] for x in range(len(all_errors))) / len(all_errors) for j in range(len(all_errors[0][0]))]\n",
    "    for i in range(len(all_errors[0]))\n",
    "])\n",
    "\n",
    "df = pd.DataFrame(avg_errors, columns=['max_dist', 'MSE', 'RMSE', 'MAE'])\n",
    "df.columns = pd.MultiIndex.from_product([['avg. measures'], df.columns])\n",
    "df.index = row_names\n",
    "print(df)\n",
    "print(\"n:\", n)\n",
    "print(\"p:\", p)\n",
    "print(\"eps:\", eps)\n"
   ]
  },
  {
   "cell_type": "code",
   "execution_count": null,
   "id": "a65f742c870d407b",
   "metadata": {
    "collapsed": false
   },
   "outputs": [],
   "source": [
    "import numpy as np\n",
    "import matplotlib.colors as mcolors\n",
    "\n",
    "\n",
    "def plot_splines(axis, data, labels='None'):\n",
    "    result1 = scipy.interpolate.make_lsq_spline([x[0] for x in data], [x[1] for x in data], knots, k=n).c\n",
    "    t, result2 = fit_max_spline(data, knots, n)\n",
    "    result3 = fit_max_l1_spline(data, knots, n, eps=eps)[1]\n",
    "\n",
    "    results = [result1, result2, result3]\n",
    "    max_dists = [calculate_max_dist(knots, result, n, data)[0] for result in results]\n",
    "    colors = list(mcolors.BASE_COLORS.keys())\n",
    "\n",
    "    xs = np.linspace(0, 1, num=1000)\n",
    "\n",
    "    print(\"opt distance\", t)\n",
    "\n",
    "    for i in range(len(results)):\n",
    "        axis.plot(xs, [evaluate_spline(knots, results[i], n, x) for x in xs], colors[i % len(colors)] + '-',\n",
    "                  label=labels[i])\n",
    "        axis.plot(xs, [evaluate_spline(knots, results[i], n, x) + max_dists[i] for x in xs],\n",
    "                  colors[i % len(colors)] + '--')\n",
    "        axis.plot(xs, [evaluate_spline(knots, results[i], n, x) - max_dists[i] for x in xs],\n",
    "                  colors[i % len(colors)] + '--')\n",
    "\n",
    "    axis.scatter([d[0] for d in data], [d[1] for d in data], marker='.')\n",
    "    print(\"number of data points:\", len(data))\n",
    "    axis.legend()"
   ]
  },
  {
   "cell_type": "code",
   "execution_count": null,
   "id": "15bc6555718162ad",
   "metadata": {
    "collapsed": false
   },
   "outputs": [],
   "source": [
    "from matplotlib import pyplot as plt\n",
    "\n",
    "row_names = ['LSQ', 'Max', 'Max and L1']\n",
    "fitting_methods = [r'$L_2$', r'$L_{\\infty}$', r'$L_{\\infty}$ and $L_1$']\n",
    "# single plot\n",
    "for data_tuples in data:\n",
    "    plot_splines(plt, data_tuples, fitting_methods)\n",
    "\n",
    "    error_metrics = calculate_errors(data_tuples, knots, n)\n",
    "    df = pd.DataFrame(error_metrics, columns=['max_dist', 'MSE', 'RMSE', 'MAE'])\n",
    "    df.index = row_names\n",
    "    print(df)\n",
    "\n",
    "    plt.show()"
   ]
  },
  {
   "cell_type": "markdown",
   "id": "c877c68e23012d21",
   "metadata": {},
   "source": [
    "Both the original data and the data without outliers are plotted here."
   ]
  },
  {
   "cell_type": "code",
   "execution_count": null,
   "id": "884b436ae5f61410",
   "metadata": {
    "collapsed": false
   },
   "outputs": [],
   "source": [
    "from matplotlib import pyplot as plt\n",
    "\n",
    "fitting_methods = [r'$L_2$', r'$L_{\\infty}$', r'$L_{\\infty}$ and $L_1$']\n",
    "# plot data and data without outliers next to each other\n",
    "assert (len(data) == len(data_lof))\n",
    "for i in range(len(data)):\n",
    "    f, axes = plt.subplots(1, 2, sharey=True)\n",
    "    f.set_figwidth(12)\n",
    "\n",
    "    error_metrics = calculate_errors(data[i], knots, n)\n",
    "    df1 = pd.DataFrame(error_metrics, columns=['max_dist', 'MSE', 'RMSE', 'MAE'])\n",
    "    df1.index = row_names\n",
    "    print(df1)\n",
    "\n",
    "    plot_splines(axes[0], data[i], fitting_methods)\n",
    "    axes[0].set_title(\"Data including outliers\")\n",
    "    #axes[0].table(cellText=df1.values.round(4), colLabels=df1.columns)\n",
    "\n",
    "    error_metrics = calculate_errors(data_lof[i], knots, n)\n",
    "    df2 = pd.DataFrame(error_metrics, columns=['max_dist', 'MSE', 'RMSE', 'MAE'])\n",
    "    df2.index = row_names\n",
    "    print(df2)\n",
    "\n",
    "    plot_splines(axes[1], data_lof[i], fitting_methods)\n",
    "    axes[1].set_title(\"Data without outliers\")\n",
    "    #axes[1].table(cellText=df2.values.round(4), colLabels=df2.columns)\n",
    "\n",
    "    plt.subplots_adjust(bottom=0.25, top=0.95)\n",
    "\n",
    "    plt.show()"
   ]
  }
 ],
 "metadata": {
  "kernelspec": {
   "display_name": "Python 3 (ipykernel)",
   "language": "python",
   "name": "python3"
  },
  "language_info": {
   "codemirror_mode": {
    "name": "ipython",
    "version": 3
   },
   "file_extension": ".py",
   "mimetype": "text/x-python",
   "name": "python",
   "nbconvert_exporter": "python",
   "pygments_lexer": "ipython3",
   "version": "3.11.6"
  }
 },
 "nbformat": 4,
 "nbformat_minor": 5
}
