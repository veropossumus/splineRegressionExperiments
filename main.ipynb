{
 "cells": [
  {
   "cell_type": "code",
   "execution_count": 1,
   "id": "f4c31588beb012bb",
   "metadata": {
    "collapsed": false,
    "ExecuteTime": {
     "end_time": "2024-02-09T16:46:59.124982Z",
     "start_time": "2024-02-09T16:46:59.088443300Z"
    }
   },
   "outputs": [
    {
     "data": {
      "text/plain": "'from utils.data import remove_outliers, load_ucr_dataset\\n\\n# load data to work with here\\n#data = normalize_datasets(load_ucr_archive())\\ndata = load_ucr_dataset(47).normalize()\\n#data = normalize_datasets(load_gbnc_ngrams_as_datasets())\\n\\ndata_lof = remove_outliers(data)\\n'"
     },
     "execution_count": 1,
     "metadata": {},
     "output_type": "execute_result"
    }
   ],
   "source": [
    "# old data format\n",
    "\"\"\"from utils.data import remove_outliers, load_ucr_dataset\n",
    "\n",
    "# load data to work with here\n",
    "#data = normalize_datasets(load_ucr_archive())\n",
    "data = load_ucr_dataset(47).normalize()\n",
    "#data = normalize_datasets(load_gbnc_ngrams_as_datasets())\n",
    "\n",
    "data_lof = remove_outliers(data)\n",
    "\"\"\""
   ]
  },
  {
   "cell_type": "code",
   "execution_count": 2,
   "outputs": [],
   "source": [
    "from utils.data import remove_outliers, load_ucr_dataset\n",
    "\n",
    "data = load_ucr_dataset(47)\n",
    "data_lof = data\n",
    "for index, row in data_lof.iterrows():\n",
    "    row['data'] = remove_outliers(row['data'])"
   ],
   "metadata": {
    "collapsed": false,
    "ExecuteTime": {
     "end_time": "2024-02-09T16:47:00.287616900Z",
     "start_time": "2024-02-09T16:46:59.095983600Z"
    }
   },
   "id": "3a4b3542332b300c"
  },
  {
   "cell_type": "code",
   "execution_count": 3,
   "id": "3ed428f39b05b58b",
   "metadata": {
    "collapsed": false,
    "ExecuteTime": {
     "end_time": "2024-02-09T16:47:00.296037800Z",
     "start_time": "2024-02-09T16:47:00.289775300Z"
    }
   },
   "outputs": [],
   "source": [
    "# set other important global information here\n",
    "eps = 0.0000001\n",
    "#eps = 0.000001\n"
   ]
  },
  {
   "cell_type": "code",
   "execution_count": 4,
   "id": "6f17db3d968ae2c2",
   "metadata": {
    "collapsed": false,
    "ExecuteTime": {
     "end_time": "2024-02-09T16:47:00.297040400Z",
     "start_time": "2024-02-09T16:47:00.294464400Z"
    }
   },
   "outputs": [],
   "source": [
    "def flatten(l):\n",
    "    return [item for sublist in l for item in sublist]\n",
    "\n",
    "\n",
    "n = 3  # degree of the spline\n",
    "p = 8  # number of internal knots\n",
    "\n",
    "knots = flatten((n + 1) * [[0]] + [[x / (p + 1)] for x in range(1, p + 1)] + (n + 1) * [[1]])\n",
    "\n",
    "m = len(knots) - 1 - n  # number of control points (coefficients)"
   ]
  },
  {
   "cell_type": "code",
   "execution_count": 5,
   "id": "61cb0be7c5c0271c",
   "metadata": {
    "collapsed": false,
    "ExecuteTime": {
     "end_time": "2024-02-09T16:47:00.388239900Z",
     "start_time": "2024-02-09T16:47:00.298039600Z"
    }
   },
   "outputs": [
    {
     "name": "stdout",
     "output_type": "stream",
     "text": [
      "<module 'matplotlib.colors' from 'C:\\\\Users\\\\veron\\\\Desktop\\\\Bachelorarbeit_Info\\\\Code\\\\splineRegressionExperiments\\\\venv\\\\Lib\\\\site-packages\\\\matplotlib\\\\colors.py'>\n"
     ]
    }
   ],
   "source": [
    "import matplotlib.colors as mcolors\n",
    "\n",
    "print(mcolors)"
   ]
  },
  {
   "cell_type": "markdown",
   "id": "5db51d3ead7f938d",
   "metadata": {},
   "source": [
    "The following function calculates different accuracy metrics for the different fitting method and returns them as a 2D array (one column for each fitting method)."
   ]
  },
  {
   "cell_type": "code",
   "execution_count": 6,
   "id": "acab050f70980192",
   "metadata": {
    "collapsed": false,
    "ExecuteTime": {
     "end_time": "2024-02-09T16:47:00.659416200Z",
     "start_time": "2024-02-09T16:47:00.387240800Z"
    }
   },
   "outputs": [],
   "source": [
    "import scipy\n",
    "from sklearn.metrics import mean_squared_error, mean_absolute_error\n",
    "from utils.spline import evaluate_spline, calculate_max_dist\n",
    "from utils.fit import fit_max_spline, fit_max_l1_spline\n",
    "\n",
    "\n",
    "def calculate_errors(data_tuples, knots, n):\n",
    "    result1 = scipy.interpolate.make_lsq_spline([x[0] for x in data_tuples], [x[1] for x in data_tuples], knots, k=n).c\n",
    "    result2 = fit_max_spline(data_tuples, knots, n)[1]\n",
    "    result3 = fit_max_l1_spline(data_tuples, knots, n, eps=eps)[1]\n",
    "\n",
    "    results = [result1, result2, result3]\n",
    "\n",
    "    errors = []\n",
    "    data_points = [x[1] for x in data_tuples]\n",
    "    counter = 0\n",
    "    for result in results:\n",
    "        counter += 1\n",
    "        fitted_spline = [evaluate_spline(knots, result, n, x[0]) for x in data_tuples]  #data_points]\n",
    "        max_dist = calculate_max_dist(knots, result, n, data_tuples)[0]\n",
    "        errors.append([max_dist,  # maximum absolute distance,\n",
    "                       mean_squared_error(data_points, fitted_spline),  # MSE\n",
    "                       sqrt(mean_squared_error(data_points, fitted_spline)),  # RMSE\n",
    "                       mean_absolute_error(data_points, fitted_spline)  # MAE\n",
    "                       ])\n",
    "\n",
    "    return errors"
   ]
  },
  {
   "cell_type": "markdown",
   "id": "6f99293b3f7cb011",
   "metadata": {},
   "source": [
    "Here, the accuracy metrics are averaged for a whole dataset."
   ]
  },
  {
   "cell_type": "code",
   "execution_count": 7,
   "id": "489b17460360faa6",
   "metadata": {
    "collapsed": false,
    "ExecuteTime": {
     "end_time": "2024-02-09T16:47:01.554031400Z",
     "start_time": "2024-02-09T16:47:00.660414700Z"
    }
   },
   "outputs": [
    {
     "ename": "KeyError",
     "evalue": "0",
     "output_type": "error",
     "traceback": [
      "\u001B[1;31m---------------------------------------------------------------------------\u001B[0m",
      "\u001B[1;31mKeyError\u001B[0m                                  Traceback (most recent call last)",
      "File \u001B[1;32m~\\Desktop\\Bachelorarbeit_Info\\Code\\splineRegressionExperiments\\venv\\Lib\\site-packages\\pandas\\core\\indexes\\base.py:3653\u001B[0m, in \u001B[0;36mIndex.get_loc\u001B[1;34m(self, key)\u001B[0m\n\u001B[0;32m   3652\u001B[0m \u001B[38;5;28;01mtry\u001B[39;00m:\n\u001B[1;32m-> 3653\u001B[0m     \u001B[38;5;28;01mreturn\u001B[39;00m \u001B[38;5;28;43mself\u001B[39;49m\u001B[38;5;241;43m.\u001B[39;49m\u001B[43m_engine\u001B[49m\u001B[38;5;241;43m.\u001B[39;49m\u001B[43mget_loc\u001B[49m\u001B[43m(\u001B[49m\u001B[43mcasted_key\u001B[49m\u001B[43m)\u001B[49m\n\u001B[0;32m   3654\u001B[0m \u001B[38;5;28;01mexcept\u001B[39;00m \u001B[38;5;167;01mKeyError\u001B[39;00m \u001B[38;5;28;01mas\u001B[39;00m err:\n",
      "File \u001B[1;32m~\\Desktop\\Bachelorarbeit_Info\\Code\\splineRegressionExperiments\\venv\\Lib\\site-packages\\pandas\\_libs\\index.pyx:147\u001B[0m, in \u001B[0;36mpandas._libs.index.IndexEngine.get_loc\u001B[1;34m()\u001B[0m\n",
      "File \u001B[1;32m~\\Desktop\\Bachelorarbeit_Info\\Code\\splineRegressionExperiments\\venv\\Lib\\site-packages\\pandas\\_libs\\index.pyx:176\u001B[0m, in \u001B[0;36mpandas._libs.index.IndexEngine.get_loc\u001B[1;34m()\u001B[0m\n",
      "File \u001B[1;32mpandas\\_libs\\hashtable_class_helper.pxi:7080\u001B[0m, in \u001B[0;36mpandas._libs.hashtable.PyObjectHashTable.get_item\u001B[1;34m()\u001B[0m\n",
      "File \u001B[1;32mpandas\\_libs\\hashtable_class_helper.pxi:7088\u001B[0m, in \u001B[0;36mpandas._libs.hashtable.PyObjectHashTable.get_item\u001B[1;34m()\u001B[0m\n",
      "\u001B[1;31mKeyError\u001B[0m: 0",
      "\nThe above exception was the direct cause of the following exception:\n",
      "\u001B[1;31mKeyError\u001B[0m                                  Traceback (most recent call last)",
      "File \u001B[1;32m<timed exec>:10\u001B[0m\n",
      "File \u001B[1;32m~\\Desktop\\Bachelorarbeit_Info\\Code\\splineRegressionExperiments\\venv\\Lib\\site-packages\\pandas\\core\\frame.py:3761\u001B[0m, in \u001B[0;36mDataFrame.__getitem__\u001B[1;34m(self, key)\u001B[0m\n\u001B[0;32m   3759\u001B[0m \u001B[38;5;28;01mif\u001B[39;00m \u001B[38;5;28mself\u001B[39m\u001B[38;5;241m.\u001B[39mcolumns\u001B[38;5;241m.\u001B[39mnlevels \u001B[38;5;241m>\u001B[39m \u001B[38;5;241m1\u001B[39m:\n\u001B[0;32m   3760\u001B[0m     \u001B[38;5;28;01mreturn\u001B[39;00m \u001B[38;5;28mself\u001B[39m\u001B[38;5;241m.\u001B[39m_getitem_multilevel(key)\n\u001B[1;32m-> 3761\u001B[0m indexer \u001B[38;5;241m=\u001B[39m \u001B[38;5;28;43mself\u001B[39;49m\u001B[38;5;241;43m.\u001B[39;49m\u001B[43mcolumns\u001B[49m\u001B[38;5;241;43m.\u001B[39;49m\u001B[43mget_loc\u001B[49m\u001B[43m(\u001B[49m\u001B[43mkey\u001B[49m\u001B[43m)\u001B[49m\n\u001B[0;32m   3762\u001B[0m \u001B[38;5;28;01mif\u001B[39;00m is_integer(indexer):\n\u001B[0;32m   3763\u001B[0m     indexer \u001B[38;5;241m=\u001B[39m [indexer]\n",
      "File \u001B[1;32m~\\Desktop\\Bachelorarbeit_Info\\Code\\splineRegressionExperiments\\venv\\Lib\\site-packages\\pandas\\core\\indexes\\base.py:3655\u001B[0m, in \u001B[0;36mIndex.get_loc\u001B[1;34m(self, key)\u001B[0m\n\u001B[0;32m   3653\u001B[0m     \u001B[38;5;28;01mreturn\u001B[39;00m \u001B[38;5;28mself\u001B[39m\u001B[38;5;241m.\u001B[39m_engine\u001B[38;5;241m.\u001B[39mget_loc(casted_key)\n\u001B[0;32m   3654\u001B[0m \u001B[38;5;28;01mexcept\u001B[39;00m \u001B[38;5;167;01mKeyError\u001B[39;00m \u001B[38;5;28;01mas\u001B[39;00m err:\n\u001B[1;32m-> 3655\u001B[0m     \u001B[38;5;28;01mraise\u001B[39;00m \u001B[38;5;167;01mKeyError\u001B[39;00m(key) \u001B[38;5;28;01mfrom\u001B[39;00m \u001B[38;5;21;01merr\u001B[39;00m\n\u001B[0;32m   3656\u001B[0m \u001B[38;5;28;01mexcept\u001B[39;00m \u001B[38;5;167;01mTypeError\u001B[39;00m:\n\u001B[0;32m   3657\u001B[0m     \u001B[38;5;66;03m# If we have a listlike key, _check_indexing_error will raise\u001B[39;00m\n\u001B[0;32m   3658\u001B[0m     \u001B[38;5;66;03m#  InvalidIndexError. Otherwise we fall through and re-raise\u001B[39;00m\n\u001B[0;32m   3659\u001B[0m     \u001B[38;5;66;03m#  the TypeError.\u001B[39;00m\n\u001B[0;32m   3660\u001B[0m     \u001B[38;5;28mself\u001B[39m\u001B[38;5;241m.\u001B[39m_check_indexing_error(key)\n",
      "\u001B[1;31mKeyError\u001B[0m: 0"
     ]
    }
   ],
   "source": [
    "%%time\n",
    "from math import sqrt\n",
    "import pandas as pd\n",
    "import numpy as np\n",
    "\n",
    "assert (len(data) == len(data_lof))\n",
    "\n",
    "# fit spline and measure errors\n",
    "all_errors = []\n",
    "for i in range(len(data)):\n",
    "    errors = calculate_errors(data[i], knots, n)  #+ calculate_errors(data_lof[i], knots, n)\n",
    "    all_errors.append(errors)\n",
    "\n",
    "#row_names = ['LSQ', 'LSQ w/o outliers', 'Max', 'Max w/o outliers', 'Max and L1', 'Max and L1 w/o outliers']\n",
    "row_names = ['LSQ', 'Max', 'Max and L1']\n",
    "\n",
    "avg_errors = np.array([\n",
    "    [sum(all_errors[x][i][j] for x in range(len(all_errors))) / len(all_errors) for j in range(len(all_errors[0][0]))]\n",
    "    for i in range(len(all_errors[0]))\n",
    "])\n",
    "\n",
    "df = pd.DataFrame(avg_errors, columns=['max_dist', 'MSE', 'RMSE', 'MAE'])\n",
    "df.columns = pd.MultiIndex.from_product([['avg. measures'], df.columns])\n",
    "df.index = row_names\n",
    "print(df)\n",
    "print(\"n:\", n)\n",
    "print(\"p:\", p)\n",
    "print(\"eps:\", eps)\n"
   ]
  },
  {
   "cell_type": "code",
   "execution_count": 8,
   "id": "a65f742c870d407b",
   "metadata": {
    "collapsed": false,
    "ExecuteTime": {
     "end_time": "2024-02-09T16:47:01.562021800Z",
     "start_time": "2024-02-09T16:47:01.555032700Z"
    }
   },
   "outputs": [],
   "source": [
    "import numpy as np\n",
    "import matplotlib.colors as mcolors\n",
    "\n",
    "\n",
    "def plot_splines(axis, data, labels='None'):\n",
    "    result1 = scipy.interpolate.make_lsq_spline([x[0] for x in data], [x[1] for x in data], knots, k=n).c\n",
    "    t, result2 = fit_max_spline(data, knots, n)\n",
    "    result3 = fit_max_l1_spline(data, knots, n, eps=eps)[1]\n",
    "\n",
    "    results = [result1, result2, result3]\n",
    "    max_dists = [calculate_max_dist(knots, result, n, data)[0] for result in results]\n",
    "    colors = list(mcolors.BASE_COLORS.keys())\n",
    "\n",
    "    xs = np.linspace(0, 1, num=1000)\n",
    "\n",
    "    print(\"opt distance\", t)\n",
    "\n",
    "    for i in range(len(results)):\n",
    "        axis.plot(xs, [evaluate_spline(knots, results[i], n, x) for x in xs], colors[i % len(colors)] + '-',\n",
    "                  label=labels[i])\n",
    "        axis.plot(xs, [evaluate_spline(knots, results[i], n, x) + max_dists[i] for x in xs],\n",
    "                  colors[i % len(colors)] + '--')\n",
    "        axis.plot(xs, [evaluate_spline(knots, results[i], n, x) - max_dists[i] for x in xs],\n",
    "                  colors[i % len(colors)] + '--')\n",
    "\n",
    "    axis.scatter([d[0] for d in data], [d[1] for d in data], marker='.')\n",
    "    print(\"number of data points:\", len(data))\n",
    "    axis.legend()"
   ]
  },
  {
   "cell_type": "code",
   "execution_count": 9,
   "id": "15bc6555718162ad",
   "metadata": {
    "collapsed": false,
    "ExecuteTime": {
     "end_time": "2024-02-09T16:47:01.979264800Z",
     "start_time": "2024-02-09T16:47:01.561021800Z"
    }
   },
   "outputs": [
    {
     "ename": "IndexError",
     "evalue": "string index out of range",
     "output_type": "error",
     "traceback": [
      "\u001B[1;31m---------------------------------------------------------------------------\u001B[0m",
      "\u001B[1;31mIndexError\u001B[0m                                Traceback (most recent call last)",
      "Cell \u001B[1;32mIn[9], line 7\u001B[0m\n\u001B[0;32m      5\u001B[0m \u001B[38;5;66;03m# single plot\u001B[39;00m\n\u001B[0;32m      6\u001B[0m \u001B[38;5;28;01mfor\u001B[39;00m data_tuples \u001B[38;5;129;01min\u001B[39;00m data:\n\u001B[1;32m----> 7\u001B[0m     \u001B[43mplot_splines\u001B[49m\u001B[43m(\u001B[49m\u001B[43mplt\u001B[49m\u001B[43m,\u001B[49m\u001B[43m \u001B[49m\u001B[43mdata_tuples\u001B[49m\u001B[43m,\u001B[49m\u001B[43m \u001B[49m\u001B[43mfitting_methods\u001B[49m\u001B[43m)\u001B[49m\n\u001B[0;32m      9\u001B[0m     error_metrics \u001B[38;5;241m=\u001B[39m calculate_errors(data_tuples, knots, n)\n\u001B[0;32m     10\u001B[0m     df \u001B[38;5;241m=\u001B[39m pd\u001B[38;5;241m.\u001B[39mDataFrame(error_metrics, columns\u001B[38;5;241m=\u001B[39m[\u001B[38;5;124m'\u001B[39m\u001B[38;5;124mmax_dist\u001B[39m\u001B[38;5;124m'\u001B[39m, \u001B[38;5;124m'\u001B[39m\u001B[38;5;124mMSE\u001B[39m\u001B[38;5;124m'\u001B[39m, \u001B[38;5;124m'\u001B[39m\u001B[38;5;124mRMSE\u001B[39m\u001B[38;5;124m'\u001B[39m, \u001B[38;5;124m'\u001B[39m\u001B[38;5;124mMAE\u001B[39m\u001B[38;5;124m'\u001B[39m])\n",
      "Cell \u001B[1;32mIn[8], line 6\u001B[0m, in \u001B[0;36mplot_splines\u001B[1;34m(axis, data, labels)\u001B[0m\n\u001B[0;32m      5\u001B[0m \u001B[38;5;28;01mdef\u001B[39;00m \u001B[38;5;21mplot_splines\u001B[39m(axis, data, labels\u001B[38;5;241m=\u001B[39m\u001B[38;5;124m'\u001B[39m\u001B[38;5;124mNone\u001B[39m\u001B[38;5;124m'\u001B[39m):\n\u001B[1;32m----> 6\u001B[0m     result1 \u001B[38;5;241m=\u001B[39m scipy\u001B[38;5;241m.\u001B[39minterpolate\u001B[38;5;241m.\u001B[39mmake_lsq_spline([x[\u001B[38;5;241m0\u001B[39m] \u001B[38;5;28;01mfor\u001B[39;00m x \u001B[38;5;129;01min\u001B[39;00m data], \u001B[43m[\u001B[49m\u001B[43mx\u001B[49m\u001B[43m[\u001B[49m\u001B[38;5;241;43m1\u001B[39;49m\u001B[43m]\u001B[49m\u001B[43m \u001B[49m\u001B[38;5;28;43;01mfor\u001B[39;49;00m\u001B[43m \u001B[49m\u001B[43mx\u001B[49m\u001B[43m \u001B[49m\u001B[38;5;129;43;01min\u001B[39;49;00m\u001B[43m \u001B[49m\u001B[43mdata\u001B[49m\u001B[43m]\u001B[49m, knots, k\u001B[38;5;241m=\u001B[39mn)\u001B[38;5;241m.\u001B[39mc\n\u001B[0;32m      7\u001B[0m     t, result2 \u001B[38;5;241m=\u001B[39m fit_max_spline(data, knots, n)\n\u001B[0;32m      8\u001B[0m     result3 \u001B[38;5;241m=\u001B[39m fit_max_l1_spline(data, knots, n, eps\u001B[38;5;241m=\u001B[39meps)[\u001B[38;5;241m1\u001B[39m]\n",
      "Cell \u001B[1;32mIn[8], line 6\u001B[0m, in \u001B[0;36m<listcomp>\u001B[1;34m(.0)\u001B[0m\n\u001B[0;32m      5\u001B[0m \u001B[38;5;28;01mdef\u001B[39;00m \u001B[38;5;21mplot_splines\u001B[39m(axis, data, labels\u001B[38;5;241m=\u001B[39m\u001B[38;5;124m'\u001B[39m\u001B[38;5;124mNone\u001B[39m\u001B[38;5;124m'\u001B[39m):\n\u001B[1;32m----> 6\u001B[0m     result1 \u001B[38;5;241m=\u001B[39m scipy\u001B[38;5;241m.\u001B[39minterpolate\u001B[38;5;241m.\u001B[39mmake_lsq_spline([x[\u001B[38;5;241m0\u001B[39m] \u001B[38;5;28;01mfor\u001B[39;00m x \u001B[38;5;129;01min\u001B[39;00m data], [\u001B[43mx\u001B[49m\u001B[43m[\u001B[49m\u001B[38;5;241;43m1\u001B[39;49m\u001B[43m]\u001B[49m \u001B[38;5;28;01mfor\u001B[39;00m x \u001B[38;5;129;01min\u001B[39;00m data], knots, k\u001B[38;5;241m=\u001B[39mn)\u001B[38;5;241m.\u001B[39mc\n\u001B[0;32m      7\u001B[0m     t, result2 \u001B[38;5;241m=\u001B[39m fit_max_spline(data, knots, n)\n\u001B[0;32m      8\u001B[0m     result3 \u001B[38;5;241m=\u001B[39m fit_max_l1_spline(data, knots, n, eps\u001B[38;5;241m=\u001B[39meps)[\u001B[38;5;241m1\u001B[39m]\n",
      "\u001B[1;31mIndexError\u001B[0m: string index out of range"
     ]
    }
   ],
   "source": [
    "from matplotlib import pyplot as plt\n",
    "\n",
    "row_names = ['LSQ', 'Max', 'Max and L1']\n",
    "fitting_methods = [r'$L_2$', r'$L_{\\infty}$', r'$L_{\\infty}$ and $L_1$']\n",
    "# single plot\n",
    "for data_tuples in data:\n",
    "    plot_splines(plt, data_tuples, fitting_methods)\n",
    "\n",
    "    error_metrics = calculate_errors(data_tuples, knots, n)\n",
    "    df = pd.DataFrame(error_metrics, columns=['max_dist', 'MSE', 'RMSE', 'MAE'])\n",
    "    df.index = row_names\n",
    "    print(df)\n",
    "\n",
    "    plt.show()"
   ]
  },
  {
   "cell_type": "markdown",
   "id": "c877c68e23012d21",
   "metadata": {},
   "source": [
    "Both the original data and the data without outliers are plotted here."
   ]
  },
  {
   "cell_type": "code",
   "execution_count": 10,
   "id": "884b436ae5f61410",
   "metadata": {
    "collapsed": false,
    "ExecuteTime": {
     "end_time": "2024-02-09T16:47:40.245651900Z",
     "start_time": "2024-02-09T16:47:40.046474100Z"
    }
   },
   "outputs": [
    {
     "ename": "KeyError",
     "evalue": "0",
     "output_type": "error",
     "traceback": [
      "\u001B[1;31m---------------------------------------------------------------------------\u001B[0m",
      "\u001B[1;31mKeyError\u001B[0m                                  Traceback (most recent call last)",
      "File \u001B[1;32m~\\Desktop\\Bachelorarbeit_Info\\Code\\splineRegressionExperiments\\venv\\Lib\\site-packages\\pandas\\core\\indexes\\base.py:3653\u001B[0m, in \u001B[0;36mIndex.get_loc\u001B[1;34m(self, key)\u001B[0m\n\u001B[0;32m   3652\u001B[0m \u001B[38;5;28;01mtry\u001B[39;00m:\n\u001B[1;32m-> 3653\u001B[0m     \u001B[38;5;28;01mreturn\u001B[39;00m \u001B[38;5;28;43mself\u001B[39;49m\u001B[38;5;241;43m.\u001B[39;49m\u001B[43m_engine\u001B[49m\u001B[38;5;241;43m.\u001B[39;49m\u001B[43mget_loc\u001B[49m\u001B[43m(\u001B[49m\u001B[43mcasted_key\u001B[49m\u001B[43m)\u001B[49m\n\u001B[0;32m   3654\u001B[0m \u001B[38;5;28;01mexcept\u001B[39;00m \u001B[38;5;167;01mKeyError\u001B[39;00m \u001B[38;5;28;01mas\u001B[39;00m err:\n",
      "File \u001B[1;32m~\\Desktop\\Bachelorarbeit_Info\\Code\\splineRegressionExperiments\\venv\\Lib\\site-packages\\pandas\\_libs\\index.pyx:147\u001B[0m, in \u001B[0;36mpandas._libs.index.IndexEngine.get_loc\u001B[1;34m()\u001B[0m\n",
      "File \u001B[1;32m~\\Desktop\\Bachelorarbeit_Info\\Code\\splineRegressionExperiments\\venv\\Lib\\site-packages\\pandas\\_libs\\index.pyx:176\u001B[0m, in \u001B[0;36mpandas._libs.index.IndexEngine.get_loc\u001B[1;34m()\u001B[0m\n",
      "File \u001B[1;32mpandas\\_libs\\hashtable_class_helper.pxi:7080\u001B[0m, in \u001B[0;36mpandas._libs.hashtable.PyObjectHashTable.get_item\u001B[1;34m()\u001B[0m\n",
      "File \u001B[1;32mpandas\\_libs\\hashtable_class_helper.pxi:7088\u001B[0m, in \u001B[0;36mpandas._libs.hashtable.PyObjectHashTable.get_item\u001B[1;34m()\u001B[0m\n",
      "\u001B[1;31mKeyError\u001B[0m: 0",
      "\nThe above exception was the direct cause of the following exception:\n",
      "\u001B[1;31mKeyError\u001B[0m                                  Traceback (most recent call last)",
      "Cell \u001B[1;32mIn[10], line 10\u001B[0m\n\u001B[0;32m      7\u001B[0m f, axes \u001B[38;5;241m=\u001B[39m plt\u001B[38;5;241m.\u001B[39msubplots(\u001B[38;5;241m1\u001B[39m, \u001B[38;5;241m2\u001B[39m, sharey\u001B[38;5;241m=\u001B[39m\u001B[38;5;28;01mTrue\u001B[39;00m)\n\u001B[0;32m      8\u001B[0m f\u001B[38;5;241m.\u001B[39mset_figwidth(\u001B[38;5;241m12\u001B[39m)\n\u001B[1;32m---> 10\u001B[0m error_metrics \u001B[38;5;241m=\u001B[39m calculate_errors(\u001B[43mdata\u001B[49m\u001B[43m[\u001B[49m\u001B[43mi\u001B[49m\u001B[43m]\u001B[49m, knots, n)\n\u001B[0;32m     11\u001B[0m df1 \u001B[38;5;241m=\u001B[39m pd\u001B[38;5;241m.\u001B[39mDataFrame(error_metrics, columns\u001B[38;5;241m=\u001B[39m[\u001B[38;5;124m'\u001B[39m\u001B[38;5;124mmax_dist\u001B[39m\u001B[38;5;124m'\u001B[39m, \u001B[38;5;124m'\u001B[39m\u001B[38;5;124mMSE\u001B[39m\u001B[38;5;124m'\u001B[39m, \u001B[38;5;124m'\u001B[39m\u001B[38;5;124mRMSE\u001B[39m\u001B[38;5;124m'\u001B[39m, \u001B[38;5;124m'\u001B[39m\u001B[38;5;124mMAE\u001B[39m\u001B[38;5;124m'\u001B[39m])\n\u001B[0;32m     12\u001B[0m df1\u001B[38;5;241m.\u001B[39mindex \u001B[38;5;241m=\u001B[39m row_names\n",
      "File \u001B[1;32m~\\Desktop\\Bachelorarbeit_Info\\Code\\splineRegressionExperiments\\venv\\Lib\\site-packages\\pandas\\core\\frame.py:3761\u001B[0m, in \u001B[0;36mDataFrame.__getitem__\u001B[1;34m(self, key)\u001B[0m\n\u001B[0;32m   3759\u001B[0m \u001B[38;5;28;01mif\u001B[39;00m \u001B[38;5;28mself\u001B[39m\u001B[38;5;241m.\u001B[39mcolumns\u001B[38;5;241m.\u001B[39mnlevels \u001B[38;5;241m>\u001B[39m \u001B[38;5;241m1\u001B[39m:\n\u001B[0;32m   3760\u001B[0m     \u001B[38;5;28;01mreturn\u001B[39;00m \u001B[38;5;28mself\u001B[39m\u001B[38;5;241m.\u001B[39m_getitem_multilevel(key)\n\u001B[1;32m-> 3761\u001B[0m indexer \u001B[38;5;241m=\u001B[39m \u001B[38;5;28;43mself\u001B[39;49m\u001B[38;5;241;43m.\u001B[39;49m\u001B[43mcolumns\u001B[49m\u001B[38;5;241;43m.\u001B[39;49m\u001B[43mget_loc\u001B[49m\u001B[43m(\u001B[49m\u001B[43mkey\u001B[49m\u001B[43m)\u001B[49m\n\u001B[0;32m   3762\u001B[0m \u001B[38;5;28;01mif\u001B[39;00m is_integer(indexer):\n\u001B[0;32m   3763\u001B[0m     indexer \u001B[38;5;241m=\u001B[39m [indexer]\n",
      "File \u001B[1;32m~\\Desktop\\Bachelorarbeit_Info\\Code\\splineRegressionExperiments\\venv\\Lib\\site-packages\\pandas\\core\\indexes\\base.py:3655\u001B[0m, in \u001B[0;36mIndex.get_loc\u001B[1;34m(self, key)\u001B[0m\n\u001B[0;32m   3653\u001B[0m     \u001B[38;5;28;01mreturn\u001B[39;00m \u001B[38;5;28mself\u001B[39m\u001B[38;5;241m.\u001B[39m_engine\u001B[38;5;241m.\u001B[39mget_loc(casted_key)\n\u001B[0;32m   3654\u001B[0m \u001B[38;5;28;01mexcept\u001B[39;00m \u001B[38;5;167;01mKeyError\u001B[39;00m \u001B[38;5;28;01mas\u001B[39;00m err:\n\u001B[1;32m-> 3655\u001B[0m     \u001B[38;5;28;01mraise\u001B[39;00m \u001B[38;5;167;01mKeyError\u001B[39;00m(key) \u001B[38;5;28;01mfrom\u001B[39;00m \u001B[38;5;21;01merr\u001B[39;00m\n\u001B[0;32m   3656\u001B[0m \u001B[38;5;28;01mexcept\u001B[39;00m \u001B[38;5;167;01mTypeError\u001B[39;00m:\n\u001B[0;32m   3657\u001B[0m     \u001B[38;5;66;03m# If we have a listlike key, _check_indexing_error will raise\u001B[39;00m\n\u001B[0;32m   3658\u001B[0m     \u001B[38;5;66;03m#  InvalidIndexError. Otherwise we fall through and re-raise\u001B[39;00m\n\u001B[0;32m   3659\u001B[0m     \u001B[38;5;66;03m#  the TypeError.\u001B[39;00m\n\u001B[0;32m   3660\u001B[0m     \u001B[38;5;28mself\u001B[39m\u001B[38;5;241m.\u001B[39m_check_indexing_error(key)\n",
      "\u001B[1;31mKeyError\u001B[0m: 0"
     ]
    },
    {
     "data": {
      "text/plain": "<Figure size 1200x480 with 2 Axes>",
      "image/png": "[encoded data removed]"
     },
     "metadata": {},
     "output_type": "display_data"
    }
   ],
   "source": [
    "from matplotlib import pyplot as plt\n",
    "\n",
    "fitting_methods = [r'$L_2$', r'$L_{\\infty}$', r'$L_{\\infty}$ and $L_1$']\n",
    "# plot data and data without outliers next to each other\n",
    "assert (len(data) == len(data_lof))\n",
    "for i in range(len(data)):\n",
    "    f, axes = plt.subplots(1, 2, sharey=True)\n",
    "    f.set_figwidth(12)\n",
    "\n",
    "    error_metrics = calculate_errors(data[i], knots, n)\n",
    "    df1 = pd.DataFrame(error_metrics, columns=['max_dist', 'MSE', 'RMSE', 'MAE'])\n",
    "    df1.index = row_names\n",
    "    print(df1)\n",
    "\n",
    "    plot_splines(axes[0], data[i], fitting_methods)\n",
    "    axes[0].set_title(\"Data including outliers\")\n",
    "    #axes[0].table(cellText=df1.values.round(4), colLabels=df1.columns)\n",
    "\n",
    "    error_metrics = calculate_errors(data_lof[i], knots, n)\n",
    "    df2 = pd.DataFrame(error_metrics, columns=['max_dist', 'MSE', 'RMSE', 'MAE'])\n",
    "    df2.index = row_names\n",
    "    print(df2)\n",
    "\n",
    "    plot_splines(axes[1], data_lof[i], fitting_methods)\n",
    "    axes[1].set_title(\"Data without outliers\")\n",
    "    #axes[1].table(cellText=df2.values.round(4), colLabels=df2.columns)\n",
    "\n",
    "    plt.subplots_adjust(bottom=0.25, top=0.95)\n",
    "\n",
    "    plt.show()"
   ]
  }
 ],
 "metadata": {
  "kernelspec": {
   "display_name": "Python 3 (ipykernel)",
   "language": "python",
   "name": "python3"
  },
  "language_info": {
   "codemirror_mode": {
    "name": "ipython",
    "version": 3
   },
   "file_extension": ".py",
   "mimetype": "text/x-python",
   "name": "python",
   "nbconvert_exporter": "python",
   "pygments_lexer": "ipython3",
   "version": "3.11.6"
  }
 },
 "nbformat": 4,
 "nbformat_minor": 5
}
