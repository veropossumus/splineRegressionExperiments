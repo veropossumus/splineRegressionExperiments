{
 "cells": [
  {
   "cell_type": "code",
   "execution_count": 24,
   "outputs": [],
   "source": [
    "# results obtained from E1\n",
    "degree = 3\n",
    "compression_rate = 0.3"
   ],
   "metadata": {
    "collapsed": false,
    "ExecuteTime": {
     "end_time": "2024-02-11T12:12:41.192763700Z",
     "start_time": "2024-02-11T12:12:41.153764600Z"
    }
   },
   "id": "initial_id"
  },
  {
   "cell_type": "code",
   "execution_count": 25,
   "outputs": [
    {
     "name": "stdout",
     "output_type": "stream",
     "text": [
      "number of time series: 30574\n",
      "CPU times: total: 16.8 s\n",
      "Wall time: 16.9 s\n"
     ]
    }
   ],
   "source": [
    "%%time\n",
    "from utils.data import load_ucr_dataset, load_ucr_data_short_and_medium\n",
    "\n",
    "# load data\n",
    "data = load_ucr_data_short_and_medium()\n",
    "#data = load_ucr_dataset(53)\n",
    "print(\"number of time series:\", len(data.index))"
   ],
   "metadata": {
    "collapsed": false,
    "ExecuteTime": {
     "end_time": "2024-02-11T12:12:58.026193500Z",
     "start_time": "2024-02-11T12:12:41.157767600Z"
    }
   },
   "id": "304d41c1e8652c6f"
  },
  {
   "cell_type": "code",
   "execution_count": 33,
   "outputs": [],
   "source": [
    "from utils.plot import add_fitted_curve_to_plot\n",
    "\n",
    "\n",
    "def fit_spline(method: str, ts: [(float, float)], knots: [float], num_coeffs: int, num_outliers_removed: int,\n",
    "               degree=None, plot=False, axis=None):\n",
    "    match method:\n",
    "        case 'PAA':\n",
    "            color = 'tab:gray'\n",
    "            degree = 0\n",
    "            _, result = fit_max_spline(ts, knots, degree)\n",
    "            fitted_curve = [evaluate_spline(knots, result, degree, x[0]) for x in ts]\n",
    "\n",
    "        case 'PLA':\n",
    "            color = 'tab:olive'\n",
    "            degree = 1\n",
    "            _, result = fit_max_spline(ts, knots, degree)\n",
    "            fitted_curve = [evaluate_spline(knots, result, degree, x[0]) for x in ts]\n",
    "\n",
    "        case 'L8':\n",
    "            color = 'tab:pink'\n",
    "            if degree is None:\n",
    "                degree = 3\n",
    "\n",
    "            _, result = fit_max_spline(ts, knots, degree)\n",
    "            fitted_curve = [evaluate_spline(knots, result, degree, x[0]) for x in ts]\n",
    "\n",
    "        case 'L8 and L1':\n",
    "            color = 'tab:blue'\n",
    "            if degree is None:\n",
    "                degree = 3\n",
    "\n",
    "            eps = 2e-7\n",
    "            _, result = fit_max_l1_spline(ts, knots, degree, eps=eps)\n",
    "            fitted_curve = [evaluate_spline(knots, result, degree, x[0]) for x in ts]\n",
    "\n",
    "        case 'DFT':\n",
    "            color = 'tab:green'\n",
    "            result = fit_DFT(ts, num_coeffs)\n",
    "            fitted_curve = calculate_inverse_DFT(len(ts), num_coeffs, result)\n",
    "\n",
    "        case 'LSQ':\n",
    "            color = 'tab:purple'\n",
    "            if degree is None:\n",
    "                degree = 3\n",
    "\n",
    "            if num_outliers_removed > 0:\n",
    "                num_xs = len(ts) + num_outliers_removed\n",
    "\n",
    "                num_coeffs = generate_coeff_counts(num_xs, degree, [compression_rate])[0]\n",
    "                knots = generate_knot_vector_from_coeff_count(degree=degree, num_coeffs=num_coeffs)\n",
    "\n",
    "                # Alternative 1 num_coeff Ausreißer (s.u.)\n",
    "                \"\"\"knots = generate_knot_vector_from_coeff_count(degree=degree,\n",
    "                                                              num_coeffs=num_coeffs + num_outliers_removed)\"\"\"\n",
    "\n",
    "                # Alternative 2 (einfach neue Berechnung weglassen)\n",
    "\n",
    "                xs = np.linspace(0, 1, num=num_xs)\n",
    "                ts = replace_outliers(ts_without_outliers=ts, original_xs=xs)\n",
    "\n",
    "            result = fit_LSQ_spline(time_series=ts, knots=knots, degree=degree)\n",
    "            fitted_curve = [evaluate_spline(knots, result, degree, x[0]) for x in ts]\n",
    "\n",
    "    max_dist = np.max(np.abs(np.array(fitted_curve) - np.array([x[1] for x in ts])))\n",
    "    mse = mean_squared_error(fitted_curve, [x[1] for x in ts])\n",
    "    mae = mean_absolute_error(fitted_curve, [x[1] for x in ts])\n",
    "\n",
    "    \"\"\"if plot & (axis is not None):\n",
    "        add_fitted_curve_to_plot(axis, fitted_curve, max_dist, color=color, label=method)\"\"\"\n",
    "\n",
    "    if plot:\n",
    "        if axis is not None:\n",
    "            #add_fitted_curve_to_plot(axis, method, knots, result, degree, max_dist, color=color, len_ts=len(ts))\n",
    "            add_fitted_curve_to_plot(axis, [x[0] for x in ts], fitted_curve, max_dist, color=color, label=method)\n",
    "        else:\n",
    "            #add_fitted_curve_to_plot(plt, method, knots, result, degree, max_dist, color=color, len_ts=len(ts))\n",
    "            add_fitted_curve_to_plot(plt, [x[0] for x in ts], fitted_curve, max_dist, color=color, label=method)\n",
    "\n",
    "    return {'max_dist': max_dist,\n",
    "            'MSE': mse,\n",
    "            'MAE': mae}\n"
   ],
   "metadata": {
    "collapsed": false,
    "ExecuteTime": {
     "end_time": "2024-02-11T12:17:03.080879400Z",
     "start_time": "2024-02-11T12:17:03.045363800Z"
    }
   },
   "id": "e5646e0a6e3c8f29"
  },
  {
   "cell_type": "markdown",
   "source": [
    "# OHNE OUTLIERS, OHNE PLOTS"
   ],
   "metadata": {
    "collapsed": false
   },
   "id": "1a60f5efa53554b0"
  },
  {
   "cell_type": "code",
   "execution_count": 34,
   "outputs": [
    {
     "name": "stdout",
     "output_type": "stream",
     "text": [
      "Adiac no. 0, 0.3% processed\n",
      "Adiac no. 1, 0.3% processed\n",
      "Adiac no. 2, 0.3% processed\n",
      "Adiac no. 3, 0.3% processed\n",
      "Adiac no. 4, 0.3% processed\n",
      "Adiac no. 5, 0.3% processed\n",
      "Adiac no. 6, 0.3% processed\n",
      "Adiac no. 7, 0.3% processed\n",
      "Adiac no. 8, 0.4% processed\n"
     ]
    },
    {
     "ename": "KeyboardInterrupt",
     "evalue": "",
     "output_type": "error",
     "traceback": [
      "\u001B[1;31m---------------------------------------------------------------------------\u001B[0m",
      "\u001B[1;31mKeyboardInterrupt\u001B[0m                         Traceback (most recent call last)",
      "File \u001B[1;32m<timed exec>:33\u001B[0m\n",
      "Cell \u001B[1;32mIn[33], line 33\u001B[0m, in \u001B[0;36mfit_spline\u001B[1;34m(method, ts, knots, num_coeffs, num_outliers_removed, degree, plot, axis)\u001B[0m\n\u001B[0;32m     30\u001B[0m         degree \u001B[38;5;241m=\u001B[39m \u001B[38;5;241m3\u001B[39m\n\u001B[0;32m     32\u001B[0m     eps \u001B[38;5;241m=\u001B[39m \u001B[38;5;241m2e-7\u001B[39m\n\u001B[1;32m---> 33\u001B[0m     _, result \u001B[38;5;241m=\u001B[39m \u001B[43mfit_max_l1_spline\u001B[49m\u001B[43m(\u001B[49m\u001B[43mts\u001B[49m\u001B[43m,\u001B[49m\u001B[43m \u001B[49m\u001B[43mknots\u001B[49m\u001B[43m,\u001B[49m\u001B[43m \u001B[49m\u001B[43mdegree\u001B[49m\u001B[43m,\u001B[49m\u001B[43m \u001B[49m\u001B[43meps\u001B[49m\u001B[38;5;241;43m=\u001B[39;49m\u001B[43meps\u001B[49m\u001B[43m)\u001B[49m\n\u001B[0;32m     34\u001B[0m     fitted_curve \u001B[38;5;241m=\u001B[39m [evaluate_spline(knots, result, degree, x[\u001B[38;5;241m0\u001B[39m]) \u001B[38;5;28;01mfor\u001B[39;00m x \u001B[38;5;129;01min\u001B[39;00m ts]\n\u001B[0;32m     36\u001B[0m \u001B[38;5;28;01mcase\u001B[39;00m \u001B[38;5;124m'\u001B[39m\u001B[38;5;124mDFT\u001B[39m\u001B[38;5;124m'\u001B[39m:\n",
      "File \u001B[1;32m~\\Desktop\\Bachelorarbeit_Info\\Code\\splineRegressionExperiments\\utils\\fit.py:68\u001B[0m, in \u001B[0;36mfit_max_l1_spline\u001B[1;34m(data, knots, n, eps, t)\u001B[0m\n\u001B[0;32m     66\u001B[0m sgn \u001B[38;5;241m=\u001B[39m \u001B[38;5;241m1\u001B[39m \u001B[38;5;28;01mif\u001B[39;00m i \u001B[38;5;241m<\u001B[39m k \u001B[38;5;28;01melse\u001B[39;00m \u001B[38;5;241m-\u001B[39m\u001B[38;5;241m1\u001B[39m\n\u001B[0;32m     67\u001B[0m \u001B[38;5;28;01mfor\u001B[39;00m j \u001B[38;5;129;01min\u001B[39;00m \u001B[38;5;28mrange\u001B[39m(m):\n\u001B[1;32m---> 68\u001B[0m     row\u001B[38;5;241m.\u001B[39mappend(sgn \u001B[38;5;241m*\u001B[39m \u001B[43mevaluate_b_spline\u001B[49m\u001B[43m(\u001B[49m\u001B[43mknots\u001B[49m\u001B[43m,\u001B[49m\u001B[43m \u001B[49m\u001B[43mn\u001B[49m\u001B[43m,\u001B[49m\u001B[43m \u001B[49m\u001B[43mj\u001B[49m\u001B[43m,\u001B[49m\u001B[43m \u001B[49m\u001B[43mdata\u001B[49m\u001B[43m[\u001B[49m\u001B[43mi\u001B[49m\u001B[43m \u001B[49m\u001B[38;5;241;43m%\u001B[39;49m\u001B[43m \u001B[49m\u001B[43mk\u001B[49m\u001B[43m]\u001B[49m\u001B[43m[\u001B[49m\u001B[38;5;241;43m0\u001B[39;49m\u001B[43m]\u001B[49m\u001B[43m,\u001B[49m\u001B[43m \u001B[49m\u001B[43mm\u001B[49m\u001B[43m)\u001B[49m)\n\u001B[0;32m     70\u001B[0m row\u001B[38;5;241m.\u001B[39mappend(\u001B[38;5;241m0\u001B[39m)\n\u001B[0;32m     71\u001B[0m row\u001B[38;5;241m.\u001B[39mextend([\u001B[38;5;241m0\u001B[39m] \u001B[38;5;241m*\u001B[39m (i \u001B[38;5;241m%\u001B[39m k) \u001B[38;5;241m+\u001B[39m [\u001B[38;5;241m-\u001B[39m\u001B[38;5;241m1\u001B[39m] \u001B[38;5;241m+\u001B[39m [\u001B[38;5;241m0\u001B[39m] \u001B[38;5;241m*\u001B[39m (k \u001B[38;5;241m-\u001B[39m (i \u001B[38;5;241m%\u001B[39m k) \u001B[38;5;241m-\u001B[39m \u001B[38;5;241m1\u001B[39m))\n",
      "File \u001B[1;32m~\\Desktop\\Bachelorarbeit_Info\\Code\\splineRegressionExperiments\\utils\\spline.py:9\u001B[0m, in \u001B[0;36mevaluate_b_spline\u001B[1;34m(a, n, i, u, m)\u001B[0m\n\u001B[0;32m      6\u001B[0m     \u001B[38;5;28;01mreturn\u001B[39;00m \u001B[38;5;241m1\u001B[39m \u001B[38;5;28;01mif\u001B[39;00m a[i] \u001B[38;5;241m<\u001B[39m\u001B[38;5;241m=\u001B[39m u \u001B[38;5;241m<\u001B[39m a[i \u001B[38;5;241m+\u001B[39m \u001B[38;5;241m1\u001B[39m] \u001B[38;5;28;01melse\u001B[39;00m \u001B[38;5;241m0\u001B[39m\n\u001B[0;32m      8\u001B[0m left_alpha \u001B[38;5;241m=\u001B[39m (u \u001B[38;5;241m-\u001B[39m a[i]) \u001B[38;5;241m/\u001B[39m (a[i \u001B[38;5;241m+\u001B[39m n] \u001B[38;5;241m-\u001B[39m a[i]) \u001B[38;5;28;01mif\u001B[39;00m i \u001B[38;5;241m+\u001B[39m n \u001B[38;5;241m<\u001B[39m \u001B[38;5;28mlen\u001B[39m(a) \u001B[38;5;129;01mand\u001B[39;00m a[i \u001B[38;5;241m+\u001B[39m n] \u001B[38;5;241m!=\u001B[39m a[i] \u001B[38;5;28;01melse\u001B[39;00m \u001B[38;5;241m0\u001B[39m\n\u001B[1;32m----> 9\u001B[0m left_term \u001B[38;5;241m=\u001B[39m left_alpha \u001B[38;5;241m*\u001B[39m \u001B[43mevaluate_b_spline\u001B[49m\u001B[43m(\u001B[49m\u001B[43ma\u001B[49m\u001B[43m,\u001B[49m\u001B[43m \u001B[49m\u001B[43mn\u001B[49m\u001B[43m \u001B[49m\u001B[38;5;241;43m-\u001B[39;49m\u001B[43m \u001B[49m\u001B[38;5;241;43m1\u001B[39;49m\u001B[43m,\u001B[49m\u001B[43m \u001B[49m\u001B[43mi\u001B[49m\u001B[43m,\u001B[49m\u001B[43m \u001B[49m\u001B[43mu\u001B[49m\u001B[43m,\u001B[49m\u001B[43m \u001B[49m\u001B[43mm\u001B[49m\u001B[43m)\u001B[49m\n\u001B[0;32m     10\u001B[0m right_alpha \u001B[38;5;241m=\u001B[39m (u \u001B[38;5;241m-\u001B[39m a[i \u001B[38;5;241m+\u001B[39m \u001B[38;5;241m1\u001B[39m]) \u001B[38;5;241m/\u001B[39m (a[i \u001B[38;5;241m+\u001B[39m n \u001B[38;5;241m+\u001B[39m \u001B[38;5;241m1\u001B[39m] \u001B[38;5;241m-\u001B[39m a[i \u001B[38;5;241m+\u001B[39m \u001B[38;5;241m1\u001B[39m]) \u001B[38;5;28;01mif\u001B[39;00m i \u001B[38;5;241m+\u001B[39m n \u001B[38;5;241m+\u001B[39m \u001B[38;5;241m1\u001B[39m \u001B[38;5;241m<\u001B[39m \u001B[38;5;28mlen\u001B[39m(a) \u001B[38;5;129;01mand\u001B[39;00m a[i \u001B[38;5;241m+\u001B[39m n \u001B[38;5;241m+\u001B[39m \u001B[38;5;241m1\u001B[39m] \u001B[38;5;241m!=\u001B[39m a[\n\u001B[0;32m     11\u001B[0m     i \u001B[38;5;241m+\u001B[39m \u001B[38;5;241m1\u001B[39m] \u001B[38;5;28;01melse\u001B[39;00m \u001B[38;5;241m1\u001B[39m\n\u001B[0;32m     12\u001B[0m right_term \u001B[38;5;241m=\u001B[39m (\u001B[38;5;241m1\u001B[39m \u001B[38;5;241m-\u001B[39m right_alpha) \u001B[38;5;241m*\u001B[39m evaluate_b_spline(a, n \u001B[38;5;241m-\u001B[39m \u001B[38;5;241m1\u001B[39m, i \u001B[38;5;241m+\u001B[39m \u001B[38;5;241m1\u001B[39m, u, m)\n",
      "File \u001B[1;32m~\\Desktop\\Bachelorarbeit_Info\\Code\\splineRegressionExperiments\\utils\\spline.py:12\u001B[0m, in \u001B[0;36mevaluate_b_spline\u001B[1;34m(a, n, i, u, m)\u001B[0m\n\u001B[0;32m      9\u001B[0m left_term \u001B[38;5;241m=\u001B[39m left_alpha \u001B[38;5;241m*\u001B[39m evaluate_b_spline(a, n \u001B[38;5;241m-\u001B[39m \u001B[38;5;241m1\u001B[39m, i, u, m)\n\u001B[0;32m     10\u001B[0m right_alpha \u001B[38;5;241m=\u001B[39m (u \u001B[38;5;241m-\u001B[39m a[i \u001B[38;5;241m+\u001B[39m \u001B[38;5;241m1\u001B[39m]) \u001B[38;5;241m/\u001B[39m (a[i \u001B[38;5;241m+\u001B[39m n \u001B[38;5;241m+\u001B[39m \u001B[38;5;241m1\u001B[39m] \u001B[38;5;241m-\u001B[39m a[i \u001B[38;5;241m+\u001B[39m \u001B[38;5;241m1\u001B[39m]) \u001B[38;5;28;01mif\u001B[39;00m i \u001B[38;5;241m+\u001B[39m n \u001B[38;5;241m+\u001B[39m \u001B[38;5;241m1\u001B[39m \u001B[38;5;241m<\u001B[39m \u001B[38;5;28mlen\u001B[39m(a) \u001B[38;5;129;01mand\u001B[39;00m a[i \u001B[38;5;241m+\u001B[39m n \u001B[38;5;241m+\u001B[39m \u001B[38;5;241m1\u001B[39m] \u001B[38;5;241m!=\u001B[39m a[\n\u001B[0;32m     11\u001B[0m     i \u001B[38;5;241m+\u001B[39m \u001B[38;5;241m1\u001B[39m] \u001B[38;5;28;01melse\u001B[39;00m \u001B[38;5;241m1\u001B[39m\n\u001B[1;32m---> 12\u001B[0m right_term \u001B[38;5;241m=\u001B[39m (\u001B[38;5;241m1\u001B[39m \u001B[38;5;241m-\u001B[39m right_alpha) \u001B[38;5;241m*\u001B[39m \u001B[43mevaluate_b_spline\u001B[49m\u001B[43m(\u001B[49m\u001B[43ma\u001B[49m\u001B[43m,\u001B[49m\u001B[43m \u001B[49m\u001B[43mn\u001B[49m\u001B[43m \u001B[49m\u001B[38;5;241;43m-\u001B[39;49m\u001B[43m \u001B[49m\u001B[38;5;241;43m1\u001B[39;49m\u001B[43m,\u001B[49m\u001B[43m \u001B[49m\u001B[43mi\u001B[49m\u001B[43m \u001B[49m\u001B[38;5;241;43m+\u001B[39;49m\u001B[43m \u001B[49m\u001B[38;5;241;43m1\u001B[39;49m\u001B[43m,\u001B[49m\u001B[43m \u001B[49m\u001B[43mu\u001B[49m\u001B[43m,\u001B[49m\u001B[43m \u001B[49m\u001B[43mm\u001B[49m\u001B[43m)\u001B[49m\n\u001B[0;32m     14\u001B[0m \u001B[38;5;28;01mreturn\u001B[39;00m left_term \u001B[38;5;241m+\u001B[39m right_term\n",
      "File \u001B[1;32m~\\Desktop\\Bachelorarbeit_Info\\Code\\splineRegressionExperiments\\utils\\spline.py:9\u001B[0m, in \u001B[0;36mevaluate_b_spline\u001B[1;34m(a, n, i, u, m)\u001B[0m\n\u001B[0;32m      6\u001B[0m     \u001B[38;5;28;01mreturn\u001B[39;00m \u001B[38;5;241m1\u001B[39m \u001B[38;5;28;01mif\u001B[39;00m a[i] \u001B[38;5;241m<\u001B[39m\u001B[38;5;241m=\u001B[39m u \u001B[38;5;241m<\u001B[39m a[i \u001B[38;5;241m+\u001B[39m \u001B[38;5;241m1\u001B[39m] \u001B[38;5;28;01melse\u001B[39;00m \u001B[38;5;241m0\u001B[39m\n\u001B[0;32m      8\u001B[0m left_alpha \u001B[38;5;241m=\u001B[39m (u \u001B[38;5;241m-\u001B[39m a[i]) \u001B[38;5;241m/\u001B[39m (a[i \u001B[38;5;241m+\u001B[39m n] \u001B[38;5;241m-\u001B[39m a[i]) \u001B[38;5;28;01mif\u001B[39;00m i \u001B[38;5;241m+\u001B[39m n \u001B[38;5;241m<\u001B[39m \u001B[38;5;28mlen\u001B[39m(a) \u001B[38;5;129;01mand\u001B[39;00m a[i \u001B[38;5;241m+\u001B[39m n] \u001B[38;5;241m!=\u001B[39m a[i] \u001B[38;5;28;01melse\u001B[39;00m \u001B[38;5;241m0\u001B[39m\n\u001B[1;32m----> 9\u001B[0m left_term \u001B[38;5;241m=\u001B[39m left_alpha \u001B[38;5;241m*\u001B[39m \u001B[43mevaluate_b_spline\u001B[49m\u001B[43m(\u001B[49m\u001B[43ma\u001B[49m\u001B[43m,\u001B[49m\u001B[43m \u001B[49m\u001B[43mn\u001B[49m\u001B[43m \u001B[49m\u001B[38;5;241;43m-\u001B[39;49m\u001B[43m \u001B[49m\u001B[38;5;241;43m1\u001B[39;49m\u001B[43m,\u001B[49m\u001B[43m \u001B[49m\u001B[43mi\u001B[49m\u001B[43m,\u001B[49m\u001B[43m \u001B[49m\u001B[43mu\u001B[49m\u001B[43m,\u001B[49m\u001B[43m \u001B[49m\u001B[43mm\u001B[49m\u001B[43m)\u001B[49m\n\u001B[0;32m     10\u001B[0m right_alpha \u001B[38;5;241m=\u001B[39m (u \u001B[38;5;241m-\u001B[39m a[i \u001B[38;5;241m+\u001B[39m \u001B[38;5;241m1\u001B[39m]) \u001B[38;5;241m/\u001B[39m (a[i \u001B[38;5;241m+\u001B[39m n \u001B[38;5;241m+\u001B[39m \u001B[38;5;241m1\u001B[39m] \u001B[38;5;241m-\u001B[39m a[i \u001B[38;5;241m+\u001B[39m \u001B[38;5;241m1\u001B[39m]) \u001B[38;5;28;01mif\u001B[39;00m i \u001B[38;5;241m+\u001B[39m n \u001B[38;5;241m+\u001B[39m \u001B[38;5;241m1\u001B[39m \u001B[38;5;241m<\u001B[39m \u001B[38;5;28mlen\u001B[39m(a) \u001B[38;5;129;01mand\u001B[39;00m a[i \u001B[38;5;241m+\u001B[39m n \u001B[38;5;241m+\u001B[39m \u001B[38;5;241m1\u001B[39m] \u001B[38;5;241m!=\u001B[39m a[\n\u001B[0;32m     11\u001B[0m     i \u001B[38;5;241m+\u001B[39m \u001B[38;5;241m1\u001B[39m] \u001B[38;5;28;01melse\u001B[39;00m \u001B[38;5;241m1\u001B[39m\n\u001B[0;32m     12\u001B[0m right_term \u001B[38;5;241m=\u001B[39m (\u001B[38;5;241m1\u001B[39m \u001B[38;5;241m-\u001B[39m right_alpha) \u001B[38;5;241m*\u001B[39m evaluate_b_spline(a, n \u001B[38;5;241m-\u001B[39m \u001B[38;5;241m1\u001B[39m, i \u001B[38;5;241m+\u001B[39m \u001B[38;5;241m1\u001B[39m, u, m)\n",
      "File \u001B[1;32m~\\Desktop\\Bachelorarbeit_Info\\Code\\splineRegressionExperiments\\utils\\spline.py:1\u001B[0m, in \u001B[0;36mevaluate_b_spline\u001B[1;34m(a, n, i, u, m)\u001B[0m\n\u001B[1;32m----> 1\u001B[0m \u001B[38;5;28;01mdef\u001B[39;00m \u001B[38;5;21mevaluate_b_spline\u001B[39m(a, n, i, u, m):\n\u001B[0;32m      2\u001B[0m     \u001B[38;5;28;01mif\u001B[39;00m i \u001B[38;5;241m==\u001B[39m m \u001B[38;5;241m-\u001B[39m \u001B[38;5;241m1\u001B[39m \u001B[38;5;129;01mand\u001B[39;00m u \u001B[38;5;241m==\u001B[39m \u001B[38;5;241m1\u001B[39m:\n\u001B[0;32m      3\u001B[0m         \u001B[38;5;28;01mreturn\u001B[39;00m \u001B[38;5;241m1\u001B[39m\n",
      "\u001B[1;31mKeyboardInterrupt\u001B[0m: "
     ]
    }
   ],
   "source": [
    "%%time\n",
    "from tsfel import mean_diff\n",
    "from utils.data import remove_outliers, replace_outliers\n",
    "from utils.spline import generate_coeff_counts, generate_knot_vector_from_coeff_count\n",
    "from utils.fit import fit_max_spline, fit_max_l1_spline, fit_DFT, calculate_inverse_DFT, fit_LSQ_spline\n",
    "from sklearn.metrics import mean_squared_error, mean_absolute_error\n",
    "from utils.spline import evaluate_spline\n",
    "import numpy as np\n",
    "import matplotlib.pyplot as plt\n",
    "import pandas as pd\n",
    "\n",
    "results = []\n",
    "num_rows = len(data.index)\n",
    "ts_properties = []\n",
    "\n",
    "for idx, row in data.iterrows():\n",
    "    ts = row['data']\n",
    "    print(f\"{row['dataset']} no. {row['num']}, {round(idx / num_rows * 100, 1)}% processed\")\n",
    "\n",
    "    ts_properties.append({\n",
    "        'dataset': row['dataset'],\n",
    "        'num': row['num'],\n",
    "        'num_data_pts': len(ts),\n",
    "        'num_outliers_removed': 0,\n",
    "        'mean_diff': mean_diff(ts),\n",
    "        'max_fst_derivative': max(pd.Series([tup[0] for tup in ts]).diff().dropna()),\n",
    "        'max_snd_derivative': max(pd.Series([tup[0] for tup in ts]).diff().diff().dropna())\n",
    "    })\n",
    "\n",
    "    num_coeffs = generate_coeff_counts(len(ts), degree, compression_ratios=[compression_rate])[0]\n",
    "    knots = generate_knot_vector_from_coeff_count(degree=degree, num_coeffs=num_coeffs)\n",
    "\n",
    "    for method in ['L8', 'L8 and L1', 'LSQ', 'PAA', 'PLA', 'DFT']:\n",
    "        metrics = fit_spline(method, ts, knots, num_coeffs, 0)\n",
    "\n",
    "        results.append({\n",
    "            'dataset': row['dataset'],\n",
    "            'num': row['num'],\n",
    "            'num_data_pts': len(ts),\n",
    "            'num_outliers_removed': 0,\n",
    "            'num_coeffs': num_coeffs,\n",
    "            'method': method,\n",
    "            'max_dist': metrics['max_dist'],\n",
    "            'MSE': metrics['MSE'],\n",
    "            'MAE': metrics['MAE']\n",
    "        })\n"
   ],
   "metadata": {
    "collapsed": false,
    "ExecuteTime": {
     "end_time": "2024-02-11T12:17:10.484517700Z",
     "start_time": "2024-02-11T12:17:03.049880200Z"
    }
   },
   "id": "4923d9078c841696"
  },
  {
   "cell_type": "markdown",
   "source": [
    "# MIT OUTLIERS"
   ],
   "metadata": {
    "collapsed": false
   },
   "id": "f93617fd7f843b1"
  },
  {
   "cell_type": "code",
   "execution_count": 35,
   "outputs": [
    {
     "data": {
      "text/plain": "'%%time\\n\\nfrom tsfel import mean_diff\\nfrom utils.data import remove_outliers, replace_outliers\\nfrom utils.spline import generate_coeff_counts, generate_knot_vector_from_coeff_count\\nfrom utils.fit import fit_max_spline, fit_max_l1_spline, fit_DFT, calculate_inverse_DFT, fit_LSQ_spline\\nfrom sklearn.metrics import mean_squared_error, mean_absolute_error\\nfrom utils.spline import evaluate_spline\\nimport numpy as np\\nimport matplotlib.pyplot as plt\\nimport pandas as pd\\n\\nresults = []\\nnum_rows = len(data.index)\\nts_properties = []\\n\\nfor idx, row in data.iterrows():\\n    original_time_series = row[\\'data\\']\\n    time_series_lof = remove_outliers(row[\\'data\\'])\\n    n_outliers = len(original_time_series) - len(time_series_lof)\\n    print(f\"{row[\\'dataset\\']} no. {row[\\'num\\']}, {round(idx / num_rows * 100, 1)}% processed\")\\n\\n    #f, axes = plt.subplots(1, 2, sharey=True)\\n    #f.set_figwidth(12)\\n\\n    #axes[0].set_title(\"Data including outliers\")\\n    #axes[1].set_title(\"Data without outliers\")\\n\\n    for ts, num_outliers_removed in [(original_time_series, -1),(time_series_lof, n_outliers)]:\\n        #for ts in [original_time_series, time_series_lof]:\\n        #num_outliers_removed = len(original_time_series) - len(ts)\\n        #assert num_outliers_removed >= 0\\n        #print(\"len(ts):\", len(ts))\\n\\n        if num_outliers_removed == 0:\\n            continue\\n\\n        ts_properties.append({\\n            \\'dataset\\': row[\\'dataset\\'],\\n            \\'num\\': row[\\'num\\'],\\n            \\'num_data_pts\\': len(ts),\\n            \\'num_outliers_removed\\': num_outliers_removed if num_outliers_removed >= 0 else 0,\\n            \\'mean_diff\\': mean_diff(ts),\\n            \\'max_fst_derivative\\': max(pd.Series([tup[0] for tup in ts]).diff().dropna()),\\n            \\'max_snd_derivative\\': max(pd.Series([tup[0] for tup in ts]).diff().diff().dropna())\\n        })\\n\\n        # Alternative 1 zur Berechnung der Koeffizienten bei TS ohne Ausreißer\\n        #num_coeffs = generate_coeff_counts(len(original_time_series), degree, compression_ratios=[compression_rate])[0]\\n        #knots = generate_knot_vector_from_coeff_count(degree=degree, num_coeffs=(num_coeffs - num_outliers_removed))\\n\\n        # Alternative 2 zur Berechnung der Koeffizienten bei TS ohne Ausreißer\\n        #num_coeffs = generate_coeff_counts(len(original_time_series), degree, compression_ratios=[compression_rate])[0]\\n        #knots = generate_knot_vector_from_coeff_count(degree=degree, num_coeffs=num_coeffs)\\n\\n        # ursprüngliche Variante (es müssen compr_rate * n_outliers viele Punkte zusätzlich gespeichert werden)\\n        num_coeffs = generate_coeff_counts(len(ts), degree, compression_ratios=[compression_rate])[0]\\n        knots = generate_knot_vector_from_coeff_count(degree=degree, num_coeffs=num_coeffs)\\n\\n        #fig,ax = plt.subplots()\\n\\n        for method in [\\'L8\\', \\'L8 and L1\\', \\'LSQ\\', \\'PAA\\', \\'PLA\\', \\'DFT\\']:\\n            #metrics = fit_spline(method, ts, knots, num_coeffs, num_outliers_removed)\\n\\n            plot_method = False\\n\\n            #if method in [\\'L8\\', \\'L8 and L1\\']:  #\\'LSQ\\',\\n                #if method in [\\'DFT\\']:#\\n                #plot_method = True\\n\\n            axis = None\\n            #if num_outliers_removed > 0:\\n                #axis = axes[1]\\n            #else:\\n                #axis = axes[0]\\n\\n            metrics = fit_spline(method, ts, knots, num_coeffs, num_outliers_removed, plot=plot_method, axis=axis)\\n\\n            results.append({\\n                \\'dataset\\': row[\\'dataset\\'],\\n                \\'num\\': row[\\'num\\'],\\n                \\'num_data_pts\\': len(ts),\\n                \\'num_outliers_removed\\': num_outliers_removed if num_outliers_removed >= 0 else 0,\\n                \\'num_coeffs\\': num_coeffs,\\n                \\'method\\': method,\\n                \\'max_dist\\': metrics[\\'max_dist\\'],\\n                \\'MSE\\': metrics[\\'MSE\\'],\\n                \\'MAE\\': metrics[\\'MAE\\'],\\n                #\\'mean_diff\\': mean_diff(ts),\\n                #\\'fst_derivative\\': pd.Series([tup[0] for tup in ts]).diff().dropna(),\\n                #\\'snd_derivative\\':pd.Series([tup[0] for tup in ts]).diff().diff().dropna()\\n            })\\n\\n        #axis.scatter([d[0] for d in ts], [d[1] for d in ts], color=\"brown\", marker=\\'.\\')\\n    \\nplt.subplots_adjust(bottom=0.25, top=0.95)\\naxes[0].legend(loc=\\'upper right\\')\\naxes[1].legend(loc=\\'upper right\\')\\nplt.tight_layout()\\nplt.show()\\n'"
     },
     "execution_count": 35,
     "metadata": {},
     "output_type": "execute_result"
    }
   ],
   "source": [
    "\"\"\"%%time\n",
    "\n",
    "from tsfel import mean_diff\n",
    "from utils.data import remove_outliers, replace_outliers\n",
    "from utils.spline import generate_coeff_counts, generate_knot_vector_from_coeff_count\n",
    "from utils.fit import fit_max_spline, fit_max_l1_spline, fit_DFT, calculate_inverse_DFT, fit_LSQ_spline\n",
    "from sklearn.metrics import mean_squared_error, mean_absolute_error\n",
    "from utils.spline import evaluate_spline\n",
    "import numpy as np\n",
    "import matplotlib.pyplot as plt\n",
    "import pandas as pd\n",
    "\n",
    "results = []\n",
    "num_rows = len(data.index)\n",
    "ts_properties = []\n",
    "\n",
    "for idx, row in data.iterrows():\n",
    "    original_time_series = row['data']\n",
    "    time_series_lof = remove_outliers(row['data'])\n",
    "    n_outliers = len(original_time_series) - len(time_series_lof)\n",
    "    print(f\"{row['dataset']} no. {row['num']}, {round(idx / num_rows * 100, 1)}% processed\")\n",
    "\n",
    "    #f, axes = plt.subplots(1, 2, sharey=True)\n",
    "    #f.set_figwidth(12)\n",
    "\n",
    "    #axes[0].set_title(\"Data including outliers\")\n",
    "    #axes[1].set_title(\"Data without outliers\")\n",
    "\n",
    "    for ts, num_outliers_removed in [(original_time_series, -1),(time_series_lof, n_outliers)]:\n",
    "        #for ts in [original_time_series, time_series_lof]:\n",
    "        #num_outliers_removed = len(original_time_series) - len(ts)\n",
    "        #assert num_outliers_removed >= 0\n",
    "        #print(\"len(ts):\", len(ts))\n",
    "\n",
    "        if num_outliers_removed == 0:\n",
    "            continue\n",
    "\n",
    "        ts_properties.append({\n",
    "            'dataset': row['dataset'],\n",
    "            'num': row['num'],\n",
    "            'num_data_pts': len(ts),\n",
    "            'num_outliers_removed': num_outliers_removed if num_outliers_removed >= 0 else 0,\n",
    "            'mean_diff': mean_diff(ts),\n",
    "            'max_fst_derivative': max(pd.Series([tup[0] for tup in ts]).diff().dropna()),\n",
    "            'max_snd_derivative': max(pd.Series([tup[0] for tup in ts]).diff().diff().dropna())\n",
    "        })\n",
    "\n",
    "        # Alternative 1 zur Berechnung der Koeffizienten bei TS ohne Ausreißer\n",
    "        #num_coeffs = generate_coeff_counts(len(original_time_series), degree, compression_ratios=[compression_rate])[0]\n",
    "        #knots = generate_knot_vector_from_coeff_count(degree=degree, num_coeffs=(num_coeffs - num_outliers_removed))\n",
    "\n",
    "        # Alternative 2 zur Berechnung der Koeffizienten bei TS ohne Ausreißer\n",
    "        #num_coeffs = generate_coeff_counts(len(original_time_series), degree, compression_ratios=[compression_rate])[0]\n",
    "        #knots = generate_knot_vector_from_coeff_count(degree=degree, num_coeffs=num_coeffs)\n",
    "\n",
    "        # ursprüngliche Variante (es müssen compr_rate * n_outliers viele Punkte zusätzlich gespeichert werden)\n",
    "        num_coeffs = generate_coeff_counts(len(ts), degree, compression_ratios=[compression_rate])[0]\n",
    "        knots = generate_knot_vector_from_coeff_count(degree=degree, num_coeffs=num_coeffs)\n",
    "\n",
    "        #fig,ax = plt.subplots()\n",
    "\n",
    "        for method in ['L8', 'L8 and L1', 'LSQ', 'PAA', 'PLA', 'DFT']:\n",
    "            #metrics = fit_spline(method, ts, knots, num_coeffs, num_outliers_removed)\n",
    "\n",
    "            plot_method = False\n",
    "\n",
    "            #if method in ['L8', 'L8 and L1']:  #'LSQ',\n",
    "                #if method in ['DFT']:#\n",
    "                #plot_method = True\n",
    "\n",
    "            axis = None\n",
    "            #if num_outliers_removed > 0:\n",
    "                #axis = axes[1]\n",
    "            #else:\n",
    "                #axis = axes[0]\n",
    "\n",
    "            metrics = fit_spline(method, ts, knots, num_coeffs, num_outliers_removed, plot=plot_method, axis=axis)\n",
    "\n",
    "            results.append({\n",
    "                'dataset': row['dataset'],\n",
    "                'num': row['num'],\n",
    "                'num_data_pts': len(ts),\n",
    "                'num_outliers_removed': num_outliers_removed if num_outliers_removed >= 0 else 0,\n",
    "                'num_coeffs': num_coeffs,\n",
    "                'method': method,\n",
    "                'max_dist': metrics['max_dist'],\n",
    "                'MSE': metrics['MSE'],\n",
    "                'MAE': metrics['MAE'],\n",
    "                #'mean_diff': mean_diff(ts),\n",
    "                #'fst_derivative': pd.Series([tup[0] for tup in ts]).diff().dropna(),\n",
    "                #'snd_derivative':pd.Series([tup[0] for tup in ts]).diff().diff().dropna()\n",
    "            })\n",
    "\n",
    "        #axis.scatter([d[0] for d in ts], [d[1] for d in ts], color=\"brown\", marker='.')\n",
    "    \n",
    "plt.subplots_adjust(bottom=0.25, top=0.95)\n",
    "axes[0].legend(loc='upper right')\n",
    "axes[1].legend(loc='upper right')\n",
    "plt.tight_layout()\n",
    "plt.show()\n",
    "\"\"\""
   ],
   "metadata": {
    "collapsed": false,
    "ExecuteTime": {
     "end_time": "2024-02-11T12:17:10.492518100Z",
     "start_time": "2024-02-11T12:17:10.487517800Z"
    }
   },
   "id": "df9e049cae8de17a"
  },
  {
   "cell_type": "code",
   "execution_count": 36,
   "outputs": [
    {
     "data": {
      "text/plain": "      method   max_dist        MSE        MAE\n0        DFT 0.02077349 0.00002871 0.00376766\n1         L8 0.01545623 0.00013984 0.01024594\n2  L8 and L1 0.01515114 0.00005967 0.00525430\n3        LSQ 0.02151217 0.00002792 0.00358524\n4        PAA 0.15371210 0.01167304 0.09418549\n5        PLA 0.02327365 0.00038843 0.01712178",
      "text/html": "<div>\n<style scoped>\n    .dataframe tbody tr th:only-of-type {\n        vertical-align: middle;\n    }\n\n    .dataframe tbody tr th {\n        vertical-align: top;\n    }\n\n    .dataframe thead th {\n        text-align: right;\n    }\n</style>\n<table border=\"1\" class=\"dataframe\">\n  <thead>\n    <tr style=\"text-align: right;\">\n      <th></th>\n      <th>method</th>\n      <th>max_dist</th>\n      <th>MSE</th>\n      <th>MAE</th>\n    </tr>\n  </thead>\n  <tbody>\n    <tr>\n      <th>0</th>\n      <td>DFT</td>\n      <td>0.02077349</td>\n      <td>0.00002871</td>\n      <td>0.00376766</td>\n    </tr>\n    <tr>\n      <th>1</th>\n      <td>L8</td>\n      <td>0.01545623</td>\n      <td>0.00013984</td>\n      <td>0.01024594</td>\n    </tr>\n    <tr>\n      <th>2</th>\n      <td>L8 and L1</td>\n      <td>0.01515114</td>\n      <td>0.00005967</td>\n      <td>0.00525430</td>\n    </tr>\n    <tr>\n      <th>3</th>\n      <td>LSQ</td>\n      <td>0.02151217</td>\n      <td>0.00002792</td>\n      <td>0.00358524</td>\n    </tr>\n    <tr>\n      <th>4</th>\n      <td>PAA</td>\n      <td>0.15371210</td>\n      <td>0.01167304</td>\n      <td>0.09418549</td>\n    </tr>\n    <tr>\n      <th>5</th>\n      <td>PLA</td>\n      <td>0.02327365</td>\n      <td>0.00038843</td>\n      <td>0.01712178</td>\n    </tr>\n  </tbody>\n</table>\n</div>"
     },
     "execution_count": 36,
     "metadata": {},
     "output_type": "execute_result"
    }
   ],
   "source": [
    "import pandas as pd\n",
    "\n",
    "pd.set_option('display.float_format', '{:.8f}'.format)\n",
    "\n",
    "e2_results = pd.DataFrame(results).drop_duplicates()\n",
    "mean_values = e2_results.groupby('method').agg({'max_dist': 'mean', 'MSE': 'mean', 'MAE': 'mean'}).reset_index()\n",
    "mean_values"
   ],
   "metadata": {
    "collapsed": false,
    "ExecuteTime": {
     "end_time": "2024-02-11T12:17:10.503362600Z",
     "start_time": "2024-02-11T12:17:10.492518100Z"
    }
   },
   "id": "e6ad56d23eba1ab4"
  },
  {
   "cell_type": "code",
   "execution_count": 37,
   "outputs": [
    {
     "data": {
      "text/plain": "\"\\nimport pandas as pd\\npd.set_option('display.float_format', '{:.8f}'.format)\\n\\n# Calculate mean values for each accuracy measure separately\\nmean_max_dist = e2_results.groupby('method')['max_dist'].mean().reset_index()\\nmean_mse = e2_results.groupby('method')['MSE'].mean().reset_index()\\nmean_mae = e2_results.groupby('method')['MAE'].mean().reset_index()\\n\\n# Merge the mean values into a single DataFrame\\nmean_values = mean_max_dist.merge(mean_mse, on='method').merge(mean_mae, on='method')\\nmean_values\""
     },
     "execution_count": 37,
     "metadata": {},
     "output_type": "execute_result"
    }
   ],
   "source": [
    "\"\"\"\n",
    "import pandas as pd\n",
    "pd.set_option('display.float_format', '{:.8f}'.format)\n",
    "\n",
    "# Calculate mean values for each accuracy measure separately\n",
    "mean_max_dist = e2_results.groupby('method')['max_dist'].mean().reset_index()\n",
    "mean_mse = e2_results.groupby('method')['MSE'].mean().reset_index()\n",
    "mean_mae = e2_results.groupby('method')['MAE'].mean().reset_index()\n",
    "\n",
    "# Merge the mean values into a single DataFrame\n",
    "mean_values = mean_max_dist.merge(mean_mse, on='method').merge(mean_mae, on='method')\n",
    "mean_values\"\"\""
   ],
   "metadata": {
    "collapsed": false,
    "ExecuteTime": {
     "end_time": "2024-02-11T12:17:10.513470300Z",
     "start_time": "2024-02-11T12:17:10.503362600Z"
    }
   },
   "id": "6b175b3639f03bd4"
  },
  {
   "cell_type": "code",
   "execution_count": 38,
   "outputs": [
    {
     "data": {
      "text/plain": "   dataset  num  num_data_pts  num_outliers_removed  num_coeffs     method  \\\n0    Adiac    0           176                     0          52         L8   \n1    Adiac    0           176                     0          52  L8 and L1   \n2    Adiac    0           176                     0          52        LSQ   \n3    Adiac    0           176                     0          52        PAA   \n4    Adiac    0           176                     0          52        PLA   \n5    Adiac    0           176                     0          52        DFT   \n6    Adiac    1           176                     0          52         L8   \n7    Adiac    1           176                     0          52  L8 and L1   \n8    Adiac    1           176                     0          52        LSQ   \n9    Adiac    1           176                     0          52        PAA   \n10   Adiac    1           176                     0          52        PLA   \n11   Adiac    1           176                     0          52        DFT   \n12   Adiac    2           176                     0          52         L8   \n13   Adiac    2           176                     0          52  L8 and L1   \n14   Adiac    2           176                     0          52        LSQ   \n15   Adiac    2           176                     0          52        PAA   \n16   Adiac    2           176                     0          52        PLA   \n17   Adiac    2           176                     0          52        DFT   \n18   Adiac    3           176                     0          52         L8   \n19   Adiac    3           176                     0          52  L8 and L1   \n20   Adiac    3           176                     0          52        LSQ   \n21   Adiac    3           176                     0          52        PAA   \n22   Adiac    3           176                     0          52        PLA   \n23   Adiac    3           176                     0          52        DFT   \n24   Adiac    4           176                     0          52         L8   \n25   Adiac    4           176                     0          52  L8 and L1   \n26   Adiac    4           176                     0          52        LSQ   \n27   Adiac    4           176                     0          52        PAA   \n28   Adiac    4           176                     0          52        PLA   \n29   Adiac    4           176                     0          52        DFT   \n30   Adiac    5           176                     0          52         L8   \n31   Adiac    5           176                     0          52  L8 and L1   \n32   Adiac    5           176                     0          52        LSQ   \n33   Adiac    5           176                     0          52        PAA   \n34   Adiac    5           176                     0          52        PLA   \n35   Adiac    5           176                     0          52        DFT   \n36   Adiac    6           176                     0          52         L8   \n37   Adiac    6           176                     0          52  L8 and L1   \n38   Adiac    6           176                     0          52        LSQ   \n39   Adiac    6           176                     0          52        PAA   \n40   Adiac    6           176                     0          52        PLA   \n41   Adiac    6           176                     0          52        DFT   \n42   Adiac    7           176                     0          52         L8   \n43   Adiac    7           176                     0          52  L8 and L1   \n44   Adiac    7           176                     0          52        LSQ   \n45   Adiac    7           176                     0          52        PAA   \n46   Adiac    7           176                     0          52        PLA   \n47   Adiac    7           176                     0          52        DFT   \n48   Adiac    8           176                     0          52         L8   \n\n     max_dist        MSE        MAE   mean_diff  max_fst_derivative  \\\n0  0.01174893 0.00007591 0.00780237 -0.50000000          0.00571429   \n1  0.01174913 0.00004443 0.00508272 -0.50000000          0.00571429   \n2  0.01625998 0.00003225 0.00435606 -0.50000000          0.00571429   \n3  0.15120708 0.01104580 0.09197067 -0.50000000          0.00571429   \n4  0.01807150 0.00016987 0.01152031 -0.50000000          0.00571429   \n5  0.01661240 0.00002817 0.00417032 -0.50000000          0.00571429   \n6  0.01288282 0.00009027 0.00849222 -0.50000000          0.00571429   \n7  0.01288302 0.00003235 0.00370505 -0.50000000          0.00571429   \n8  0.01805289 0.00001442 0.00251677 -0.50000000          0.00571429   \n9  0.12701004 0.00777258 0.07775625 -0.50000000          0.00571429   \n10 0.02582352 0.00045862 0.02012272 -0.50000000          0.00571429   \n11 0.01333596 0.00001343 0.00261783 -0.50000000          0.00571429   \n12 0.01140670 0.00006547 0.00709037 -0.50000000          0.00571429   \n13 0.01140688 0.00003074 0.00396614 -0.50000000          0.00571429   \n14 0.01581543 0.00001281 0.00252386 -0.50000000          0.00571429   \n15 0.14980674 0.01061824 0.08957871 -0.50000000          0.00571429   \n16 0.01328163 0.00010433 0.00935553 -0.50000000          0.00571429   \n17 0.01743811 0.00001571 0.00277739 -0.50000000          0.00571429   \n18 0.02339115 0.00030363 0.01591278 -0.50000000          0.00571429   \n19 0.02339135 0.00010281 0.00633837 -0.50000000          0.00571429   \n20 0.03400229 0.00002845 0.00280478 -0.50000000          0.00571429   \n21 0.12987629 0.00794223 0.07840326 -0.50000000          0.00571429   \n22 0.03950386 0.00117355 0.03282971 -0.50000000          0.00571429   \n23 0.02259995 0.00002048 0.00297519 -0.50000000          0.00571429   \n24 0.02133072 0.00024681 0.01408558 -0.50000000          0.00571429   \n25 0.02133092 0.00012760 0.00840255 -0.50000000          0.00571429   \n26 0.03250368 0.00005919 0.00564502 -0.50000000          0.00571429   \n27 0.18612356 0.01725587 0.11597946 -0.50000000          0.00571429   \n28 0.02556830 0.00036699 0.01741581 -0.50000000          0.00571429   \n29 0.03293272 0.00006577 0.00613179 -0.50000000          0.00571429   \n30 0.01229444 0.00008055 0.00797510 -0.50000000          0.00571429   \n31 0.01229464 0.00004108 0.00463595 -0.50000000          0.00571429   \n32 0.01646032 0.00002866 0.00388927 -0.50000000          0.00571429   \n33 0.16716703 0.01390759 0.10429874 -0.50000000          0.00571429   \n34 0.01894870 0.00020363 0.01283852 -0.50000000          0.00571429   \n35 0.02822584 0.00003823 0.00437461 -0.50000000          0.00571429   \n36 0.01473549 0.00011751 0.00976766 -0.50000000          0.00571429   \n37 0.01473569 0.00004588 0.00465276 -0.50000000          0.00571429   \n38 0.02041417 0.00001642 0.00276950 -0.50000000          0.00571429   \n39 0.15512939 0.01140660 0.09293828 -0.50000000          0.00571429   \n40 0.02324375 0.00033903 0.01705922 -0.50000000          0.00571429   \n41 0.01953759 0.00001920 0.00314353 -0.50000000          0.00571429   \n42 0.01341730 0.00009844 0.00890812 -0.50000000          0.00571429   \n43 0.01341750 0.00005243 0.00525089 -0.50000000          0.00571429   \n44 0.01858858 0.00003117 0.00417670 -0.50000000          0.00571429   \n45 0.16337665 0.01343543 0.10255850 -0.50000000          0.00571429   \n46 0.02174795 0.00029144 0.01583244 -0.50000000          0.00571429   \n47 0.01550536 0.00002869 0.00395064 -0.50000000          0.00571429   \n48 0.01789852 0.00017995 0.01217922 -0.50000000          0.00571429   \n\n    max_snd_derivative  \n0           0.00000000  \n1           0.00000000  \n2           0.00000000  \n3           0.00000000  \n4           0.00000000  \n5           0.00000000  \n6           0.00000000  \n7           0.00000000  \n8           0.00000000  \n9           0.00000000  \n10          0.00000000  \n11          0.00000000  \n12          0.00000000  \n13          0.00000000  \n14          0.00000000  \n15          0.00000000  \n16          0.00000000  \n17          0.00000000  \n18          0.00000000  \n19          0.00000000  \n20          0.00000000  \n21          0.00000000  \n22          0.00000000  \n23          0.00000000  \n24          0.00000000  \n25          0.00000000  \n26          0.00000000  \n27          0.00000000  \n28          0.00000000  \n29          0.00000000  \n30          0.00000000  \n31          0.00000000  \n32          0.00000000  \n33          0.00000000  \n34          0.00000000  \n35          0.00000000  \n36          0.00000000  \n37          0.00000000  \n38          0.00000000  \n39          0.00000000  \n40          0.00000000  \n41          0.00000000  \n42          0.00000000  \n43          0.00000000  \n44          0.00000000  \n45          0.00000000  \n46          0.00000000  \n47          0.00000000  \n48          0.00000000  ",
      "text/html": "<div>\n<style scoped>\n    .dataframe tbody tr th:only-of-type {\n        vertical-align: middle;\n    }\n\n    .dataframe tbody tr th {\n        vertical-align: top;\n    }\n\n    .dataframe thead th {\n        text-align: right;\n    }\n</style>\n<table border=\"1\" class=\"dataframe\">\n  <thead>\n    <tr style=\"text-align: right;\">\n      <th></th>\n      <th>dataset</th>\n      <th>num</th>\n      <th>num_data_pts</th>\n      <th>num_outliers_removed</th>\n      <th>num_coeffs</th>\n      <th>method</th>\n      <th>max_dist</th>\n      <th>MSE</th>\n      <th>MAE</th>\n      <th>mean_diff</th>\n      <th>max_fst_derivative</th>\n      <th>max_snd_derivative</th>\n    </tr>\n  </thead>\n  <tbody>\n    <tr>\n      <th>0</th>\n      <td>Adiac</td>\n      <td>0</td>\n      <td>176</td>\n      <td>0</td>\n      <td>52</td>\n      <td>L8</td>\n      <td>0.01174893</td>\n      <td>0.00007591</td>\n      <td>0.00780237</td>\n      <td>-0.50000000</td>\n      <td>0.00571429</td>\n      <td>0.00000000</td>\n    </tr>\n    <tr>\n      <th>1</th>\n      <td>Adiac</td>\n      <td>0</td>\n      <td>176</td>\n      <td>0</td>\n      <td>52</td>\n      <td>L8 and L1</td>\n      <td>0.01174913</td>\n      <td>0.00004443</td>\n      <td>0.00508272</td>\n      <td>-0.50000000</td>\n      <td>0.00571429</td>\n      <td>0.00000000</td>\n    </tr>\n    <tr>\n      <th>2</th>\n      <td>Adiac</td>\n      <td>0</td>\n      <td>176</td>\n      <td>0</td>\n      <td>52</td>\n      <td>LSQ</td>\n      <td>0.01625998</td>\n      <td>0.00003225</td>\n      <td>0.00435606</td>\n      <td>-0.50000000</td>\n      <td>0.00571429</td>\n      <td>0.00000000</td>\n    </tr>\n    <tr>\n      <th>3</th>\n      <td>Adiac</td>\n      <td>0</td>\n      <td>176</td>\n      <td>0</td>\n      <td>52</td>\n      <td>PAA</td>\n      <td>0.15120708</td>\n      <td>0.01104580</td>\n      <td>0.09197067</td>\n      <td>-0.50000000</td>\n      <td>0.00571429</td>\n      <td>0.00000000</td>\n    </tr>\n    <tr>\n      <th>4</th>\n      <td>Adiac</td>\n      <td>0</td>\n      <td>176</td>\n      <td>0</td>\n      <td>52</td>\n      <td>PLA</td>\n      <td>0.01807150</td>\n      <td>0.00016987</td>\n      <td>0.01152031</td>\n      <td>-0.50000000</td>\n      <td>0.00571429</td>\n      <td>0.00000000</td>\n    </tr>\n    <tr>\n      <th>5</th>\n      <td>Adiac</td>\n      <td>0</td>\n      <td>176</td>\n      <td>0</td>\n      <td>52</td>\n      <td>DFT</td>\n      <td>0.01661240</td>\n      <td>0.00002817</td>\n      <td>0.00417032</td>\n      <td>-0.50000000</td>\n      <td>0.00571429</td>\n      <td>0.00000000</td>\n    </tr>\n    <tr>\n      <th>6</th>\n      <td>Adiac</td>\n      <td>1</td>\n      <td>176</td>\n      <td>0</td>\n      <td>52</td>\n      <td>L8</td>\n      <td>0.01288282</td>\n      <td>0.00009027</td>\n      <td>0.00849222</td>\n      <td>-0.50000000</td>\n      <td>0.00571429</td>\n      <td>0.00000000</td>\n    </tr>\n    <tr>\n      <th>7</th>\n      <td>Adiac</td>\n      <td>1</td>\n      <td>176</td>\n      <td>0</td>\n      <td>52</td>\n      <td>L8 and L1</td>\n      <td>0.01288302</td>\n      <td>0.00003235</td>\n      <td>0.00370505</td>\n      <td>-0.50000000</td>\n      <td>0.00571429</td>\n      <td>0.00000000</td>\n    </tr>\n    <tr>\n      <th>8</th>\n      <td>Adiac</td>\n      <td>1</td>\n      <td>176</td>\n      <td>0</td>\n      <td>52</td>\n      <td>LSQ</td>\n      <td>0.01805289</td>\n      <td>0.00001442</td>\n      <td>0.00251677</td>\n      <td>-0.50000000</td>\n      <td>0.00571429</td>\n      <td>0.00000000</td>\n    </tr>\n    <tr>\n      <th>9</th>\n      <td>Adiac</td>\n      <td>1</td>\n      <td>176</td>\n      <td>0</td>\n      <td>52</td>\n      <td>PAA</td>\n      <td>0.12701004</td>\n      <td>0.00777258</td>\n      <td>0.07775625</td>\n      <td>-0.50000000</td>\n      <td>0.00571429</td>\n      <td>0.00000000</td>\n    </tr>\n    <tr>\n      <th>10</th>\n      <td>Adiac</td>\n      <td>1</td>\n      <td>176</td>\n      <td>0</td>\n      <td>52</td>\n      <td>PLA</td>\n      <td>0.02582352</td>\n      <td>0.00045862</td>\n      <td>0.02012272</td>\n      <td>-0.50000000</td>\n      <td>0.00571429</td>\n      <td>0.00000000</td>\n    </tr>\n    <tr>\n      <th>11</th>\n      <td>Adiac</td>\n      <td>1</td>\n      <td>176</td>\n      <td>0</td>\n      <td>52</td>\n      <td>DFT</td>\n      <td>0.01333596</td>\n      <td>0.00001343</td>\n      <td>0.00261783</td>\n      <td>-0.50000000</td>\n      <td>0.00571429</td>\n      <td>0.00000000</td>\n    </tr>\n    <tr>\n      <th>12</th>\n      <td>Adiac</td>\n      <td>2</td>\n      <td>176</td>\n      <td>0</td>\n      <td>52</td>\n      <td>L8</td>\n      <td>0.01140670</td>\n      <td>0.00006547</td>\n      <td>0.00709037</td>\n      <td>-0.50000000</td>\n      <td>0.00571429</td>\n      <td>0.00000000</td>\n    </tr>\n    <tr>\n      <th>13</th>\n      <td>Adiac</td>\n      <td>2</td>\n      <td>176</td>\n      <td>0</td>\n      <td>52</td>\n      <td>L8 and L1</td>\n      <td>0.01140688</td>\n      <td>0.00003074</td>\n      <td>0.00396614</td>\n      <td>-0.50000000</td>\n      <td>0.00571429</td>\n      <td>0.00000000</td>\n    </tr>\n    <tr>\n      <th>14</th>\n      <td>Adiac</td>\n      <td>2</td>\n      <td>176</td>\n      <td>0</td>\n      <td>52</td>\n      <td>LSQ</td>\n      <td>0.01581543</td>\n      <td>0.00001281</td>\n      <td>0.00252386</td>\n      <td>-0.50000000</td>\n      <td>0.00571429</td>\n      <td>0.00000000</td>\n    </tr>\n    <tr>\n      <th>15</th>\n      <td>Adiac</td>\n      <td>2</td>\n      <td>176</td>\n      <td>0</td>\n      <td>52</td>\n      <td>PAA</td>\n      <td>0.14980674</td>\n      <td>0.01061824</td>\n      <td>0.08957871</td>\n      <td>-0.50000000</td>\n      <td>0.00571429</td>\n      <td>0.00000000</td>\n    </tr>\n    <tr>\n      <th>16</th>\n      <td>Adiac</td>\n      <td>2</td>\n      <td>176</td>\n      <td>0</td>\n      <td>52</td>\n      <td>PLA</td>\n      <td>0.01328163</td>\n      <td>0.00010433</td>\n      <td>0.00935553</td>\n      <td>-0.50000000</td>\n      <td>0.00571429</td>\n      <td>0.00000000</td>\n    </tr>\n    <tr>\n      <th>17</th>\n      <td>Adiac</td>\n      <td>2</td>\n      <td>176</td>\n      <td>0</td>\n      <td>52</td>\n      <td>DFT</td>\n      <td>0.01743811</td>\n      <td>0.00001571</td>\n      <td>0.00277739</td>\n      <td>-0.50000000</td>\n      <td>0.00571429</td>\n      <td>0.00000000</td>\n    </tr>\n    <tr>\n      <th>18</th>\n      <td>Adiac</td>\n      <td>3</td>\n      <td>176</td>\n      <td>0</td>\n      <td>52</td>\n      <td>L8</td>\n      <td>0.02339115</td>\n      <td>0.00030363</td>\n      <td>0.01591278</td>\n      <td>-0.50000000</td>\n      <td>0.00571429</td>\n      <td>0.00000000</td>\n    </tr>\n    <tr>\n      <th>19</th>\n      <td>Adiac</td>\n      <td>3</td>\n      <td>176</td>\n      <td>0</td>\n      <td>52</td>\n      <td>L8 and L1</td>\n      <td>0.02339135</td>\n      <td>0.00010281</td>\n      <td>0.00633837</td>\n      <td>-0.50000000</td>\n      <td>0.00571429</td>\n      <td>0.00000000</td>\n    </tr>\n    <tr>\n      <th>20</th>\n      <td>Adiac</td>\n      <td>3</td>\n      <td>176</td>\n      <td>0</td>\n      <td>52</td>\n      <td>LSQ</td>\n      <td>0.03400229</td>\n      <td>0.00002845</td>\n      <td>0.00280478</td>\n      <td>-0.50000000</td>\n      <td>0.00571429</td>\n      <td>0.00000000</td>\n    </tr>\n    <tr>\n      <th>21</th>\n      <td>Adiac</td>\n      <td>3</td>\n      <td>176</td>\n      <td>0</td>\n      <td>52</td>\n      <td>PAA</td>\n      <td>0.12987629</td>\n      <td>0.00794223</td>\n      <td>0.07840326</td>\n      <td>-0.50000000</td>\n      <td>0.00571429</td>\n      <td>0.00000000</td>\n    </tr>\n    <tr>\n      <th>22</th>\n      <td>Adiac</td>\n      <td>3</td>\n      <td>176</td>\n      <td>0</td>\n      <td>52</td>\n      <td>PLA</td>\n      <td>0.03950386</td>\n      <td>0.00117355</td>\n      <td>0.03282971</td>\n      <td>-0.50000000</td>\n      <td>0.00571429</td>\n      <td>0.00000000</td>\n    </tr>\n    <tr>\n      <th>23</th>\n      <td>Adiac</td>\n      <td>3</td>\n      <td>176</td>\n      <td>0</td>\n      <td>52</td>\n      <td>DFT</td>\n      <td>0.02259995</td>\n      <td>0.00002048</td>\n      <td>0.00297519</td>\n      <td>-0.50000000</td>\n      <td>0.00571429</td>\n      <td>0.00000000</td>\n    </tr>\n    <tr>\n      <th>24</th>\n      <td>Adiac</td>\n      <td>4</td>\n      <td>176</td>\n      <td>0</td>\n      <td>52</td>\n      <td>L8</td>\n      <td>0.02133072</td>\n      <td>0.00024681</td>\n      <td>0.01408558</td>\n      <td>-0.50000000</td>\n      <td>0.00571429</td>\n      <td>0.00000000</td>\n    </tr>\n    <tr>\n      <th>25</th>\n      <td>Adiac</td>\n      <td>4</td>\n      <td>176</td>\n      <td>0</td>\n      <td>52</td>\n      <td>L8 and L1</td>\n      <td>0.02133092</td>\n      <td>0.00012760</td>\n      <td>0.00840255</td>\n      <td>-0.50000000</td>\n      <td>0.00571429</td>\n      <td>0.00000000</td>\n    </tr>\n    <tr>\n      <th>26</th>\n      <td>Adiac</td>\n      <td>4</td>\n      <td>176</td>\n      <td>0</td>\n      <td>52</td>\n      <td>LSQ</td>\n      <td>0.03250368</td>\n      <td>0.00005919</td>\n      <td>0.00564502</td>\n      <td>-0.50000000</td>\n      <td>0.00571429</td>\n      <td>0.00000000</td>\n    </tr>\n    <tr>\n      <th>27</th>\n      <td>Adiac</td>\n      <td>4</td>\n      <td>176</td>\n      <td>0</td>\n      <td>52</td>\n      <td>PAA</td>\n      <td>0.18612356</td>\n      <td>0.01725587</td>\n      <td>0.11597946</td>\n      <td>-0.50000000</td>\n      <td>0.00571429</td>\n      <td>0.00000000</td>\n    </tr>\n    <tr>\n      <th>28</th>\n      <td>Adiac</td>\n      <td>4</td>\n      <td>176</td>\n      <td>0</td>\n      <td>52</td>\n      <td>PLA</td>\n      <td>0.02556830</td>\n      <td>0.00036699</td>\n      <td>0.01741581</td>\n      <td>-0.50000000</td>\n      <td>0.00571429</td>\n      <td>0.00000000</td>\n    </tr>\n    <tr>\n      <th>29</th>\n      <td>Adiac</td>\n      <td>4</td>\n      <td>176</td>\n      <td>0</td>\n      <td>52</td>\n      <td>DFT</td>\n      <td>0.03293272</td>\n      <td>0.00006577</td>\n      <td>0.00613179</td>\n      <td>-0.50000000</td>\n      <td>0.00571429</td>\n      <td>0.00000000</td>\n    </tr>\n    <tr>\n      <th>30</th>\n      <td>Adiac</td>\n      <td>5</td>\n      <td>176</td>\n      <td>0</td>\n      <td>52</td>\n      <td>L8</td>\n      <td>0.01229444</td>\n      <td>0.00008055</td>\n      <td>0.00797510</td>\n      <td>-0.50000000</td>\n      <td>0.00571429</td>\n      <td>0.00000000</td>\n    </tr>\n    <tr>\n      <th>31</th>\n      <td>Adiac</td>\n      <td>5</td>\n      <td>176</td>\n      <td>0</td>\n      <td>52</td>\n      <td>L8 and L1</td>\n      <td>0.01229464</td>\n      <td>0.00004108</td>\n      <td>0.00463595</td>\n      <td>-0.50000000</td>\n      <td>0.00571429</td>\n      <td>0.00000000</td>\n    </tr>\n    <tr>\n      <th>32</th>\n      <td>Adiac</td>\n      <td>5</td>\n      <td>176</td>\n      <td>0</td>\n      <td>52</td>\n      <td>LSQ</td>\n      <td>0.01646032</td>\n      <td>0.00002866</td>\n      <td>0.00388927</td>\n      <td>-0.50000000</td>\n      <td>0.00571429</td>\n      <td>0.00000000</td>\n    </tr>\n    <tr>\n      <th>33</th>\n      <td>Adiac</td>\n      <td>5</td>\n      <td>176</td>\n      <td>0</td>\n      <td>52</td>\n      <td>PAA</td>\n      <td>0.16716703</td>\n      <td>0.01390759</td>\n      <td>0.10429874</td>\n      <td>-0.50000000</td>\n      <td>0.00571429</td>\n      <td>0.00000000</td>\n    </tr>\n    <tr>\n      <th>34</th>\n      <td>Adiac</td>\n      <td>5</td>\n      <td>176</td>\n      <td>0</td>\n      <td>52</td>\n      <td>PLA</td>\n      <td>0.01894870</td>\n      <td>0.00020363</td>\n      <td>0.01283852</td>\n      <td>-0.50000000</td>\n      <td>0.00571429</td>\n      <td>0.00000000</td>\n    </tr>\n    <tr>\n      <th>35</th>\n      <td>Adiac</td>\n      <td>5</td>\n      <td>176</td>\n      <td>0</td>\n      <td>52</td>\n      <td>DFT</td>\n      <td>0.02822584</td>\n      <td>0.00003823</td>\n      <td>0.00437461</td>\n      <td>-0.50000000</td>\n      <td>0.00571429</td>\n      <td>0.00000000</td>\n    </tr>\n    <tr>\n      <th>36</th>\n      <td>Adiac</td>\n      <td>6</td>\n      <td>176</td>\n      <td>0</td>\n      <td>52</td>\n      <td>L8</td>\n      <td>0.01473549</td>\n      <td>0.00011751</td>\n      <td>0.00976766</td>\n      <td>-0.50000000</td>\n      <td>0.00571429</td>\n      <td>0.00000000</td>\n    </tr>\n    <tr>\n      <th>37</th>\n      <td>Adiac</td>\n      <td>6</td>\n      <td>176</td>\n      <td>0</td>\n      <td>52</td>\n      <td>L8 and L1</td>\n      <td>0.01473569</td>\n      <td>0.00004588</td>\n      <td>0.00465276</td>\n      <td>-0.50000000</td>\n      <td>0.00571429</td>\n      <td>0.00000000</td>\n    </tr>\n    <tr>\n      <th>38</th>\n      <td>Adiac</td>\n      <td>6</td>\n      <td>176</td>\n      <td>0</td>\n      <td>52</td>\n      <td>LSQ</td>\n      <td>0.02041417</td>\n      <td>0.00001642</td>\n      <td>0.00276950</td>\n      <td>-0.50000000</td>\n      <td>0.00571429</td>\n      <td>0.00000000</td>\n    </tr>\n    <tr>\n      <th>39</th>\n      <td>Adiac</td>\n      <td>6</td>\n      <td>176</td>\n      <td>0</td>\n      <td>52</td>\n      <td>PAA</td>\n      <td>0.15512939</td>\n      <td>0.01140660</td>\n      <td>0.09293828</td>\n      <td>-0.50000000</td>\n      <td>0.00571429</td>\n      <td>0.00000000</td>\n    </tr>\n    <tr>\n      <th>40</th>\n      <td>Adiac</td>\n      <td>6</td>\n      <td>176</td>\n      <td>0</td>\n      <td>52</td>\n      <td>PLA</td>\n      <td>0.02324375</td>\n      <td>0.00033903</td>\n      <td>0.01705922</td>\n      <td>-0.50000000</td>\n      <td>0.00571429</td>\n      <td>0.00000000</td>\n    </tr>\n    <tr>\n      <th>41</th>\n      <td>Adiac</td>\n      <td>6</td>\n      <td>176</td>\n      <td>0</td>\n      <td>52</td>\n      <td>DFT</td>\n      <td>0.01953759</td>\n      <td>0.00001920</td>\n      <td>0.00314353</td>\n      <td>-0.50000000</td>\n      <td>0.00571429</td>\n      <td>0.00000000</td>\n    </tr>\n    <tr>\n      <th>42</th>\n      <td>Adiac</td>\n      <td>7</td>\n      <td>176</td>\n      <td>0</td>\n      <td>52</td>\n      <td>L8</td>\n      <td>0.01341730</td>\n      <td>0.00009844</td>\n      <td>0.00890812</td>\n      <td>-0.50000000</td>\n      <td>0.00571429</td>\n      <td>0.00000000</td>\n    </tr>\n    <tr>\n      <th>43</th>\n      <td>Adiac</td>\n      <td>7</td>\n      <td>176</td>\n      <td>0</td>\n      <td>52</td>\n      <td>L8 and L1</td>\n      <td>0.01341750</td>\n      <td>0.00005243</td>\n      <td>0.00525089</td>\n      <td>-0.50000000</td>\n      <td>0.00571429</td>\n      <td>0.00000000</td>\n    </tr>\n    <tr>\n      <th>44</th>\n      <td>Adiac</td>\n      <td>7</td>\n      <td>176</td>\n      <td>0</td>\n      <td>52</td>\n      <td>LSQ</td>\n      <td>0.01858858</td>\n      <td>0.00003117</td>\n      <td>0.00417670</td>\n      <td>-0.50000000</td>\n      <td>0.00571429</td>\n      <td>0.00000000</td>\n    </tr>\n    <tr>\n      <th>45</th>\n      <td>Adiac</td>\n      <td>7</td>\n      <td>176</td>\n      <td>0</td>\n      <td>52</td>\n      <td>PAA</td>\n      <td>0.16337665</td>\n      <td>0.01343543</td>\n      <td>0.10255850</td>\n      <td>-0.50000000</td>\n      <td>0.00571429</td>\n      <td>0.00000000</td>\n    </tr>\n    <tr>\n      <th>46</th>\n      <td>Adiac</td>\n      <td>7</td>\n      <td>176</td>\n      <td>0</td>\n      <td>52</td>\n      <td>PLA</td>\n      <td>0.02174795</td>\n      <td>0.00029144</td>\n      <td>0.01583244</td>\n      <td>-0.50000000</td>\n      <td>0.00571429</td>\n      <td>0.00000000</td>\n    </tr>\n    <tr>\n      <th>47</th>\n      <td>Adiac</td>\n      <td>7</td>\n      <td>176</td>\n      <td>0</td>\n      <td>52</td>\n      <td>DFT</td>\n      <td>0.01550536</td>\n      <td>0.00002869</td>\n      <td>0.00395064</td>\n      <td>-0.50000000</td>\n      <td>0.00571429</td>\n      <td>0.00000000</td>\n    </tr>\n    <tr>\n      <th>48</th>\n      <td>Adiac</td>\n      <td>8</td>\n      <td>176</td>\n      <td>0</td>\n      <td>52</td>\n      <td>L8</td>\n      <td>0.01789852</td>\n      <td>0.00017995</td>\n      <td>0.01217922</td>\n      <td>-0.50000000</td>\n      <td>0.00571429</td>\n      <td>0.00000000</td>\n    </tr>\n  </tbody>\n</table>\n</div>"
     },
     "execution_count": 38,
     "metadata": {},
     "output_type": "execute_result"
    }
   ],
   "source": [
    "# combine results df with ts properties df for analysis later\n",
    "ts_props = pd.DataFrame(ts_properties).drop_duplicates()\n",
    "e2 = pd.merge(e2_results, ts_props, how='left', on=['dataset', 'num', 'num_data_pts', 'num_outliers_removed'])\n",
    "e2"
   ],
   "metadata": {
    "collapsed": false,
    "ExecuteTime": {
     "end_time": "2024-02-11T12:17:10.584021700Z",
     "start_time": "2024-02-11T12:17:10.507470700Z"
    }
   },
   "id": "bbfa6f2750050b4a"
  },
  {
   "cell_type": "code",
   "execution_count": 39,
   "outputs": [
    {
     "data": {
      "text/plain": "      method   max_dist        MSE        MAE  max_dist w/o o.  MSE w/o o.  \\\n0        DFT 0.02077349 0.00002871 0.00376766              NaN         NaN   \n1         L8 0.01545623 0.00013984 0.01024594              NaN         NaN   \n2  L8 and L1 0.01515114 0.00005967 0.00525430              NaN         NaN   \n3        LSQ 0.02151217 0.00002792 0.00358524              NaN         NaN   \n4        PAA 0.15371210 0.01167304 0.09418549              NaN         NaN   \n5        PLA 0.02327365 0.00038843 0.01712178              NaN         NaN   \n\n   MAE w/o o.  \n0         NaN  \n1         NaN  \n2         NaN  \n3         NaN  \n4         NaN  \n5         NaN  ",
      "text/html": "<div>\n<style scoped>\n    .dataframe tbody tr th:only-of-type {\n        vertical-align: middle;\n    }\n\n    .dataframe tbody tr th {\n        vertical-align: top;\n    }\n\n    .dataframe thead th {\n        text-align: right;\n    }\n</style>\n<table border=\"1\" class=\"dataframe\">\n  <thead>\n    <tr style=\"text-align: right;\">\n      <th></th>\n      <th>method</th>\n      <th>max_dist</th>\n      <th>MSE</th>\n      <th>MAE</th>\n      <th>max_dist w/o o.</th>\n      <th>MSE w/o o.</th>\n      <th>MAE w/o o.</th>\n    </tr>\n  </thead>\n  <tbody>\n    <tr>\n      <th>0</th>\n      <td>DFT</td>\n      <td>0.02077349</td>\n      <td>0.00002871</td>\n      <td>0.00376766</td>\n      <td>NaN</td>\n      <td>NaN</td>\n      <td>NaN</td>\n    </tr>\n    <tr>\n      <th>1</th>\n      <td>L8</td>\n      <td>0.01545623</td>\n      <td>0.00013984</td>\n      <td>0.01024594</td>\n      <td>NaN</td>\n      <td>NaN</td>\n      <td>NaN</td>\n    </tr>\n    <tr>\n      <th>2</th>\n      <td>L8 and L1</td>\n      <td>0.01515114</td>\n      <td>0.00005967</td>\n      <td>0.00525430</td>\n      <td>NaN</td>\n      <td>NaN</td>\n      <td>NaN</td>\n    </tr>\n    <tr>\n      <th>3</th>\n      <td>LSQ</td>\n      <td>0.02151217</td>\n      <td>0.00002792</td>\n      <td>0.00358524</td>\n      <td>NaN</td>\n      <td>NaN</td>\n      <td>NaN</td>\n    </tr>\n    <tr>\n      <th>4</th>\n      <td>PAA</td>\n      <td>0.15371210</td>\n      <td>0.01167304</td>\n      <td>0.09418549</td>\n      <td>NaN</td>\n      <td>NaN</td>\n      <td>NaN</td>\n    </tr>\n    <tr>\n      <th>5</th>\n      <td>PLA</td>\n      <td>0.02327365</td>\n      <td>0.00038843</td>\n      <td>0.01712178</td>\n      <td>NaN</td>\n      <td>NaN</td>\n      <td>NaN</td>\n    </tr>\n  </tbody>\n</table>\n</div>"
     },
     "execution_count": 39,
     "metadata": {},
     "output_type": "execute_result"
    }
   ],
   "source": [
    "df_no_outliers = e2[e2['num_outliers_removed'] > 0]\n",
    "df_with_outliers = e2[e2['num_outliers_removed'] == 0]\n",
    "#df_no_outliers = e2_results[e2_results['num_outliers_removed'] > 0]\n",
    "#df_with_outliers = e2_results[e2_results['num_outliers_removed'] == 0]\n",
    "\n",
    "mean_values_no_outliers = df_no_outliers.groupby('method').agg(\n",
    "    {'max_dist': 'mean', 'MSE': 'mean', 'MAE': 'mean'}).reset_index()\n",
    "mean_values_no_outliers.rename(columns={'max_dist': 'max_dist w/o o.', 'MSE': 'MSE w/o o.', 'MAE': 'MAE w/o o.'},\n",
    "                               inplace=True)\n",
    "\n",
    "mean_values_with_outliers = df_with_outliers.groupby('method').agg(\n",
    "    {'max_dist': 'mean', 'MSE': 'mean', 'MAE': 'mean'}).reset_index()\n",
    "mean_values_with_outliers.rename(columns={'max_dist': 'max_dist', 'MSE': 'MSE', 'MAE': 'MAE'}, inplace=True)\n",
    "\n",
    "mean_values_combined = pd.merge(mean_values_with_outliers, mean_values_no_outliers, on='method', how='outer')\n",
    "mean_values_combined"
   ],
   "metadata": {
    "collapsed": false,
    "ExecuteTime": {
     "end_time": "2024-02-11T12:17:10.633021Z",
     "start_time": "2024-02-11T12:17:10.528760400Z"
    }
   },
   "id": "dd03082c7b9b0f3e"
  },
  {
   "cell_type": "code",
   "execution_count": 40,
   "outputs": [
    {
     "name": "stdout",
     "output_type": "stream",
     "text": [
      "Correlation Matrix:\n",
      "                      max_dist         MSE         MAE  num_data_pts  \\\n",
      "max_dist            1.00000000  0.98620255  0.98704823           NaN   \n",
      "MSE                 0.98620255  1.00000000  0.98387540           NaN   \n",
      "MAE                 0.98704823  0.98387540  1.00000000           NaN   \n",
      "num_data_pts               NaN         NaN         NaN           NaN   \n",
      "mean_diff          -0.06682958 -0.06031004 -0.04429625           NaN   \n",
      "max_fst_derivative         NaN         NaN         NaN           NaN   \n",
      "max_snd_derivative         NaN         NaN         NaN           NaN   \n",
      "\n",
      "                     mean_diff  max_fst_derivative  max_snd_derivative  \n",
      "max_dist           -0.06682958                 NaN                 NaN  \n",
      "MSE                -0.06031004                 NaN                 NaN  \n",
      "MAE                -0.04429625                 NaN                 NaN  \n",
      "num_data_pts               NaN                 NaN                 NaN  \n",
      "mean_diff           1.00000000                 NaN                 NaN  \n",
      "max_fst_derivative         NaN                 NaN                 NaN  \n",
      "max_snd_derivative         NaN                 NaN                 NaN  \n",
      "                            OLS Regression Results                            \n",
      "==============================================================================\n",
      "Dep. Variable:               max_dist   R-squared:                       0.000\n",
      "Model:                            OLS   Adj. R-squared:                  0.000\n",
      "Method:                 Least Squares   F-statistic:                       nan\n",
      "Date:                Sun, 11 Feb 2024   Prob (F-statistic):                nan\n",
      "Time:                        13:17:10   Log-Likelihood:                 76.625\n",
      "No. Observations:                  49   AIC:                            -151.2\n",
      "Df Residuals:                      48   BIC:                            -149.4\n",
      "Df Model:                           0                                         \n",
      "Covariance Type:            nonrobust                                         \n",
      "======================================================================================\n",
      "                         coef    std err          t      P>|t|      [0.025      0.975]\n",
      "--------------------------------------------------------------------------------------\n",
      "num_data_pts           0.0002   4.15e-05      5.623      0.000       0.000       0.000\n",
      "mean_diff          -6.636e-07   1.18e-07     -5.623      0.000   -9.01e-07   -4.26e-07\n",
      "max_fst_derivative  7.584e-09   1.35e-09      5.623      0.000    4.87e-09    1.03e-08\n",
      "max_snd_derivative  1.473e-22   2.62e-23      5.623      0.000    9.47e-23       2e-22\n",
      "==============================================================================\n",
      "Omnibus:                       23.930   Durbin-Watson:                   2.262\n",
      "Prob(Omnibus):                  0.000   Jarque-Bera (JB):               33.529\n",
      "Skew:                           1.848   Prob(JB):                     5.24e-08\n",
      "Kurtosis:                       4.662   Cond. No.                          inf\n",
      "==============================================================================\n",
      "\n",
      "Notes:\n",
      "[1] Standard Errors assume that the covariance matrix of the errors is correctly specified.\n",
      "[2] The smallest eigenvalue is      0. This might indicate that there are\n",
      "strong multicollinearity problems or that the design matrix is singular.\n"
     ]
    },
    {
     "name": "stderr",
     "output_type": "stream",
     "text": [
      "C:\\Users\\veron\\Desktop\\Bachelorarbeit_Info\\Code\\splineRegressionExperiments\\venv\\Lib\\site-packages\\statsmodels\\regression\\linear_model.py:1966: RuntimeWarning: divide by zero encountered in scalar divide\n",
      "  return np.sqrt(eigvals[0]/eigvals[-1])\n"
     ]
    }
   ],
   "source": [
    "\n",
    "import statsmodels.api as sm\n",
    "\n",
    "# Correlation Analysis\n",
    "correlation_matrix = e2[\n",
    "    ['max_dist', 'MSE', 'MAE', 'num_data_pts', 'mean_diff', 'max_fst_derivative', 'max_snd_derivative']].corr()\n",
    "print(\"Correlation Matrix:\")\n",
    "print(correlation_matrix)\n",
    "\n",
    "# Regression Analysis\n",
    "X = e2[['num_data_pts', 'mean_diff', 'max_fst_derivative', 'max_snd_derivative']]\n",
    "y = e2['max_dist']\n",
    "\n",
    "X = sm.add_constant(X)\n",
    "model = sm.OLS(y, X).fit()\n",
    "print(model.summary())\n"
   ],
   "metadata": {
    "collapsed": false,
    "ExecuteTime": {
     "end_time": "2024-02-11T12:17:10.634021Z",
     "start_time": "2024-02-11T12:17:10.537515500Z"
    }
   },
   "id": "7413705e8c3035ae"
  },
  {
   "cell_type": "code",
   "execution_count": 41,
   "outputs": [
    {
     "name": "stdout",
     "output_type": "stream",
     "text": [
      "Method: L8\n",
      "                            OLS Regression Results                            \n",
      "==============================================================================\n",
      "Dep. Variable:               max_dist   R-squared:                       0.058\n",
      "Model:                            OLS   Adj. R-squared:                  0.038\n",
      "Method:                 Least Squares   F-statistic:                     2.879\n",
      "Date:                Sun, 11 Feb 2024   Prob (F-statistic):             0.0964\n",
      "Time:                        13:17:10   Log-Likelihood:                 78.081\n",
      "No. Observations:                  49   AIC:                            -152.2\n",
      "Df Residuals:                      47   BIC:                            -148.4\n",
      "Df Model:                           1                                         \n",
      "Covariance Type:            nonrobust                                         \n",
      "==============================================================================\n",
      "                 coef    std err          t      P>|t|      [0.025      0.975]\n",
      "------------------------------------------------------------------------------\n",
      "method_L8     -0.0314      0.019     -1.697      0.096      -0.069       0.006\n",
      "mean_diff     -0.0938      0.016     -5.906      0.000      -0.126      -0.062\n",
      "==============================================================================\n",
      "Omnibus:                       20.959   Durbin-Watson:                   2.513\n",
      "Prob(Omnibus):                  0.000   Jarque-Bera (JB):               27.231\n",
      "Skew:                           1.695   Prob(JB):                     1.22e-06\n",
      "Kurtosis:                       4.357   Cond. No.                         1.62\n",
      "==============================================================================\n",
      "\n",
      "Notes:\n",
      "[1] Standard Errors assume that the covariance matrix of the errors is correctly specified.\n",
      "\n",
      "\n",
      "Method: L8 and L1\n",
      "                            OLS Regression Results                            \n",
      "==============================================================================\n",
      "Dep. Variable:               max_dist   R-squared:                       0.051\n",
      "Model:                            OLS   Adj. R-squared:                  0.031\n",
      "Method:                 Least Squares   F-statistic:                     2.539\n",
      "Date:                Sun, 11 Feb 2024   Prob (F-statistic):              0.118\n",
      "Time:                        13:17:10   Log-Likelihood:                 77.913\n",
      "No. Observations:                  49   AIC:                            -151.8\n",
      "Df Residuals:                      47   BIC:                            -148.0\n",
      "Df Model:                           1                                         \n",
      "Covariance Type:            nonrobust                                         \n",
      "====================================================================================\n",
      "                       coef    std err          t      P>|t|      [0.025      0.975]\n",
      "------------------------------------------------------------------------------------\n",
      "method_L8 and L1    -0.0310      0.019     -1.593      0.118      -0.070       0.008\n",
      "mean_diff           -0.0924      0.016     -5.869      0.000      -0.124      -0.061\n",
      "==============================================================================\n",
      "Omnibus:                       21.371   Durbin-Watson:                   2.486\n",
      "Prob(Omnibus):                  0.000   Jarque-Bera (JB):               28.057\n",
      "Skew:                           1.717   Prob(JB):                     8.08e-07\n",
      "Kurtosis:                       4.397   Cond. No.                         1.62\n",
      "==============================================================================\n",
      "\n",
      "Notes:\n",
      "[1] Standard Errors assume that the covariance matrix of the errors is correctly specified.\n",
      "\n",
      "\n",
      "Method: LSQ\n",
      "                            OLS Regression Results                            \n",
      "==============================================================================\n",
      "Dep. Variable:               max_dist   R-squared:                       0.029\n",
      "Model:                            OLS   Adj. R-squared:                  0.009\n",
      "Method:                 Least Squares   F-statistic:                     1.414\n",
      "Date:                Sun, 11 Feb 2024   Prob (F-statistic):              0.240\n",
      "Time:                        13:17:10   Log-Likelihood:                 77.351\n",
      "No. Observations:                  49   AIC:                            -150.7\n",
      "Df Residuals:                      47   BIC:                            -146.9\n",
      "Df Model:                           1                                         \n",
      "Covariance Type:            nonrobust                                         \n",
      "==============================================================================\n",
      "                 coef    std err          t      P>|t|      [0.025      0.975]\n",
      "------------------------------------------------------------------------------\n",
      "method_LSQ    -0.0234      0.020     -1.189      0.240      -0.063       0.016\n",
      "mean_diff     -0.0899      0.016     -5.646      0.000      -0.122      -0.058\n",
      "==============================================================================\n",
      "Omnibus:                       21.308   Durbin-Watson:                   2.015\n",
      "Prob(Omnibus):                  0.000   Jarque-Bera (JB):               27.937\n",
      "Skew:                           1.716   Prob(JB):                     8.58e-07\n",
      "Kurtosis:                       4.380   Cond. No.                         1.62\n",
      "==============================================================================\n",
      "\n",
      "Notes:\n",
      "[1] Standard Errors assume that the covariance matrix of the errors is correctly specified.\n",
      "\n",
      "\n",
      "Method: PAA\n",
      "                            OLS Regression Results                            \n",
      "==============================================================================\n",
      "Dep. Variable:               max_dist   R-squared:                       0.964\n",
      "Model:                            OLS   Adj. R-squared:                  0.963\n",
      "Method:                 Least Squares   F-statistic:                     1263.\n",
      "Date:                Sun, 11 Feb 2024   Prob (F-statistic):           1.29e-35\n",
      "Time:                        13:17:10   Log-Likelihood:                 158.15\n",
      "No. Observations:                  49   AIC:                            -312.3\n",
      "Df Residuals:                      47   BIC:                            -308.5\n",
      "Df Model:                           1                                         \n",
      "Covariance Type:            nonrobust                                         \n",
      "==============================================================================\n",
      "                 coef    std err          t      P>|t|      [0.025      0.975]\n",
      "------------------------------------------------------------------------------\n",
      "method_PAA     0.1346      0.004     35.534      0.000       0.127       0.142\n",
      "mean_diff     -0.0383      0.003    -12.509      0.000      -0.044      -0.032\n",
      "==============================================================================\n",
      "Omnibus:                        9.145   Durbin-Watson:                   1.909\n",
      "Prob(Omnibus):                  0.010   Jarque-Bera (JB):               14.800\n",
      "Skew:                           0.442   Prob(JB):                     0.000611\n",
      "Kurtosis:                       5.543   Cond. No.                         1.62\n",
      "==============================================================================\n",
      "\n",
      "Notes:\n",
      "[1] Standard Errors assume that the covariance matrix of the errors is correctly specified.\n",
      "\n",
      "\n",
      "Method: PLA\n",
      "                            OLS Regression Results                            \n",
      "==============================================================================\n",
      "Dep. Variable:               max_dist   R-squared:                       0.024\n",
      "Model:                            OLS   Adj. R-squared:                  0.003\n",
      "Method:                 Least Squares   F-statistic:                     1.165\n",
      "Date:                Sun, 11 Feb 2024   Prob (F-statistic):              0.286\n",
      "Time:                        13:17:10   Log-Likelihood:                 77.225\n",
      "No. Observations:                  49   AIC:                            -150.4\n",
      "Df Residuals:                      47   BIC:                            -146.7\n",
      "Df Model:                           1                                         \n",
      "Covariance Type:            nonrobust                                         \n",
      "==============================================================================\n",
      "                 coef    std err          t      P>|t|      [0.025      0.975]\n",
      "------------------------------------------------------------------------------\n",
      "method_PLA    -0.0213      0.020     -1.080      0.286      -0.061       0.018\n",
      "mean_diff     -0.0892      0.016     -5.589      0.000      -0.121      -0.057\n",
      "==============================================================================\n",
      "Omnibus:                       21.374   Durbin-Watson:                   2.021\n",
      "Prob(Omnibus):                  0.000   Jarque-Bera (JB):               28.072\n",
      "Skew:                           1.720   Prob(JB):                     8.02e-07\n",
      "Kurtosis:                       4.385   Cond. No.                         1.62\n",
      "==============================================================================\n",
      "\n",
      "Notes:\n",
      "[1] Standard Errors assume that the covariance matrix of the errors is correctly specified.\n",
      "\n"
     ]
    }
   ],
   "source": [
    "import pandas as pd\n",
    "import statsmodels.api as sm\n",
    "\n",
    "# Load your dataframe\n",
    "# Assuming your dataframe is named 'df'\n",
    "\n",
    "# Filter relevant columns\n",
    "data = e2[['mean_diff', 'max_dist', 'method']]\n",
    "\n",
    "# Create dummy variables for the 'method' column\n",
    "data = pd.get_dummies(data, columns=['method'], drop_first=True)\n",
    "\n",
    "# Separate independent (X) and dependent (y) variables\n",
    "X = data.drop(columns=['max_dist'])\n",
    "y = data['max_dist']\n",
    "\n",
    "# Add constant for intercept term\n",
    "X = sm.add_constant(X)\n",
    "\n",
    "# Fit the regression model for each method\n",
    "results = {}\n",
    "method_columns = data.iloc[:, 2:]\n",
    "for method_col in method_columns:\n",
    "    method_name = method_col.replace('method_', '')\n",
    "    method_data = data[[method_col] + ['mean_diff']]\n",
    "\n",
    "    model = sm.OLS(y, method_data.astype(float)).fit()\n",
    "    results[method_name] = model.summary()\n",
    "\n",
    "# Print results\n",
    "for method, result in results.items():\n",
    "    print(f\"Method: {method}\")\n",
    "    print(result)\n",
    "    print(\"\\n\")\n"
   ],
   "metadata": {
    "collapsed": false,
    "ExecuteTime": {
     "end_time": "2024-02-11T12:17:10.636020900Z",
     "start_time": "2024-02-11T12:17:10.552023700Z"
    }
   },
   "id": "27c2fffa29f10a45"
  },
  {
   "cell_type": "code",
   "execution_count": 42,
   "outputs": [
    {
     "ename": "ValueError",
     "evalue": "zero-size array to reduction operation maximum which has no identity",
     "output_type": "error",
     "traceback": [
      "\u001B[1;31m---------------------------------------------------------------------------\u001B[0m",
      "\u001B[1;31mValueError\u001B[0m                                Traceback (most recent call last)",
      "Cell \u001B[1;32mIn[42], line 35\u001B[0m\n\u001B[0;32m     32\u001B[0m X_without_outliers \u001B[38;5;241m=\u001B[39m sm\u001B[38;5;241m.\u001B[39madd_constant(X_without_outliers)\n\u001B[0;32m     34\u001B[0m \u001B[38;5;66;03m# Fit the regression model for each case\u001B[39;00m\n\u001B[1;32m---> 35\u001B[0m model_with_outliers \u001B[38;5;241m=\u001B[39m \u001B[43msm\u001B[49m\u001B[38;5;241;43m.\u001B[39;49m\u001B[43mOLS\u001B[49m\u001B[43m(\u001B[49m\u001B[43my_with_outliers\u001B[49m\u001B[43m,\u001B[49m\u001B[43m \u001B[49m\u001B[43mX_with_outliers\u001B[49m\u001B[38;5;241;43m.\u001B[39;49m\u001B[43mastype\u001B[49m\u001B[43m(\u001B[49m\u001B[38;5;28;43mfloat\u001B[39;49m\u001B[43m)\u001B[49m\u001B[43m)\u001B[49m\u001B[38;5;241m.\u001B[39mfit()\n\u001B[0;32m     36\u001B[0m model_without_outliers \u001B[38;5;241m=\u001B[39m sm\u001B[38;5;241m.\u001B[39mOLS(y_without_outliers, X_without_outliers\u001B[38;5;241m.\u001B[39mastype(\u001B[38;5;28mfloat\u001B[39m))\u001B[38;5;241m.\u001B[39mfit()\n\u001B[0;32m     38\u001B[0m \u001B[38;5;66;03m# Print results\u001B[39;00m\n",
      "File \u001B[1;32m~\\Desktop\\Bachelorarbeit_Info\\Code\\splineRegressionExperiments\\venv\\Lib\\site-packages\\statsmodels\\regression\\linear_model.py:923\u001B[0m, in \u001B[0;36mOLS.__init__\u001B[1;34m(self, endog, exog, missing, hasconst, **kwargs)\u001B[0m\n\u001B[0;32m    920\u001B[0m     msg \u001B[38;5;241m=\u001B[39m (\u001B[38;5;124m\"\u001B[39m\u001B[38;5;124mWeights are not supported in OLS and will be ignored\u001B[39m\u001B[38;5;124m\"\u001B[39m\n\u001B[0;32m    921\u001B[0m            \u001B[38;5;124m\"\u001B[39m\u001B[38;5;124mAn exception will be raised in the next version.\u001B[39m\u001B[38;5;124m\"\u001B[39m)\n\u001B[0;32m    922\u001B[0m     warnings\u001B[38;5;241m.\u001B[39mwarn(msg, ValueWarning)\n\u001B[1;32m--> 923\u001B[0m \u001B[38;5;28;43msuper\u001B[39;49m\u001B[43m(\u001B[49m\u001B[43mOLS\u001B[49m\u001B[43m,\u001B[49m\u001B[43m \u001B[49m\u001B[38;5;28;43mself\u001B[39;49m\u001B[43m)\u001B[49m\u001B[38;5;241;43m.\u001B[39;49m\u001B[38;5;21;43m__init__\u001B[39;49m\u001B[43m(\u001B[49m\u001B[43mendog\u001B[49m\u001B[43m,\u001B[49m\u001B[43m \u001B[49m\u001B[43mexog\u001B[49m\u001B[43m,\u001B[49m\u001B[43m \u001B[49m\u001B[43mmissing\u001B[49m\u001B[38;5;241;43m=\u001B[39;49m\u001B[43mmissing\u001B[49m\u001B[43m,\u001B[49m\n\u001B[0;32m    924\u001B[0m \u001B[43m                          \u001B[49m\u001B[43mhasconst\u001B[49m\u001B[38;5;241;43m=\u001B[39;49m\u001B[43mhasconst\u001B[49m\u001B[43m,\u001B[49m\u001B[43m \u001B[49m\u001B[38;5;241;43m*\u001B[39;49m\u001B[38;5;241;43m*\u001B[39;49m\u001B[43mkwargs\u001B[49m\u001B[43m)\u001B[49m\n\u001B[0;32m    925\u001B[0m \u001B[38;5;28;01mif\u001B[39;00m \u001B[38;5;124m\"\u001B[39m\u001B[38;5;124mweights\u001B[39m\u001B[38;5;124m\"\u001B[39m \u001B[38;5;129;01min\u001B[39;00m \u001B[38;5;28mself\u001B[39m\u001B[38;5;241m.\u001B[39m_init_keys:\n\u001B[0;32m    926\u001B[0m     \u001B[38;5;28mself\u001B[39m\u001B[38;5;241m.\u001B[39m_init_keys\u001B[38;5;241m.\u001B[39mremove(\u001B[38;5;124m\"\u001B[39m\u001B[38;5;124mweights\u001B[39m\u001B[38;5;124m\"\u001B[39m)\n",
      "File \u001B[1;32m~\\Desktop\\Bachelorarbeit_Info\\Code\\splineRegressionExperiments\\venv\\Lib\\site-packages\\statsmodels\\regression\\linear_model.py:748\u001B[0m, in \u001B[0;36mWLS.__init__\u001B[1;34m(self, endog, exog, weights, missing, hasconst, **kwargs)\u001B[0m\n\u001B[0;32m    746\u001B[0m \u001B[38;5;28;01melse\u001B[39;00m:\n\u001B[0;32m    747\u001B[0m     weights \u001B[38;5;241m=\u001B[39m weights\u001B[38;5;241m.\u001B[39msqueeze()\n\u001B[1;32m--> 748\u001B[0m \u001B[38;5;28;43msuper\u001B[39;49m\u001B[43m(\u001B[49m\u001B[43mWLS\u001B[49m\u001B[43m,\u001B[49m\u001B[43m \u001B[49m\u001B[38;5;28;43mself\u001B[39;49m\u001B[43m)\u001B[49m\u001B[38;5;241;43m.\u001B[39;49m\u001B[38;5;21;43m__init__\u001B[39;49m\u001B[43m(\u001B[49m\u001B[43mendog\u001B[49m\u001B[43m,\u001B[49m\u001B[43m \u001B[49m\u001B[43mexog\u001B[49m\u001B[43m,\u001B[49m\u001B[43m \u001B[49m\u001B[43mmissing\u001B[49m\u001B[38;5;241;43m=\u001B[39;49m\u001B[43mmissing\u001B[49m\u001B[43m,\u001B[49m\n\u001B[0;32m    749\u001B[0m \u001B[43m                          \u001B[49m\u001B[43mweights\u001B[49m\u001B[38;5;241;43m=\u001B[39;49m\u001B[43mweights\u001B[49m\u001B[43m,\u001B[49m\u001B[43m \u001B[49m\u001B[43mhasconst\u001B[49m\u001B[38;5;241;43m=\u001B[39;49m\u001B[43mhasconst\u001B[49m\u001B[43m,\u001B[49m\u001B[43m \u001B[49m\u001B[38;5;241;43m*\u001B[39;49m\u001B[38;5;241;43m*\u001B[39;49m\u001B[43mkwargs\u001B[49m\u001B[43m)\u001B[49m\n\u001B[0;32m    750\u001B[0m nobs \u001B[38;5;241m=\u001B[39m \u001B[38;5;28mself\u001B[39m\u001B[38;5;241m.\u001B[39mexog\u001B[38;5;241m.\u001B[39mshape[\u001B[38;5;241m0\u001B[39m]\n\u001B[0;32m    751\u001B[0m weights \u001B[38;5;241m=\u001B[39m \u001B[38;5;28mself\u001B[39m\u001B[38;5;241m.\u001B[39mweights\n",
      "File \u001B[1;32m~\\Desktop\\Bachelorarbeit_Info\\Code\\splineRegressionExperiments\\venv\\Lib\\site-packages\\statsmodels\\regression\\linear_model.py:202\u001B[0m, in \u001B[0;36mRegressionModel.__init__\u001B[1;34m(self, endog, exog, **kwargs)\u001B[0m\n\u001B[0;32m    201\u001B[0m \u001B[38;5;28;01mdef\u001B[39;00m \u001B[38;5;21m__init__\u001B[39m(\u001B[38;5;28mself\u001B[39m, endog, exog, \u001B[38;5;241m*\u001B[39m\u001B[38;5;241m*\u001B[39mkwargs):\n\u001B[1;32m--> 202\u001B[0m     \u001B[38;5;28;43msuper\u001B[39;49m\u001B[43m(\u001B[49m\u001B[43mRegressionModel\u001B[49m\u001B[43m,\u001B[49m\u001B[43m \u001B[49m\u001B[38;5;28;43mself\u001B[39;49m\u001B[43m)\u001B[49m\u001B[38;5;241;43m.\u001B[39;49m\u001B[38;5;21;43m__init__\u001B[39;49m\u001B[43m(\u001B[49m\u001B[43mendog\u001B[49m\u001B[43m,\u001B[49m\u001B[43m \u001B[49m\u001B[43mexog\u001B[49m\u001B[43m,\u001B[49m\u001B[43m \u001B[49m\u001B[38;5;241;43m*\u001B[39;49m\u001B[38;5;241;43m*\u001B[39;49m\u001B[43mkwargs\u001B[49m\u001B[43m)\u001B[49m\n\u001B[0;32m    203\u001B[0m     \u001B[38;5;28mself\u001B[39m\u001B[38;5;241m.\u001B[39mpinv_wexog: Float64Array \u001B[38;5;241m|\u001B[39m \u001B[38;5;28;01mNone\u001B[39;00m \u001B[38;5;241m=\u001B[39m \u001B[38;5;28;01mNone\u001B[39;00m\n\u001B[0;32m    204\u001B[0m     \u001B[38;5;28mself\u001B[39m\u001B[38;5;241m.\u001B[39m_data_attr\u001B[38;5;241m.\u001B[39mextend([\u001B[38;5;124m'\u001B[39m\u001B[38;5;124mpinv_wexog\u001B[39m\u001B[38;5;124m'\u001B[39m, \u001B[38;5;124m'\u001B[39m\u001B[38;5;124mwendog\u001B[39m\u001B[38;5;124m'\u001B[39m, \u001B[38;5;124m'\u001B[39m\u001B[38;5;124mwexog\u001B[39m\u001B[38;5;124m'\u001B[39m, \u001B[38;5;124m'\u001B[39m\u001B[38;5;124mweights\u001B[39m\u001B[38;5;124m'\u001B[39m])\n",
      "File \u001B[1;32m~\\Desktop\\Bachelorarbeit_Info\\Code\\splineRegressionExperiments\\venv\\Lib\\site-packages\\statsmodels\\base\\model.py:270\u001B[0m, in \u001B[0;36mLikelihoodModel.__init__\u001B[1;34m(self, endog, exog, **kwargs)\u001B[0m\n\u001B[0;32m    269\u001B[0m \u001B[38;5;28;01mdef\u001B[39;00m \u001B[38;5;21m__init__\u001B[39m(\u001B[38;5;28mself\u001B[39m, endog, exog\u001B[38;5;241m=\u001B[39m\u001B[38;5;28;01mNone\u001B[39;00m, \u001B[38;5;241m*\u001B[39m\u001B[38;5;241m*\u001B[39mkwargs):\n\u001B[1;32m--> 270\u001B[0m     \u001B[38;5;28;43msuper\u001B[39;49m\u001B[43m(\u001B[49m\u001B[43m)\u001B[49m\u001B[38;5;241;43m.\u001B[39;49m\u001B[38;5;21;43m__init__\u001B[39;49m\u001B[43m(\u001B[49m\u001B[43mendog\u001B[49m\u001B[43m,\u001B[49m\u001B[43m \u001B[49m\u001B[43mexog\u001B[49m\u001B[43m,\u001B[49m\u001B[43m \u001B[49m\u001B[38;5;241;43m*\u001B[39;49m\u001B[38;5;241;43m*\u001B[39;49m\u001B[43mkwargs\u001B[49m\u001B[43m)\u001B[49m\n\u001B[0;32m    271\u001B[0m     \u001B[38;5;28mself\u001B[39m\u001B[38;5;241m.\u001B[39minitialize()\n",
      "File \u001B[1;32m~\\Desktop\\Bachelorarbeit_Info\\Code\\splineRegressionExperiments\\venv\\Lib\\site-packages\\statsmodels\\base\\model.py:95\u001B[0m, in \u001B[0;36mModel.__init__\u001B[1;34m(self, endog, exog, **kwargs)\u001B[0m\n\u001B[0;32m     93\u001B[0m missing \u001B[38;5;241m=\u001B[39m kwargs\u001B[38;5;241m.\u001B[39mpop(\u001B[38;5;124m'\u001B[39m\u001B[38;5;124mmissing\u001B[39m\u001B[38;5;124m'\u001B[39m, \u001B[38;5;124m'\u001B[39m\u001B[38;5;124mnone\u001B[39m\u001B[38;5;124m'\u001B[39m)\n\u001B[0;32m     94\u001B[0m hasconst \u001B[38;5;241m=\u001B[39m kwargs\u001B[38;5;241m.\u001B[39mpop(\u001B[38;5;124m'\u001B[39m\u001B[38;5;124mhasconst\u001B[39m\u001B[38;5;124m'\u001B[39m, \u001B[38;5;28;01mNone\u001B[39;00m)\n\u001B[1;32m---> 95\u001B[0m \u001B[38;5;28mself\u001B[39m\u001B[38;5;241m.\u001B[39mdata \u001B[38;5;241m=\u001B[39m \u001B[38;5;28;43mself\u001B[39;49m\u001B[38;5;241;43m.\u001B[39;49m\u001B[43m_handle_data\u001B[49m\u001B[43m(\u001B[49m\u001B[43mendog\u001B[49m\u001B[43m,\u001B[49m\u001B[43m \u001B[49m\u001B[43mexog\u001B[49m\u001B[43m,\u001B[49m\u001B[43m \u001B[49m\u001B[43mmissing\u001B[49m\u001B[43m,\u001B[49m\u001B[43m \u001B[49m\u001B[43mhasconst\u001B[49m\u001B[43m,\u001B[49m\n\u001B[0;32m     96\u001B[0m \u001B[43m                              \u001B[49m\u001B[38;5;241;43m*\u001B[39;49m\u001B[38;5;241;43m*\u001B[39;49m\u001B[43mkwargs\u001B[49m\u001B[43m)\u001B[49m\n\u001B[0;32m     97\u001B[0m \u001B[38;5;28mself\u001B[39m\u001B[38;5;241m.\u001B[39mk_constant \u001B[38;5;241m=\u001B[39m \u001B[38;5;28mself\u001B[39m\u001B[38;5;241m.\u001B[39mdata\u001B[38;5;241m.\u001B[39mk_constant\n\u001B[0;32m     98\u001B[0m \u001B[38;5;28mself\u001B[39m\u001B[38;5;241m.\u001B[39mexog \u001B[38;5;241m=\u001B[39m \u001B[38;5;28mself\u001B[39m\u001B[38;5;241m.\u001B[39mdata\u001B[38;5;241m.\u001B[39mexog\n",
      "File \u001B[1;32m~\\Desktop\\Bachelorarbeit_Info\\Code\\splineRegressionExperiments\\venv\\Lib\\site-packages\\statsmodels\\base\\model.py:135\u001B[0m, in \u001B[0;36mModel._handle_data\u001B[1;34m(self, endog, exog, missing, hasconst, **kwargs)\u001B[0m\n\u001B[0;32m    134\u001B[0m \u001B[38;5;28;01mdef\u001B[39;00m \u001B[38;5;21m_handle_data\u001B[39m(\u001B[38;5;28mself\u001B[39m, endog, exog, missing, hasconst, \u001B[38;5;241m*\u001B[39m\u001B[38;5;241m*\u001B[39mkwargs):\n\u001B[1;32m--> 135\u001B[0m     data \u001B[38;5;241m=\u001B[39m \u001B[43mhandle_data\u001B[49m\u001B[43m(\u001B[49m\u001B[43mendog\u001B[49m\u001B[43m,\u001B[49m\u001B[43m \u001B[49m\u001B[43mexog\u001B[49m\u001B[43m,\u001B[49m\u001B[43m \u001B[49m\u001B[43mmissing\u001B[49m\u001B[43m,\u001B[49m\u001B[43m \u001B[49m\u001B[43mhasconst\u001B[49m\u001B[43m,\u001B[49m\u001B[43m \u001B[49m\u001B[38;5;241;43m*\u001B[39;49m\u001B[38;5;241;43m*\u001B[39;49m\u001B[43mkwargs\u001B[49m\u001B[43m)\u001B[49m\n\u001B[0;32m    136\u001B[0m     \u001B[38;5;66;03m# kwargs arrays could have changed, easier to just attach here\u001B[39;00m\n\u001B[0;32m    137\u001B[0m     \u001B[38;5;28;01mfor\u001B[39;00m key \u001B[38;5;129;01min\u001B[39;00m kwargs:\n",
      "File \u001B[1;32m~\\Desktop\\Bachelorarbeit_Info\\Code\\splineRegressionExperiments\\venv\\Lib\\site-packages\\statsmodels\\base\\data.py:675\u001B[0m, in \u001B[0;36mhandle_data\u001B[1;34m(endog, exog, missing, hasconst, **kwargs)\u001B[0m\n\u001B[0;32m    672\u001B[0m     exog \u001B[38;5;241m=\u001B[39m np\u001B[38;5;241m.\u001B[39masarray(exog)\n\u001B[0;32m    674\u001B[0m klass \u001B[38;5;241m=\u001B[39m handle_data_class_factory(endog, exog)\n\u001B[1;32m--> 675\u001B[0m \u001B[38;5;28;01mreturn\u001B[39;00m \u001B[43mklass\u001B[49m\u001B[43m(\u001B[49m\u001B[43mendog\u001B[49m\u001B[43m,\u001B[49m\u001B[43m \u001B[49m\u001B[43mexog\u001B[49m\u001B[38;5;241;43m=\u001B[39;49m\u001B[43mexog\u001B[49m\u001B[43m,\u001B[49m\u001B[43m \u001B[49m\u001B[43mmissing\u001B[49m\u001B[38;5;241;43m=\u001B[39;49m\u001B[43mmissing\u001B[49m\u001B[43m,\u001B[49m\u001B[43m \u001B[49m\u001B[43mhasconst\u001B[49m\u001B[38;5;241;43m=\u001B[39;49m\u001B[43mhasconst\u001B[49m\u001B[43m,\u001B[49m\n\u001B[0;32m    676\u001B[0m \u001B[43m             \u001B[49m\u001B[38;5;241;43m*\u001B[39;49m\u001B[38;5;241;43m*\u001B[39;49m\u001B[43mkwargs\u001B[49m\u001B[43m)\u001B[49m\n",
      "File \u001B[1;32m~\\Desktop\\Bachelorarbeit_Info\\Code\\splineRegressionExperiments\\venv\\Lib\\site-packages\\statsmodels\\base\\data.py:88\u001B[0m, in \u001B[0;36mModelData.__init__\u001B[1;34m(self, endog, exog, missing, hasconst, **kwargs)\u001B[0m\n\u001B[0;32m     86\u001B[0m \u001B[38;5;28mself\u001B[39m\u001B[38;5;241m.\u001B[39mconst_idx \u001B[38;5;241m=\u001B[39m \u001B[38;5;28;01mNone\u001B[39;00m\n\u001B[0;32m     87\u001B[0m \u001B[38;5;28mself\u001B[39m\u001B[38;5;241m.\u001B[39mk_constant \u001B[38;5;241m=\u001B[39m \u001B[38;5;241m0\u001B[39m\n\u001B[1;32m---> 88\u001B[0m \u001B[38;5;28;43mself\u001B[39;49m\u001B[38;5;241;43m.\u001B[39;49m\u001B[43m_handle_constant\u001B[49m\u001B[43m(\u001B[49m\u001B[43mhasconst\u001B[49m\u001B[43m)\u001B[49m\n\u001B[0;32m     89\u001B[0m \u001B[38;5;28mself\u001B[39m\u001B[38;5;241m.\u001B[39m_check_integrity()\n\u001B[0;32m     90\u001B[0m \u001B[38;5;28mself\u001B[39m\u001B[38;5;241m.\u001B[39m_cache \u001B[38;5;241m=\u001B[39m {}\n",
      "File \u001B[1;32m~\\Desktop\\Bachelorarbeit_Info\\Code\\splineRegressionExperiments\\venv\\Lib\\site-packages\\statsmodels\\base\\data.py:132\u001B[0m, in \u001B[0;36mModelData._handle_constant\u001B[1;34m(self, hasconst)\u001B[0m\n\u001B[0;32m    129\u001B[0m \u001B[38;5;28;01melse\u001B[39;00m:\n\u001B[0;32m    130\u001B[0m     \u001B[38;5;66;03m# detect where the constant is\u001B[39;00m\n\u001B[0;32m    131\u001B[0m     check_implicit \u001B[38;5;241m=\u001B[39m \u001B[38;5;28;01mFalse\u001B[39;00m\n\u001B[1;32m--> 132\u001B[0m     exog_max \u001B[38;5;241m=\u001B[39m \u001B[43mnp\u001B[49m\u001B[38;5;241;43m.\u001B[39;49m\u001B[43mmax\u001B[49m\u001B[43m(\u001B[49m\u001B[38;5;28;43mself\u001B[39;49m\u001B[38;5;241;43m.\u001B[39;49m\u001B[43mexog\u001B[49m\u001B[43m,\u001B[49m\u001B[43m \u001B[49m\u001B[43maxis\u001B[49m\u001B[38;5;241;43m=\u001B[39;49m\u001B[38;5;241;43m0\u001B[39;49m\u001B[43m)\u001B[49m\n\u001B[0;32m    133\u001B[0m     \u001B[38;5;28;01mif\u001B[39;00m \u001B[38;5;129;01mnot\u001B[39;00m np\u001B[38;5;241m.\u001B[39misfinite(exog_max)\u001B[38;5;241m.\u001B[39mall():\n\u001B[0;32m    134\u001B[0m         \u001B[38;5;28;01mraise\u001B[39;00m MissingDataError(\u001B[38;5;124m'\u001B[39m\u001B[38;5;124mexog contains inf or nans\u001B[39m\u001B[38;5;124m'\u001B[39m)\n",
      "File \u001B[1;32m~\\Desktop\\Bachelorarbeit_Info\\Code\\splineRegressionExperiments\\venv\\Lib\\site-packages\\numpy\\core\\fromnumeric.py:2810\u001B[0m, in \u001B[0;36mmax\u001B[1;34m(a, axis, out, keepdims, initial, where)\u001B[0m\n\u001B[0;32m   2692\u001B[0m \u001B[38;5;129m@array_function_dispatch\u001B[39m(_max_dispatcher)\n\u001B[0;32m   2693\u001B[0m \u001B[38;5;129m@set_module\u001B[39m(\u001B[38;5;124m'\u001B[39m\u001B[38;5;124mnumpy\u001B[39m\u001B[38;5;124m'\u001B[39m)\n\u001B[0;32m   2694\u001B[0m \u001B[38;5;28;01mdef\u001B[39;00m \u001B[38;5;21mmax\u001B[39m(a, axis\u001B[38;5;241m=\u001B[39m\u001B[38;5;28;01mNone\u001B[39;00m, out\u001B[38;5;241m=\u001B[39m\u001B[38;5;28;01mNone\u001B[39;00m, keepdims\u001B[38;5;241m=\u001B[39mnp\u001B[38;5;241m.\u001B[39m_NoValue, initial\u001B[38;5;241m=\u001B[39mnp\u001B[38;5;241m.\u001B[39m_NoValue,\n\u001B[0;32m   2695\u001B[0m          where\u001B[38;5;241m=\u001B[39mnp\u001B[38;5;241m.\u001B[39m_NoValue):\n\u001B[0;32m   2696\u001B[0m \u001B[38;5;250m    \u001B[39m\u001B[38;5;124;03m\"\"\"\u001B[39;00m\n\u001B[0;32m   2697\u001B[0m \u001B[38;5;124;03m    Return the maximum of an array or maximum along an axis.\u001B[39;00m\n\u001B[0;32m   2698\u001B[0m \n\u001B[1;32m   (...)\u001B[0m\n\u001B[0;32m   2808\u001B[0m \u001B[38;5;124;03m    5\u001B[39;00m\n\u001B[0;32m   2809\u001B[0m \u001B[38;5;124;03m    \"\"\"\u001B[39;00m\n\u001B[1;32m-> 2810\u001B[0m     \u001B[38;5;28;01mreturn\u001B[39;00m \u001B[43m_wrapreduction\u001B[49m\u001B[43m(\u001B[49m\u001B[43ma\u001B[49m\u001B[43m,\u001B[49m\u001B[43m \u001B[49m\u001B[43mnp\u001B[49m\u001B[38;5;241;43m.\u001B[39;49m\u001B[43mmaximum\u001B[49m\u001B[43m,\u001B[49m\u001B[43m \u001B[49m\u001B[38;5;124;43m'\u001B[39;49m\u001B[38;5;124;43mmax\u001B[39;49m\u001B[38;5;124;43m'\u001B[39;49m\u001B[43m,\u001B[49m\u001B[43m \u001B[49m\u001B[43maxis\u001B[49m\u001B[43m,\u001B[49m\u001B[43m \u001B[49m\u001B[38;5;28;43;01mNone\u001B[39;49;00m\u001B[43m,\u001B[49m\u001B[43m \u001B[49m\u001B[43mout\u001B[49m\u001B[43m,\u001B[49m\n\u001B[0;32m   2811\u001B[0m \u001B[43m                          \u001B[49m\u001B[43mkeepdims\u001B[49m\u001B[38;5;241;43m=\u001B[39;49m\u001B[43mkeepdims\u001B[49m\u001B[43m,\u001B[49m\u001B[43m \u001B[49m\u001B[43minitial\u001B[49m\u001B[38;5;241;43m=\u001B[39;49m\u001B[43minitial\u001B[49m\u001B[43m,\u001B[49m\u001B[43m \u001B[49m\u001B[43mwhere\u001B[49m\u001B[38;5;241;43m=\u001B[39;49m\u001B[43mwhere\u001B[49m\u001B[43m)\u001B[49m\n",
      "File \u001B[1;32m~\\Desktop\\Bachelorarbeit_Info\\Code\\splineRegressionExperiments\\venv\\Lib\\site-packages\\numpy\\core\\fromnumeric.py:88\u001B[0m, in \u001B[0;36m_wrapreduction\u001B[1;34m(obj, ufunc, method, axis, dtype, out, **kwargs)\u001B[0m\n\u001B[0;32m     85\u001B[0m         \u001B[38;5;28;01melse\u001B[39;00m:\n\u001B[0;32m     86\u001B[0m             \u001B[38;5;28;01mreturn\u001B[39;00m reduction(axis\u001B[38;5;241m=\u001B[39maxis, out\u001B[38;5;241m=\u001B[39mout, \u001B[38;5;241m*\u001B[39m\u001B[38;5;241m*\u001B[39mpasskwargs)\n\u001B[1;32m---> 88\u001B[0m \u001B[38;5;28;01mreturn\u001B[39;00m \u001B[43mufunc\u001B[49m\u001B[38;5;241;43m.\u001B[39;49m\u001B[43mreduce\u001B[49m\u001B[43m(\u001B[49m\u001B[43mobj\u001B[49m\u001B[43m,\u001B[49m\u001B[43m \u001B[49m\u001B[43maxis\u001B[49m\u001B[43m,\u001B[49m\u001B[43m \u001B[49m\u001B[43mdtype\u001B[49m\u001B[43m,\u001B[49m\u001B[43m \u001B[49m\u001B[43mout\u001B[49m\u001B[43m,\u001B[49m\u001B[43m \u001B[49m\u001B[38;5;241;43m*\u001B[39;49m\u001B[38;5;241;43m*\u001B[39;49m\u001B[43mpasskwargs\u001B[49m\u001B[43m)\u001B[49m\n",
      "\u001B[1;31mValueError\u001B[0m: zero-size array to reduction operation maximum which has no identity"
     ]
    }
   ],
   "source": [
    "import pandas as pd\n",
    "import statsmodels.api as sm\n",
    "\n",
    "# Load your dataframe\n",
    "# Assuming your dataframe is named 'df'\n",
    "\n",
    "# Convert 'mean_diff' column to numeric (if not already)\n",
    "e2['mean_diff'] = pd.to_numeric(e2['mean_diff'], errors='coerce')\n",
    "\n",
    "# Drop rows with NaN values in 'mean_diff' column\n",
    "df = e2.dropna(subset=['mean_diff'])\n",
    "\n",
    "# Filter relevant columns\n",
    "data = df[['mean_diff', 'max_dist', 'num_outliers_removed', 'method']]\n",
    "\n",
    "# Create dummy variables for the 'method' column\n",
    "data = pd.get_dummies(data, columns=['method'], drop_first=True)\n",
    "\n",
    "# Separate data for num_outliers > 0 and num_outliers == 0\n",
    "data_with_outliers = data[data['num_outliers_removed'] > 0]\n",
    "data_without_outliers = data[data['num_outliers_removed'] == 0]\n",
    "\n",
    "# Separate independent (X) and dependent (y) variables for each case\n",
    "X_with_outliers = data_with_outliers.drop(columns=['max_dist', 'num_outliers_removed'])\n",
    "y_with_outliers = data_with_outliers['max_dist']\n",
    "\n",
    "X_without_outliers = data_without_outliers.drop(columns=['max_dist', 'num_outliers_removed'])\n",
    "y_without_outliers = data_without_outliers['max_dist']\n",
    "\n",
    "# Add constant for intercept term\n",
    "X_with_outliers = sm.add_constant(X_with_outliers)\n",
    "X_without_outliers = sm.add_constant(X_without_outliers)\n",
    "\n",
    "# Fit the regression model for each case\n",
    "model_with_outliers = sm.OLS(y_with_outliers, X_with_outliers.astype(float)).fit()\n",
    "model_without_outliers = sm.OLS(y_without_outliers, X_without_outliers.astype(float)).fit()\n",
    "\n",
    "# Print results\n",
    "print(\"Results for num_outliers > 0:\")\n",
    "print(model_with_outliers.summary())\n",
    "\n",
    "print(\"\\nResults for num_outliers == 0:\")\n",
    "print(model_without_outliers.summary())\n"
   ],
   "metadata": {
    "collapsed": false,
    "ExecuteTime": {
     "end_time": "2024-02-11T12:17:10.776032100Z",
     "start_time": "2024-02-11T12:17:10.593021800Z"
    }
   },
   "id": "d118887924b72a72"
  },
  {
   "cell_type": "code",
   "execution_count": null,
   "outputs": [],
   "source": [
    "import matplotlib.pyplot as plt\n",
    "\n",
    "# Plot mean values\n",
    "plt.figure(figsize=(10, 6))\n",
    "\n",
    "plt.bar(mean_values['method'], mean_values['max_dist'], color='b', label='Mean Max Dist')\n",
    "plt.bar(mean_values['method'], mean_values['MAE'], color='g', label='Mean MAE')\n",
    "plt.bar(mean_values['method'], mean_values['MSE'], color='r', label='Mean MSE')\n",
    "plt.xlabel('Method')\n",
    "plt.ylabel('Mean Value')\n",
    "plt.title('Mean max. distance, MSE, and MAE per method')\n",
    "plt.legend()\n",
    "plt.xticks(rotation=45)\n",
    "plt.tight_layout()\n",
    "plt.show()\n"
   ],
   "metadata": {
    "collapsed": false,
    "ExecuteTime": {
     "start_time": "2024-02-11T12:17:10.671032900Z"
    }
   },
   "id": "d780c5fb6103d92e"
  }
 ],
 "metadata": {
  "kernelspec": {
   "display_name": "Python 3",
   "language": "python",
   "name": "python3"
  },
  "language_info": {
   "codemirror_mode": {
    "name": "ipython",
    "version": 2
   },
   "file_extension": ".py",
   "mimetype": "text/x-python",
   "name": "python",
   "nbconvert_exporter": "python",
   "pygments_lexer": "ipython2",
   "version": "2.7.6"
  }
 },
 "nbformat": 4,
 "nbformat_minor": 5
}
