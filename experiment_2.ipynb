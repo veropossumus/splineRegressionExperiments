{
 "cells": [
  {
   "cell_type": "code",
   "execution_count": null,
   "outputs": [],
   "source": [
    "# load data\n",
    "from data_utils import load_ucr_archive, load_ucr_dataset\n",
    "\n",
    "data = load_ucr_archive()\n",
    "#data.drop(data[data[\"dataset\"] == \"ACSF1\"].index, inplace=True)\n",
    "\n",
    "#data = load_ucr_dataset(48)\n",
    "#data.head()"
   ],
   "metadata": {
    "collapsed": false
   },
   "id": "b403b1af09c12409"
  },
  {
   "cell_type": "code",
   "execution_count": null,
   "outputs": [],
   "source": [
    "from spline_utils import calculate_max_dist\n",
    "\n",
    "\n",
    "def calculate_error_measures_splines(knots, coeffs, degree, time_series):\n",
    "    x_values = [x[0] for x in time_series]\n",
    "    y_values = [x[1] for x in time_series]\n",
    "    fitted_spline = [evaluate_spline(knots, result, degree, x) for x in x_values]\n",
    "    max_dist = calculate_max_dist(knots, coeffs, degree, time_series)\n",
    "    mse = mean_squared_error(fitted_spline, y_values)\n",
    "    mae = mean_absolute_error(fitted_spline, y_values)\n",
    "    return [max_dist, mse, mae]\n"
   ],
   "metadata": {
    "collapsed": false
   },
   "id": "221f3ef7a9ba10e1"
  },
  {
   "cell_type": "code",
   "execution_count": null,
   "outputs": [],
   "source": [
    "from fit import fit_PAA, fit_DFT\n",
    "\n",
    "\n",
    "def calculate_compression_methods(time_series, knots, degree):\n",
    "    least_squares = scipy.interpolate.make_lsq_spline([x[0] for x in time_series], [x[1] for x in time_series], knots,\n",
    "                                                      k=degree).c\n",
    "    max_dist, l_8 = fit_max_spline(time_series, knots, degree)\n",
    "    l_1 = fit_max_l1_spline(time_series, knots, degree, max_dist)\n",
    "\n",
    "    # competitors\n",
    "    num_coeffs = len(knots) - degree - 1\n",
    "    paa = fit_PAA(time_series, num_coeffs)\n",
    "    dft = fit_DFT(time_series, num_coeffs)\n"
   ],
   "metadata": {
    "collapsed": false
   },
   "id": "30699160873e74a3"
  },
  {
   "cell_type": "code",
   "execution_count": null,
   "outputs": [],
   "source": [
    "def compare_compression_methods(coeffs, methods):\n",
    "    \n",
    "    assert(len(coeffs) == len(fitting_methods))\n",
    "    \n",
    "    # TODO aufräumen\n",
    "    result = []\n",
    "    for i, coeff in enumerate(coeffs):\n",
    "        next_row = [row['dataset'], row['no.'], len(time_series), num_outliers, fitting_methods[i]]\n",
    "        next_row.extend(calculate_error_measures_splines(knots, coeff, degree, time_series))\n",
    "\n",
    "    "
   ],
   "metadata": {
    "collapsed": false
   },
   "id": "af4fdd541bdecc80"
  },
  {
   "cell_type": "code",
   "execution_count": null,
   "outputs": [],
   "source": [
    "%%time\n",
    "from data_utils import remove_outliers\n",
    "import scipy\n",
    "from spline_utils import generate_knot_vector_from_coeff_count, generate_coeff_counts\n",
    "from fit import fit_max_spline, fit_max_l1_spline\n",
    "from sklearn.metrics import mean_squared_error, mean_absolute_error\n",
    "from spline_utils import evaluate_spline\n",
    "import pandas as pd\n",
    "\n",
    "results = []\n",
    "num_outliers = 0\n",
    "fitting_methods = [r'$L_2$', r'$L_{\\infty}$', r'$L_{\\infty}$ and $L_1$', 'PAA', 'SAX', 'DFT']\n",
    "fst_diff = snd_diff = []\n",
    "for index, row in data.iterrows():\n",
    "    time_series = row['data']\n",
    "    print(row['dataset'], \"no.\", row['no.'])\n",
    "\n",
    "    # generate the number of knots according to the specified compression rate\n",
    "    num_knots = generate_coeff_counts(len(time_series), degree, [compression_ratio])[0]\n",
    "    knots = generate_knot_vector_from_coeff_count(num_knots, degree)\n",
    "\n",
    "    ts_lof = remove_outliers(time_series)\n",
    "    # calculate results for each fitting method\n",
    "    num_outliers = 0\n",
    "\n",
    "    results = []\n",
    "    # LSQ\n",
    "    results.append(\n",
    "        scipy.interpolate.make_lsq_spline([x[0] for x in time_series], [x[1] for x in time_series], knots, k=degree).c)\n",
    "    max_dist, result_max = fit_max_spline(time_series, knots, degree)\n",
    "    \n",
    "    # L8\n",
    "    results.append(result_max)\n",
    "    \n",
    "    # L8-L1\n",
    "    results.append(fit_max_l1_spline(time_series, knots, degree, max_dist))\n",
    "    \n",
    "    # PAA\n",
    "    \n",
    "    \n",
    "    # SAX\n",
    "    \n",
    "    # DFT\n",
    "    \n",
    "    assert(len(results) == len(fitting_methods))\n",
    "    \n",
    "    for i, result in enumerate(results):\n",
    "        next_row = [row['dataset'], row['no.'], len(time_series), num_outliers, fitting_methods[i]]\n",
    "        next_row.extend(calculate_error_measures_splines(knots, result, degree, time_series))\n",
    "        results.append(next_row)\n",
    "        "
   ],
   "metadata": {
    "collapsed": false
   },
   "id": "7f31f9acf7505c2a"
  },
  {
   "cell_type": "code",
   "execution_count": null,
   "outputs": [],
   "source": [
    "df = pd.DataFrame(results,\n",
    "                  columns=['dataset_name', 'ts_number','num_data_pts', 'num_outliers', 'fitting_method', 'max_dist', 'MSE', 'MAE'])#, 'fst_diff', 'snd_diff'])\n",
    "df"
   ],
   "metadata": {
    "collapsed": false
   },
   "id": "62b78d7806ded943"
  }
 ],
 "metadata": {
  "kernelspec": {
   "display_name": "Python 3",
   "language": "python",
   "name": "python3"
  },
  "language_info": {
   "codemirror_mode": {
    "name": "ipython",
    "version": 2
   },
   "file_extension": ".py",
   "mimetype": "text/x-python",
   "name": "python",
   "nbconvert_exporter": "python",
   "pygments_lexer": "ipython2",
   "version": "2.7.6"
  }
 },
 "nbformat": 4,
 "nbformat_minor": 5
}
