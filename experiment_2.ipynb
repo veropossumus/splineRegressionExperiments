{
 "cells": [
  {
   "cell_type": "code",
   "execution_count": null,
   "outputs": [],
   "source": [
    "# results obtained from E1\n",
    "degree = 3\n",
    "compression_rate = 0.3"
   ],
   "metadata": {
    "collapsed": false
   },
   "id": "initial_id"
  },
  {
   "cell_type": "code",
   "execution_count": null,
   "outputs": [],
   "source": [
    "from utils.data import load_ucr_data_short, load_ucr_dataset\n",
    "\n",
    "# load data\n",
    "#data = load_ucr_data_short()\n",
    "data = load_ucr_dataset(74)\n",
    "print(\"number of time series:\", len(data.index))"
   ],
   "metadata": {
    "collapsed": false
   },
   "id": "304d41c1e8652c6f"
  },
  {
   "cell_type": "code",
   "execution_count": null,
   "outputs": [],
   "source": [
    "import numpy as np\n",
    "import scipy.interpolate\n",
    "from sklearn.metrics import mean_squared_error, mean_absolute_error\n",
    "from utils.plot import plot_inverse_DFT, plot_splines\n",
    "from utils.data import remove_outliers\n",
    "from utils.spline import generate_coeff_counts, generate_knot_vector_from_coeff_count, calculate_max_dist\n",
    "from utils.fit import fit_max_spline, fit_max_l1_spline, fit_PAA, fit_DFT, calculate_inverse_DFT\n",
    "from sklearn.metrics import mean_squared_error, mean_absolute_error\n",
    "from utils.spline import evaluate_spline\n",
    "import pandas as pd\n",
    "import scipy\n",
    "import numpy as np\n",
    "import matplotlib.pyplot as plt\n",
    "\n",
    "results = []\n",
    "total_rows = len(data.index)\n",
    "for idx, (_, row) in enumerate(data.iterrows(), 1):\n",
    "    ts_with_outliers = row['data']\n",
    "    ts_without_outliers = remove_outliers(ts_with_outliers)\n",
    "    ts = [(0, ts_with_outliers), (len(ts_with_outliers) - len(ts_without_outliers), ts_without_outliers)]\n",
    "\n",
    "    print(f\"{row['dataset']} no. {row['num']}, {round(idx / total_rows * 100, 1)}% processed\")\n",
    "\n",
    "    for num_outliers_removed, time_series in ts:\n",
    "        num_coeffs = generate_coeff_counts(len(time_series), degree, compression_ratios=[compression_rate])[0]\n",
    "        knots = generate_knot_vector_from_coeff_count(degree=degree, num_coeffs=num_coeffs)\n",
    "\n",
    "        for method, degree in [('L8', degree), ('L8 and L1', degree), ('LSQ', degree), ('PAA', 0), ('PLA', 1)]:\n",
    "            max_dist = None\n",
    "            result = None\n",
    "\n",
    "            if method == 'LSQ':\n",
    "                try:\n",
    "                    result = scipy.interpolate.make_lsq_spline([x[0] for x in time_series], [x[1] for x in time_series],\n",
    "                                                               knots, k=degree).c\n",
    "                    max_dist = calculate_max_dist(knots, result, degree, time_series)\n",
    "                except Exception as e:\n",
    "                    #print(f\"LSQ problem: {e}\")\n",
    "                    print(\"LSQ problem\")\n",
    "                    continue\n",
    "\n",
    "            if method == 'L8 and L1':\n",
    "                result = fit_max_l1_spline(time_series, knots, degree, eps=0.000001)[1]\n",
    "                max_dist = calculate_max_dist(knots, result, degree, time_series)[0]\n",
    "            else:\n",
    "                max_dist, result = fit_max_spline(time_series, knots, degree)\n",
    "\n",
    "            if max_dist is not None and result is not None:\n",
    "                fitted_spline = [evaluate_spline(knots, result, degree, x[0]) for x in time_series]\n",
    "                mse = mean_squared_error(fitted_spline, [x[1] for x in time_series])\n",
    "                mae = mean_absolute_error(fitted_spline, [x[1] for x in time_series])\n",
    "                if method == 'L8 and L1':\n",
    "                    max_dist = calculate_max_dist(knots, result, degree, time_series)[0]\n",
    "\n",
    "                results.append({\n",
    "                    'dataset': row['dataset'],\n",
    "                    'num': row['num'],\n",
    "                    'num_data_pts': len(time_series),\n",
    "                    'num_outliers_removed': num_outliers_removed,\n",
    "                    'num_coeffs': num_coeffs,\n",
    "                    'method': method,\n",
    "                    'max_dist': max_dist,\n",
    "                    'MSE': mse,\n",
    "                    'MAE': mae\n",
    "                })\n",
    "            \n",
    "        plot_splines(axis=plt, knots=knots, degree=degree,data=time_series, plot_PAA=False, plot_PLA=False)\n",
    "\n",
    "        # DFT\n",
    "        result = fit_DFT(time_series, num_coeffs)\n",
    "        fitted_curve = calculate_inverse_DFT(len(time_series), num_coeffs, result)\n",
    "        max_dist = np.max(np.abs(fitted_curve - [x[1] for x in time_series]))\n",
    "        mse = mean_squared_error(fitted_curve, [x[1] for x in time_series])\n",
    "        mae = mean_absolute_error(fitted_curve, [x[1] for x in time_series])\n",
    "\n",
    "        #plot_inverse_DFT(fitted_curve, time_series, num_coeffs)\n",
    "\n",
    "        results.append({\n",
    "            'dataset': row['dataset'],\n",
    "            'num': row['num'],\n",
    "            'num_data_pts': len(time_series),\n",
    "            'num_outliers_removed': num_outliers_removed,\n",
    "            'num_coeffs': num_coeffs,\n",
    "            'method': 'DFT',\n",
    "            'max_dist': max_dist,\n",
    "            'MSE': mse,\n",
    "            'MAE': mae\n",
    "        })\n"
   ],
   "metadata": {
    "collapsed": false
   },
   "id": "de53525f8b43f40f"
  },
  {
   "cell_type": "code",
   "execution_count": null,
   "outputs": [],
   "source": [
    "e2_results = pd.DataFrame(results)\n",
    "mean_values = e2_results.groupby('method').agg({'max_dist': 'mean', 'MSE': 'mean', 'MAE': 'mean'}).reset_index()\n",
    "mean_values"
   ],
   "metadata": {
    "collapsed": false
   },
   "id": "ad342e14b902706f"
  },
  {
   "cell_type": "code",
   "execution_count": null,
   "outputs": [],
   "source": [
    "import pandas as pd\n",
    "\n",
    "df_no_outliers = e2_results[e2_results['num_outliers_removed'] == 0]\n",
    "\n",
    "df_with_outliers = e2_results[e2_results['num_outliers_removed'] > 0]\n",
    "\n",
    "mean_values_no_outliers = df_no_outliers.groupby('method').agg(\n",
    "    {'max_dist': 'mean', 'MSE': 'mean', 'MAE': 'mean'}).reset_index()\n",
    "mean_values_no_outliers.rename(columns={'max_dist': 'max_dist w/o o.', 'MSE': 'MSE w/o o.', 'MAE': 'MAE w/o o.'},\n",
    "                               inplace=True)\n",
    "\n",
    "mean_values_with_outliers = df_with_outliers.groupby('method').agg(\n",
    "    {'max_dist': 'mean', 'MSE': 'mean', 'MAE': 'mean'}).reset_index()\n",
    "mean_values_with_outliers.rename(columns={'max_dist': 'max_dist', 'MSE': 'MSE', 'MAE': 'MAE'}, inplace=True)\n",
    "\n",
    "mean_values_combined = pd.merge(mean_values_with_outliers, mean_values_no_outliers, on='method', how='outer')\n",
    "\n",
    "mean_values_combined\n"
   ],
   "metadata": {
    "collapsed": false
   },
   "id": "dd03082c7b9b0f3e"
  },
  {
   "cell_type": "code",
   "execution_count": null,
   "outputs": [],
   "source": [
    "import matplotlib.pyplot as plt\n",
    "\n",
    "# Plot mean values\n",
    "plt.figure(figsize=(10, 6))\n",
    "plt.bar(mean_values['method'], mean_values['max_dist'], color='b', alpha=0.7, label='Mean Max Dist')\n",
    "plt.bar(mean_values['method'], mean_values['MSE'], color='r', alpha=0.5, label='Mean MSE')\n",
    "plt.bar(mean_values['method'], mean_values['MAE'], color='g', alpha=0.5, label='Mean MAE')\n",
    "plt.xlabel('Method')\n",
    "plt.ylabel('Mean Value')\n",
    "plt.title('Mean Max Dist, MSE, and MAE per Method')\n",
    "plt.legend()\n",
    "plt.xticks(rotation=45)\n",
    "plt.tight_layout()\n",
    "plt.show()\n"
   ],
   "metadata": {
    "collapsed": false
   },
   "id": "d780c5fb6103d92e"
  }
 ],
 "metadata": {
  "kernelspec": {
   "display_name": "Python 3",
   "language": "python",
   "name": "python3"
  },
  "language_info": {
   "codemirror_mode": {
    "name": "ipython",
    "version": 2
   },
   "file_extension": ".py",
   "mimetype": "text/x-python",
   "name": "python",
   "nbconvert_exporter": "python",
   "pygments_lexer": "ipython2",
   "version": "2.7.6"
  }
 },
 "nbformat": 4,
 "nbformat_minor": 5
}
