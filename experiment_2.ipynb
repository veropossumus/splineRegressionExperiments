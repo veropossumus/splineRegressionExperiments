{
 "cells": [
  {
   "cell_type": "code",
   "execution_count": 11,
   "outputs": [],
   "source": [
    "# results obtained from E1\n",
    "degree = 3\n",
    "compression_rate = 0.3\n",
    "eps = 1e-8"
   ],
   "metadata": {
    "collapsed": false,
    "ExecuteTime": {
     "end_time": "2024-02-17T14:23:15.011344200Z",
     "start_time": "2024-02-17T14:23:14.969893700Z"
    }
   },
   "id": "initial_id"
  },
  {
   "cell_type": "code",
   "execution_count": 12,
   "outputs": [
    {
     "name": "stdout",
     "output_type": "stream",
     "text": [
      "number of time series: 208\n",
      "CPU times: total: 31.2 ms\n",
      "Wall time: 36 ms\n"
     ]
    }
   ],
   "source": [
    "%%time\n",
    "from utils.data import load_ucr_dataset, load_ucr_data_short_and_medium, load_gbnc_data, load_ucr_data_short\n",
    "\n",
    "# load data\n",
    "#data = load_ucr_data_short_and_medium()\n",
    "data = load_ucr_dataset(48)\n",
    "#data = load_gbnc_data()\n",
    "print(\"number of time series:\", len(data.index))\n"
   ],
   "metadata": {
    "collapsed": false,
    "ExecuteTime": {
     "end_time": "2024-02-17T14:23:15.075862600Z",
     "start_time": "2024-02-17T14:23:14.973894200Z"
    }
   },
   "id": "304d41c1e8652c6f"
  },
  {
   "cell_type": "code",
   "execution_count": 13,
   "outputs": [
    {
     "data": {
      "text/plain": "           dataset  num                                               data\n0  GestureMidAirD3    0  [(0.0, 1.8941335194296216), (0.005586592178770...\n1  GestureMidAirD3    1  [(0.0, 0.6273033819062341), (0.011235955056179...\n2  GestureMidAirD3    2  [(0.0, -1.3427485259559178), (0.00840336134453...\n3  GestureMidAirD3    3  [(0.0, 1.4767404914524016), (0.004184100418410...\n4  GestureMidAirD3    4  [(0.0, 2.6582385116304583), (0.004219409282700...",
      "text/html": "<div>\n<style scoped>\n    .dataframe tbody tr th:only-of-type {\n        vertical-align: middle;\n    }\n\n    .dataframe tbody tr th {\n        vertical-align: top;\n    }\n\n    .dataframe thead th {\n        text-align: right;\n    }\n</style>\n<table border=\"1\" class=\"dataframe\">\n  <thead>\n    <tr style=\"text-align: right;\">\n      <th></th>\n      <th>dataset</th>\n      <th>num</th>\n      <th>data</th>\n    </tr>\n  </thead>\n  <tbody>\n    <tr>\n      <th>0</th>\n      <td>GestureMidAirD3</td>\n      <td>0</td>\n      <td>[(0.0, 1.8941335194296216), (0.005586592178770...</td>\n    </tr>\n    <tr>\n      <th>1</th>\n      <td>GestureMidAirD3</td>\n      <td>1</td>\n      <td>[(0.0, 0.6273033819062341), (0.011235955056179...</td>\n    </tr>\n    <tr>\n      <th>2</th>\n      <td>GestureMidAirD3</td>\n      <td>2</td>\n      <td>[(0.0, -1.3427485259559178), (0.00840336134453...</td>\n    </tr>\n    <tr>\n      <th>3</th>\n      <td>GestureMidAirD3</td>\n      <td>3</td>\n      <td>[(0.0, 1.4767404914524016), (0.004184100418410...</td>\n    </tr>\n    <tr>\n      <th>4</th>\n      <td>GestureMidAirD3</td>\n      <td>4</td>\n      <td>[(0.0, 2.6582385116304583), (0.004219409282700...</td>\n    </tr>\n  </tbody>\n</table>\n</div>"
     },
     "execution_count": 13,
     "metadata": {},
     "output_type": "execute_result"
    }
   ],
   "source": [
    "data.reset_index(drop=True,inplace=True)\n",
    "data.head()"
   ],
   "metadata": {
    "collapsed": false,
    "ExecuteTime": {
     "end_time": "2024-02-17T14:23:15.090040200Z",
     "start_time": "2024-02-17T14:23:15.013859900Z"
    }
   },
   "id": "c14b7ae8fd8b0968"
  },
  {
   "cell_type": "code",
   "execution_count": 14,
   "outputs": [],
   "source": [
    "def fit_curve_to_data(method: str, ts: [(float, float)], knots: [float], num_coeffs: int, degree=None):\n",
    "    fitted_curve = None\n",
    "    match method:\n",
    "        case 'PAA':\n",
    "            _, result = fit_max_spline(ts, knots, 0)\n",
    "            fitted_curve = [evaluate_spline(knots, result, 0, x[0]) for x in ts]\n",
    "\n",
    "        case 'PLA':\n",
    "            _, result = fit_max_spline(ts, knots, 1)\n",
    "            fitted_curve = [evaluate_spline(knots, result, 1, x[0]) for x in ts]\n",
    "\n",
    "        case 'L8':\n",
    "            if degree is None:\n",
    "                degree = 3\n",
    "\n",
    "            _, result = fit_max_spline(ts, knots, degree)\n",
    "            fitted_curve = [evaluate_spline(knots, result, degree, x[0]) for x in ts]\n",
    "\n",
    "        case 'L8 and L1':\n",
    "            if degree is None:\n",
    "                degree = 3\n",
    "\n",
    "            _, result = fit_max_l1_spline(ts, knots, degree, eps=eps)\n",
    "            fitted_curve = [evaluate_spline(knots, result, degree, x[0]) for x in ts]\n",
    "\n",
    "        case 'LSQ':\n",
    "            if degree is None:\n",
    "                degree = 3\n",
    "\n",
    "            result = fit_LSQ_spline(time_series=ts, knots=knots, degree=degree)\n",
    "            fitted_curve = [evaluate_spline(knots, result, degree, x[0]) for x in ts]\n",
    "\n",
    "        case 'DFT':\n",
    "            result = fit_DFT(ts, num_coeffs)\n",
    "            fitted_curve = calculate_inverse_DFT(len(ts), num_coeffs, result)\n",
    "\n",
    "    return fitted_curve"
   ],
   "metadata": {
    "collapsed": false,
    "ExecuteTime": {
     "end_time": "2024-02-17T14:23:15.090040200Z",
     "start_time": "2024-02-17T14:23:15.086041600Z"
    }
   },
   "id": "c99fba7d4ba08ca7"
  },
  {
   "cell_type": "code",
   "execution_count": 15,
   "outputs": [],
   "source": [
    "def calculate_error_measures(data_points: [float], fitted_curve: [float]):\n",
    "    assert len(data_points) == len(fitted_curve)\n",
    "\n",
    "    max_dist = np.max(np.abs(np.array(fitted_curve) - np.array(data_points)))\n",
    "    mse = mean_squared_error(fitted_curve, data_points)\n",
    "    mae = mean_absolute_error(fitted_curve, data_points)\n",
    "    \n",
    "\n",
    "    return {'max_dist': max_dist,\n",
    "            'MSE': mse,\n",
    "            'MAE': mae}"
   ],
   "metadata": {
    "collapsed": false,
    "ExecuteTime": {
     "end_time": "2024-02-17T14:23:15.121680600Z",
     "start_time": "2024-02-17T14:23:15.091040400Z"
    }
   },
   "id": "aa400f4a8e2a1777"
  },
  {
   "cell_type": "code",
   "execution_count": 16,
   "outputs": [
    {
     "data": {
      "text/plain": "\"from utils.plot import add_fitted_curve_to_plot\\n\\n\\ndef fit_spline(method: str, ts: [(float, float)], knots: [float], num_coeffs: int, degree=None, plot=False, axis=None):\\n    match method:\\n        case 'PAA':\\n            color = 'tab:gray'\\n            degree = 0\\n            _, result = fit_max_spline(ts, knots, degree)\\n            fitted_curve = [evaluate_spline(knots, result, degree, x[0]) for x in ts]\\n\\n        case 'PLA':\\n            color = 'tab:olive'\\n            degree = 1\\n            _, result = fit_max_spline(ts, knots, degree)\\n            fitted_curve = [evaluate_spline(knots, result, degree, x[0]) for x in ts]\\n\\n        case 'L8':\\n            color = 'tab:pink'\\n            if degree is None:\\n                degree = 3\\n\\n            _, result = fit_max_spline(ts, knots, degree)\\n            fitted_curve = [evaluate_spline(knots, result, degree, x[0]) for x in ts]\\n\\n        case 'L8 and L1':\\n            color = 'tab:blue'\\n            if degree is None:\\n                degree = 3\\n\\n            _, result = fit_max_l1_spline(ts, knots, degree, eps=eps)\\n            fitted_curve = [evaluate_spline(knots, result, degree, x[0]) for x in ts]\\n\\n        case 'LSQ':\\n            color = 'tab:purple'\\n            if degree is None:\\n                degree = 3\\n\\n            result = fit_LSQ_spline(time_series=ts, knots=knots, degree=degree)\\n            fitted_curve = [evaluate_spline(knots, result, degree, x[0]) for x in ts]\\n\\n        case 'DFT':\\n            color = 'tab:green'\\n            result = fit_DFT(ts, num_coeffs)\\n            fitted_curve = calculate_inverse_DFT(len(ts), num_coeffs, result)\\n\\n    max_dist = np.max(np.abs(np.array(fitted_curve) - np.array([x[1] for x in ts])))\\n    mse = mean_squared_error(fitted_curve, [x[1] for x in ts])\\n    mae = mean_absolute_error(fitted_curve, [x[1] for x in ts])\\n\\n    if plot:\\n        if axis is not None:\\n            add_fitted_curve_to_plot(axis, [x[0] for x in ts], fitted_curve, max_dist, color=color, label=method)\\n        else:\\n            add_fitted_curve_to_plot(plt, [x[0] for x in ts], fitted_curve, max_dist, color=color, label=method)\\n\\n    return {'max_dist': max_dist,\\n            'MSE': mse,\\n            'MAE': mae}\""
     },
     "execution_count": 16,
     "metadata": {},
     "output_type": "execute_result"
    }
   ],
   "source": [
    "\"\"\"from utils.plot import add_fitted_curve_to_plot\n",
    "\n",
    "\n",
    "def fit_spline(method: str, ts: [(float, float)], knots: [float], num_coeffs: int, degree=None, plot=False, axis=None):\n",
    "    match method:\n",
    "        case 'PAA':\n",
    "            color = 'tab:gray'\n",
    "            degree = 0\n",
    "            _, result = fit_max_spline(ts, knots, degree)\n",
    "            fitted_curve = [evaluate_spline(knots, result, degree, x[0]) for x in ts]\n",
    "\n",
    "        case 'PLA':\n",
    "            color = 'tab:olive'\n",
    "            degree = 1\n",
    "            _, result = fit_max_spline(ts, knots, degree)\n",
    "            fitted_curve = [evaluate_spline(knots, result, degree, x[0]) for x in ts]\n",
    "\n",
    "        case 'L8':\n",
    "            color = 'tab:pink'\n",
    "            if degree is None:\n",
    "                degree = 3\n",
    "\n",
    "            _, result = fit_max_spline(ts, knots, degree)\n",
    "            fitted_curve = [evaluate_spline(knots, result, degree, x[0]) for x in ts]\n",
    "\n",
    "        case 'L8 and L1':\n",
    "            color = 'tab:blue'\n",
    "            if degree is None:\n",
    "                degree = 3\n",
    "\n",
    "            _, result = fit_max_l1_spline(ts, knots, degree, eps=eps)\n",
    "            fitted_curve = [evaluate_spline(knots, result, degree, x[0]) for x in ts]\n",
    "\n",
    "        case 'LSQ':\n",
    "            color = 'tab:purple'\n",
    "            if degree is None:\n",
    "                degree = 3\n",
    "\n",
    "            result = fit_LSQ_spline(time_series=ts, knots=knots, degree=degree)\n",
    "            fitted_curve = [evaluate_spline(knots, result, degree, x[0]) for x in ts]\n",
    "\n",
    "        case 'DFT':\n",
    "            color = 'tab:green'\n",
    "            result = fit_DFT(ts, num_coeffs)\n",
    "            fitted_curve = calculate_inverse_DFT(len(ts), num_coeffs, result)\n",
    "\n",
    "    max_dist = np.max(np.abs(np.array(fitted_curve) - np.array([x[1] for x in ts])))\n",
    "    mse = mean_squared_error(fitted_curve, [x[1] for x in ts])\n",
    "    mae = mean_absolute_error(fitted_curve, [x[1] for x in ts])\n",
    "\n",
    "    if plot:\n",
    "        if axis is not None:\n",
    "            add_fitted_curve_to_plot(axis, [x[0] for x in ts], fitted_curve, max_dist, color=color, label=method)\n",
    "        else:\n",
    "            add_fitted_curve_to_plot(plt, [x[0] for x in ts], fitted_curve, max_dist, color=color, label=method)\n",
    "\n",
    "    return {'max_dist': max_dist,\n",
    "            'MSE': mse,\n",
    "            'MAE': mae}\"\"\"\n"
   ],
   "metadata": {
    "collapsed": false,
    "ExecuteTime": {
     "end_time": "2024-02-17T14:23:15.123679900Z",
     "start_time": "2024-02-17T14:23:15.096793900Z"
    }
   },
   "id": "e5646e0a6e3c8f29"
  },
  {
   "cell_type": "markdown",
   "source": [
    "# MIT AUSREISSERN, OHNE PLOTS"
   ],
   "metadata": {
    "collapsed": false
   },
   "id": "f93617fd7f843b1"
  },
  {
   "cell_type": "code",
   "execution_count": null,
   "outputs": [
    {
     "name": "stdout",
     "output_type": "stream",
     "text": [
      "num_rows 208\n",
      "0: GestureMidAirD3 no. 0, 0.0% processed\n",
      "1: GestureMidAirD3 no. 1, 0.48% processed\n",
      "2: GestureMidAirD3 no. 2, 0.96% processed\n",
      "3: GestureMidAirD3 no. 3, 1.44% processed\n",
      "4: GestureMidAirD3 no. 4, 1.92% processed\n",
      "5: GestureMidAirD3 no. 5, 2.4% processed\n",
      "6: GestureMidAirD3 no. 6, 2.88% processed\n",
      "7: GestureMidAirD3 no. 7, 3.37% processed\n",
      "8: GestureMidAirD3 no. 8, 3.85% processed\n",
      "9: GestureMidAirD3 no. 9, 4.33% processed\n",
      "10: GestureMidAirD3 no. 10, 4.81% processed\n",
      "11: GestureMidAirD3 no. 11, 5.29% processed\n",
      "12: GestureMidAirD3 no. 12, 5.77% processed\n",
      "13: GestureMidAirD3 no. 13, 6.25% processed\n",
      "14: GestureMidAirD3 no. 14, 6.73% processed\n",
      "15: GestureMidAirD3 no. 15, 7.21% processed\n",
      "16: GestureMidAirD3 no. 16, 7.69% processed\n",
      "17: GestureMidAirD3 no. 17, 8.17% processed\n",
      "18: GestureMidAirD3 no. 18, 8.65% processed\n",
      "19: GestureMidAirD3 no. 19, 9.13% processed\n",
      "20: GestureMidAirD3 no. 20, 9.62% processed\n",
      "21: GestureMidAirD3 no. 21, 10.1% processed\n",
      "22: GestureMidAirD3 no. 22, 10.58% processed\n",
      "23: GestureMidAirD3 no. 23, 11.06% processed\n",
      "24: GestureMidAirD3 no. 24, 11.54% processed\n"
     ]
    }
   ],
   "source": [
    "%%time\n",
    "import matplotlib.pyplot as plt\n",
    "from utils.plot import add_fitted_curve_to_plot\n",
    "from tsfel import mean_diff\n",
    "from utils.data import remove_outliers, replace_outliers\n",
    "from utils.spline import generate_coeff_counts, generate_knot_vector_from_coeff_count\n",
    "from utils.fit import fit_max_spline, fit_max_l1_spline, fit_DFT, calculate_inverse_DFT, fit_LSQ_spline\n",
    "from sklearn.metrics import mean_squared_error, mean_absolute_error\n",
    "from utils.spline import evaluate_spline\n",
    "import pandas as pd\n",
    "import numpy as np\n",
    "\n",
    "results = []\n",
    "num_rows = len(data.index)\n",
    "print(\"num_rows\", num_rows)\n",
    "ts_properties = []\n",
    "worse_without_outliers_counter = 0\n",
    "\n",
    "for idx, row in data.iterrows():\n",
    "    original_time_series = row['data']\n",
    "    time_series_without_outliers = remove_outliers(row['data'])\n",
    "    time_series_with_replaced_outliers = replace_outliers(ts_without_outliers=time_series_without_outliers,\n",
    "                                                          original_xs=[tup[0] for tup in original_time_series])\n",
    "\n",
    "    n_outliers = len(original_time_series) - len(time_series_without_outliers)\n",
    "\n",
    "    print(f\"{idx}: {row['dataset']} no. {row['num']}, {round(idx / num_rows * 100, 2)}% processed\")\n",
    "    #print(\"n_outliers\", n_outliers)\n",
    "\n",
    "    \"\"\"f, axes = plt.subplots(1, 2, sharey=True)\n",
    "    f.set_figwidth(12)\n",
    "\n",
    "    axes[0].set_title(\"Data including outliers\")\n",
    "    axes[1].set_title(\"Data without outliers\")\"\"\"\n",
    "\n",
    "    ts_list = [(original_time_series, 0)]\n",
    "\n",
    "    if n_outliers > 0:\n",
    "        ts_list.append((time_series_with_replaced_outliers, n_outliers))\n",
    "\n",
    "    max_dist_with_outliers = None\n",
    "    max_dist_without_outliers = None\n",
    "\n",
    "    for ts, num_outliers_removed in ts_list:\n",
    "\n",
    "        y_values = [tup[1] for tup in ts]\n",
    "\n",
    "        ts_properties.append({\n",
    "            'dataset': row['dataset'],\n",
    "            'num': row['num'],\n",
    "            'num_data_pts': len(ts),\n",
    "            'num_outliers_removed': num_outliers_removed,\n",
    "            'mean_diff': mean_diff(ts),\n",
    "            'max_fst_derivative': max(pd.Series(y_values).diff().dropna()),\n",
    "            'max_snd_derivative': max(pd.Series(y_values).diff().diff().dropna()),\n",
    "            'avg_fst_derivative': pd.Series(y_values).diff().dropna().mean(),\n",
    "            'avg_snd_derivative': pd.Series(y_values).diff().diff().dropna().mean()\n",
    "        })\n",
    "\n",
    "        min_num_coeffs = degree + 1\n",
    "        num_coeffs_count = generate_coeff_counts(len(original_time_series), degree, [compression_rate])[0]\n",
    "        num_coeffs = max(min_num_coeffs, num_coeffs_count - num_outliers_removed)\n",
    "        if num_coeffs_count - num_outliers_removed < min_num_coeffs:\n",
    "            print(\"num_coeffs_count is\",\n",
    "                  num_coeffs_count - num_outliers_removed,\n",
    "                  \"but required is at least\", min_num_coeffs)\n",
    "            print(\"setting num_coeffs to\", num_coeffs)\n",
    "        knots = generate_knot_vector_from_coeff_count(degree=degree, num_coeffs=num_coeffs)\n",
    "\n",
    "        for method in ['L8', 'L8 and L1']:#, 'LSQ', 'PAA', 'PLA', 'DFT']:\n",
    "            plot_method = False\n",
    "            axis = None\n",
    "            metrics = None\n",
    "\n",
    "            \"\"\"if num_outliers_removed == 0:\n",
    "                axis = axes[0]\n",
    "                axis.scatter([d[0] for d in ts], [d[1] for d in ts], color=\"red\", marker='.')\n",
    "            elif num_outliers_removed > 0:\n",
    "                axis = axes[1]\n",
    "                axis.scatter([d[0] for d in original_time_series], [d[1] for d in original_time_series], color=\"brown\",\n",
    "                             marker='.')\n",
    "                axis.scatter([d[0] for d in ts], [d[1] for d in ts], color=\"green\", marker='.')\"\"\"\n",
    "\n",
    "            fitted_curve = fit_curve_to_data(method, ts, knots, num_coeffs, degree)\n",
    "\n",
    "            if num_outliers_removed == 0:\n",
    "                metrics = calculate_error_measures(data_points=y_values, fitted_curve=fitted_curve)\n",
    "\n",
    "            elif num_outliers_removed > 0:\n",
    "                xs = [tup[0] for tup in time_series_without_outliers]\n",
    "                indicators = [1 if tup[0] in set(xs) else 0 for tup in original_time_series]\n",
    "                filtered_data_points = [y for y, indicator in\n",
    "                                        zip([tup[1] for tup in time_series_with_replaced_outliers], indicators) if\n",
    "                                        indicator == 1]\n",
    "                filtered_fitted_curve = [y for y, indicator in zip(fitted_curve, indicators) if indicator == 1]\n",
    "                metrics = calculate_error_measures(data_points=filtered_data_points, fitted_curve=filtered_fitted_curve)\n",
    "\n",
    "            #add_fitted_curve_to_plot(axis, [x[0] for x in ts], fitted_curve, metrics['max_dist'], label=method)\n",
    "\n",
    "            if method == 'L8':\n",
    "                if num_outliers_removed == 0:\n",
    "                    max_dist_with_outliers = metrics['max_dist']\n",
    "                elif num_outliers_removed > 0:\n",
    "                    max_dist_without_outliers = metrics['max_dist']\n",
    "\n",
    "            if (max_dist_with_outliers is not None) and (max_dist_without_outliers is not None):\n",
    "                if max_dist_without_outliers >= max_dist_with_outliers:\n",
    "                    worse_without_outliers_counter += 1\n",
    "                    continue\n",
    "\n",
    "            results.append({\n",
    "                'dataset': row['dataset'],\n",
    "                'num': row['num'],\n",
    "                'num_data_pts': len(ts),\n",
    "                'num_outliers_removed': num_outliers_removed if num_outliers_removed >= 0 else 0,\n",
    "                'num_coeffs': num_coeffs,\n",
    "                'method': method,\n",
    "                'max_dist': metrics['max_dist'],\n",
    "                'MSE': metrics['MSE'],\n",
    "                'MAE': metrics['MAE']\n",
    "            })\n",
    "\n",
    "        # print error measures for ts\n",
    "        \"\"\"if num_outliers_removed == 0:\n",
    "            df = pd.DataFrame(results)\n",
    "            current_df = df[(df['dataset'] == row['dataset']) & (df['num'] == row['num']) & (\n",
    "                    df['num_outliers_removed'] == num_outliers_removed)]\n",
    "            if not current_df.empty:\n",
    "                print(\"num_outliers_removed\", num_outliers_removed)\n",
    "                print(current_df.loc[:, ['method', 'max_dist', 'MSE', 'MAE']])\"\"\"\n",
    "\n",
    "    \"\"\"plt.subplots_adjust(bottom=0.25, top=0.95)\n",
    "    axes[0].legend(loc='upper right')\n",
    "    axes[1].legend(loc='upper right')\n",
    "    plt.tight_layout()\n",
    "    plt.show()\"\"\""
   ],
   "metadata": {
    "collapsed": false,
    "ExecuteTime": {
     "start_time": "2024-02-17T14:23:15.108681Z"
    }
   },
   "id": "ecdd3fff5896e735"
  },
  {
   "cell_type": "code",
   "execution_count": null,
   "outputs": [],
   "source": [
    "# OLD VERSION\n",
    "\"\"\"import matplotlib.pyplot as plt\n",
    "from tsfel import mean_diff\n",
    "from utils.data import remove_outliers, replace_outliers\n",
    "from utils.spline import generate_coeff_counts, generate_knot_vector_from_coeff_count\n",
    "from utils.fit import fit_max_spline, fit_max_l1_spline, fit_DFT, calculate_inverse_DFT, fit_LSQ_spline\n",
    "from sklearn.metrics import mean_squared_error, mean_absolute_error\n",
    "from utils.spline import evaluate_spline\n",
    "import pandas as pd\n",
    "\n",
    "results = []\n",
    "num_rows = len(data.index)\n",
    "ts_properties = []\n",
    "worse_without_outliers_counter = 0\n",
    "\n",
    "for idx, row in data.iterrows():\n",
    "    original_time_series = row['data']\n",
    "    #time_series_lof = remove_outliers(row['data'])\n",
    "\n",
    "    n_outliers = len(original_time_series) - len(remove_outliers(row['data']))\n",
    "\n",
    "    print(f\"{row['dataset']} no. {row['num']}, {round(idx / num_rows * 100, 1)}% processed\")\n",
    "    print(\"n_outliers\", n_outliers)\n",
    "\n",
    "    f, axes = plt.subplots(1, 2, sharey=True)\n",
    "    f.set_figwidth(12)\n",
    "\n",
    "    axes[0].set_title(\"Data including outliers\")\n",
    "    axes[1].set_title(\"Data without outliers\")\n",
    "\n",
    "    ts_list = [(original_time_series, 0)]\n",
    "    if n_outliers > 0:\n",
    "        time_series_lof = replace_outliers(ts_without_outliers=remove_outliers(original_time_series),original_xs=[t[0] for t in original_time_series])\n",
    "        ts_list.append((time_series_lof, n_outliers))\n",
    "\n",
    "    max_dist_with_outliers = None\n",
    "    max_dist_without_outliers = None\n",
    "\n",
    "    for ts, num_outliers_removed in ts_list:\n",
    "\n",
    "        ts_properties.append({\n",
    "            'dataset': row['dataset'],\n",
    "            'num': row['num'],\n",
    "            'num_data_pts': len(ts),\n",
    "            'num_outliers_removed': num_outliers_removed,\n",
    "            'mean_diff': mean_diff(ts),\n",
    "            'max_fst_derivative': max(pd.Series([tup[0] for tup in ts]).diff().dropna()),\n",
    "            'max_snd_derivative': max(pd.Series([tup[0] for tup in ts]).diff().diff().dropna()),\n",
    "            'avg_fst_derivative': pd.Series([tup[0] for tup in ts]).diff().dropna().mean(),\n",
    "            'avg_snd_derivative': pd.Series([tup[0] for tup in ts]).diff().diff().dropna().mean()\n",
    "        })\n",
    "\n",
    "        min_num_coeffs = degree + 1\n",
    "        num_coeffs_count = generate_coeff_counts(len(original_time_series), degree, [compression_rate])[0]\n",
    "        num_coeffs = max(min_num_coeffs, num_coeffs_count - num_outliers_removed)\n",
    "        if num_coeffs_count - num_outliers_removed < min_num_coeffs:\n",
    "            print(\"num_coeffs_count is\", num_coeffs_count - num_outliers_removed,\n",
    "                  \"but required is at least min_num_coeffs\")\n",
    "            print(\"setting num_coeffs to\", num_coeffs)\n",
    "        knots = generate_knot_vector_from_coeff_count(degree=degree, num_coeffs=num_coeffs)\n",
    "\n",
    "\n",
    "        for method in ['L8', 'L8 and L1', 'PAA', 'PLA', 'DFT']:#['L8', 'L8 and L1', 'LSQ', 'PAA', 'PLA', 'DFT']:\n",
    "            plot_method = False\n",
    "            axis = None\n",
    "\n",
    "            if method in ['L8']:  #['L8', 'L8 and L1', 'LSQ',  'PLA', 'DFT']: #['PAA']:#\n",
    "                plot_method = True\n",
    "\n",
    "            if num_outliers_removed > 0:\n",
    "                axis = axes[1]\n",
    "            else:\n",
    "                axis = axes[0]\n",
    "\n",
    "            metrics = fit_spline(method, ts, knots, num_coeffs, num_outliers_removed, plot=plot_method, axis=axis)\n",
    "\n",
    "            if method == 'L8':\n",
    "                if num_outliers_removed == 0:\n",
    "                    max_dist_with_outliers = metrics['max_dist']\n",
    "                elif num_outliers_removed > 0:\n",
    "                    max_dist_without_outliers = metrics['max_dist']\n",
    "\n",
    "            if (max_dist_with_outliers is not None) and (max_dist_without_outliers is not None):\n",
    "                if max_dist_without_outliers >= max_dist_with_outliers:\n",
    "                    worse_without_outliers_counter += 1\n",
    "                    continue\n",
    "\n",
    "            results.append({\n",
    "                'dataset': row['dataset'],\n",
    "                'num': row['num'],\n",
    "                'num_data_pts': len(ts),\n",
    "                'num_outliers_removed': num_outliers_removed if num_outliers_removed >= 0 else 0,\n",
    "                'num_coeffs': num_coeffs,\n",
    "                'method': method,\n",
    "                'max_dist': metrics['max_dist'],\n",
    "                'MSE': metrics['MSE'],\n",
    "                'MAE': metrics['MAE']\n",
    "            })\n",
    "\n",
    "        df = pd.DataFrame(results)\n",
    "        current_df = df[(df['dataset'] == row['dataset']) & (df['num'] == row['num']) & (\n",
    "                df['num_outliers_removed'] == num_outliers_removed)]\n",
    "        if not current_df.empty:\n",
    "            print(\"num_outliers_removed\", num_outliers_removed)\n",
    "            print(current_df.loc[:, ['method', 'max_dist', 'MSE', 'MAE']])\n",
    "\n",
    "        if num_outliers_removed == 0:\n",
    "            axis.scatter([d[0] for d in ts], [d[1] for d in ts], color=\"brown\", marker='.')\n",
    "        elif num_outliers_removed > 0:\n",
    "            axis.scatter([d[0] for d in original_time_series], [d[1] for d in original_time_series], color=\"brown\",\n",
    "                         marker='.')\n",
    "            axis.scatter([d[0] for d in ts], [d[1] for d in ts], color=\"green\", marker='.')\n",
    "\n",
    "    plt.subplots_adjust(bottom=0.25, top=0.95)\n",
    "    axes[0].legend(loc='upper right')\n",
    "    axes[1].legend(loc='upper right')\n",
    "    plt.tight_layout()\n",
    "    plt.show()\"\"\""
   ],
   "metadata": {
    "collapsed": false
   },
   "id": "df9e049cae8de17a"
  },
  {
   "cell_type": "markdown",
   "source": [
    "# EVALUATE RESULTS"
   ],
   "metadata": {
    "collapsed": false
   },
   "id": "4d7db5f0ea37dce9"
  },
  {
   "cell_type": "code",
   "execution_count": null,
   "outputs": [],
   "source": [
    "import pandas as pd\n",
    "\n",
    "pd.set_option('display.float_format', '{:.8f}'.format)\n",
    "\n",
    "e2_results = pd.DataFrame(results).drop_duplicates()\n",
    "mean_values = e2_results.groupby('method').agg({'max_dist': 'mean', 'MSE': 'mean', 'MAE': 'mean'}).reset_index()\n",
    "mean_values"
   ],
   "metadata": {
    "collapsed": false
   },
   "id": "e6ad56d23eba1ab4"
  },
  {
   "cell_type": "code",
   "execution_count": null,
   "outputs": [],
   "source": [
    "import matplotlib.pyplot as plt\n",
    "\n",
    "# Plot mean values\n",
    "plt.figure(figsize=(10, 6))\n",
    "\n",
    "plt.bar(mean_values['method'], mean_values['max_dist'], color='b', label='Mean Max Dist')\n",
    "plt.bar(mean_values['method'], mean_values['MAE'], alpha=0.7, color='g', label='Mean MAE')\n",
    "plt.bar(mean_values['method'], mean_values['MSE'], alpha=0.5, color='r', label='Mean MSE')\n",
    "plt.xlabel('Method')\n",
    "plt.ylabel('Mean Value')\n",
    "plt.title('Mean max. distance, MSE, and MAE per method')\n",
    "plt.legend()\n",
    "plt.xticks(rotation=45)\n",
    "plt.tight_layout()\n",
    "plt.show()"
   ],
   "metadata": {
    "collapsed": false
   },
   "id": "339091817f7442e4"
  },
  {
   "cell_type": "code",
   "execution_count": null,
   "outputs": [],
   "source": [
    "\"\"\"\n",
    "import pandas as pd\n",
    "pd.set_option('display.float_format', '{:.8f}'.format)\n",
    "\n",
    "# Calculate mean values for each accuracy measure separately\n",
    "mean_max_dist = e2_results.groupby('method')['max_dist'].mean().reset_index()\n",
    "mean_mse = e2_results.groupby('method')['MSE'].mean().reset_index()\n",
    "mean_mae = e2_results.groupby('method')['MAE'].mean().reset_index()\n",
    "\n",
    "# Merge the mean values into a single DataFrame\n",
    "mean_values = mean_max_dist.merge(mean_mse, on='method').merge(mean_mae, on='method')\n",
    "mean_values\"\"\""
   ],
   "metadata": {
    "collapsed": false
   },
   "id": "6b175b3639f03bd4"
  },
  {
   "cell_type": "code",
   "execution_count": null,
   "outputs": [],
   "source": [
    "# combine results df with ts properties df for analysis later\n",
    "ts_props = pd.DataFrame(ts_properties).drop_duplicates()\n",
    "e2 = pd.merge(e2_results, ts_props, how='left', on=['dataset', 'num', 'num_data_pts', 'num_outliers_removed'])\n",
    "e2"
   ],
   "metadata": {
    "collapsed": false
   },
   "id": "bbfa6f2750050b4a"
  },
  {
   "cell_type": "markdown",
   "source": [
    "# comparison: outliers vs. no outliers (for each method)"
   ],
   "metadata": {
    "collapsed": false
   },
   "id": "f74d656dff7e3e98"
  },
  {
   "cell_type": "code",
   "execution_count": null,
   "outputs": [],
   "source": [
    "df_no_outliers = e2[e2['num_outliers_removed'] > 0]\n",
    "df_with_outliers = e2[e2['num_outliers_removed'] == 0]\n",
    "#df_no_outliers = e2_results[e2_results['num_outliers_removed'] > 0]\n",
    "#df_with_outliers = e2_results[e2_results['num_outliers_removed'] == 0]\n",
    "\n",
    "mean_values_no_outliers = df_no_outliers.groupby('method').agg(\n",
    "    {'max_dist': 'mean', 'MSE': 'mean', 'MAE': 'mean'}).reset_index()\n",
    "mean_values_no_outliers.rename(columns={'max_dist': 'max_dist w/o o.', 'MSE': 'MSE w/o o.', 'MAE': 'MAE w/o o.'},\n",
    "                               inplace=True)\n",
    "\n",
    "mean_values_with_outliers = df_with_outliers.groupby('method').agg(\n",
    "    {'max_dist': 'mean', 'MSE': 'mean', 'MAE': 'mean'}).reset_index()\n",
    "mean_values_with_outliers.rename(columns={'max_dist': 'max_dist', 'MSE': 'MSE', 'MAE': 'MAE'}, inplace=True)\n",
    "\n",
    "mean_values_combined = pd.merge(mean_values_with_outliers, mean_values_no_outliers, on='method', how='outer')\n",
    "mean_values_combined"
   ],
   "metadata": {
    "collapsed": false
   },
   "id": "dd03082c7b9b0f3e"
  },
  {
   "cell_type": "code",
   "execution_count": null,
   "outputs": [],
   "source": [
    "import matplotlib.pyplot as plt\n",
    "import numpy as np\n",
    "\n",
    "# Example data (replace with your actual mean accuracy values)\n",
    "methods = mean_values_combined['method']\n",
    "metrics = ['MSE', 'MAE', 'max_dist']\n",
    "\n",
    "# Set the width of the bars\n",
    "bar_width = 0.2\n",
    "num_methods = len(methods)\n",
    "r = np.arange(num_methods)\n",
    "\n",
    "# Create subplots for each accuracy measure\n",
    "fig, axs = plt.subplots(len(metrics), figsize=(10, 15))\n",
    "\n",
    "for i, metric in enumerate(metrics):\n",
    "    metric_with_outliers = mean_values_combined[metric]\n",
    "    metric_without_outliers = mean_values_combined[f'{metric} w/o o.']\n",
    "\n",
    "    # Set the position of the bars for each accuracy measure\n",
    "    r1 = r + bar_width / 2\n",
    "    r2 = [x + bar_width for x in r1]\n",
    "\n",
    "    # Create the bar plots for each accuracy measure\n",
    "    axs[i].bar(r1, metric_with_outliers, color='b', width=bar_width, label='With Outliers')\n",
    "    axs[i].bar(r2, metric_without_outliers, color='r', width=bar_width, label='Without Outliers')\n",
    "\n",
    "    # Add labels and title\n",
    "    axs[i].set_xlabel('Method', fontweight='bold')\n",
    "    axs[i].set_ylabel(f'Mean {metric}', fontweight='bold')\n",
    "    axs[i].set_xticks([r + bar_width / 2 for r in range(num_methods)])\n",
    "    axs[i].set_xticklabels(methods, rotation=45, ha='right')\n",
    "    axs[i].set_title(f'Comparison of Mean {metric} with and without Outlier Removal')\n",
    "    axs[i].legend()\n",
    "\n",
    "# Adjust layout and show plot\n",
    "plt.tight_layout()\n",
    "plt.show()\n"
   ],
   "metadata": {
    "collapsed": false
   },
   "id": "faf1d74e8bbcbdd5"
  }
 ],
 "metadata": {
  "kernelspec": {
   "display_name": "Python 3",
   "language": "python",
   "name": "python3"
  },
  "language_info": {
   "codemirror_mode": {
    "name": "ipython",
    "version": 2
   },
   "file_extension": ".py",
   "mimetype": "text/x-python",
   "name": "python",
   "nbconvert_exporter": "python",
   "pygments_lexer": "ipython2",
   "version": "2.7.6"
  }
 },
 "nbformat": 4,
 "nbformat_minor": 5
}
